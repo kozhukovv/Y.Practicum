{
 "cells": [
  {
   "cell_type": "markdown",
   "source": [
    "# Предсказание коэффициента восстановления золота"
   ],
   "metadata": {
    "collapsed": false
   }
  },
  {
   "cell_type": "markdown",
   "source": [
    "Проект на основе создания прототипа модели машинного обучения для компании \"Цифра\". Компания разрабатывает ррешения для эффективной работы промышленных компаний.\n",
    "Цель работы заключается в предсказании коэффициента восстановления золота из руды."
   ],
   "metadata": {
    "collapsed": false
   }
  },
  {
   "cell_type": "markdown",
   "metadata": {},
   "source": [
    "## Загрузка библиотек и подготовка данных"
   ]
  },
  {
   "cell_type": "markdown",
   "metadata": {},
   "source": [
    "### Загрузка библиотек"
   ]
  },
  {
   "cell_type": "markdown",
   "metadata": {},
   "source": [
    "Загрузим необходимые библиотеки"
   ]
  },
  {
   "cell_type": "code",
   "execution_count": 1,
   "metadata": {},
   "outputs": [],
   "source": [
    "# Выгрузка стандартных билиотек\n",
    "import warnings\n",
    "from numpy.random import RandomState\n",
    "\n",
    "# Выгрузка сторонних библиотек\n",
    "import pandas as pd\n",
    "import matplotlib.pyplot as plt\n",
    "import seaborn as sns\n",
    "\n",
    "#Выгрузка модулей библиотек для машинного обучения\n",
    "from sklearn.preprocessing import StandardScaler\n",
    "from sklearn.dummy import DummyRegressor\n",
    "from sklearn.linear_model import LinearRegression\n",
    "from sklearn.tree import DecisionTreeRegressor\n",
    "from sklearn.ensemble import RandomForestRegressor\n",
    "from sklearn.model_selection import (\n",
    "    cross_val_score,\n",
    "    RandomizedSearchCV\n",
    ")\n",
    "from sklearn.metrics import (\n",
    "    mean_absolute_error,\n",
    "    make_scorer\n",
    ")\n",
    "\n",
    "# Объявление константы для \"фиксации случайности\"\n",
    "rnd_st = 12345\n",
    "state = RandomState(rnd_st)\n",
    "# Настройка игнорирования ошибок\n",
    "warnings.filterwarnings(\"ignore\")"
   ]
  },
  {
   "cell_type": "markdown",
   "metadata": {},
   "source": [
    "Напишем фукнцию для первичного обзора данных"
   ]
  },
  {
   "cell_type": "markdown",
   "metadata": {},
   "source": [
    "### Загрузка данных"
   ]
  },
  {
   "cell_type": "markdown",
   "metadata": {},
   "source": [
    "Выгрузим данные в отдельные переменные"
   ]
  },
  {
   "cell_type": "code",
   "execution_count": 38,
   "metadata": {},
   "outputs": [],
   "source": [
    "df_full = pd.read_csv('gold_recovery_full_new.csv')\n",
    "\n",
    "df_test = pd.read_csv('gold_recovery_test_new.csv')\n",
    "\n",
    "df_train = pd.read_csv('gold_recovery_train_new.csv')"
   ]
  },
  {
   "cell_type": "markdown",
   "metadata": {},
   "source": [
    "### Проверка формулы вычисления эффективности обогащения"
   ]
  },
  {
   "cell_type": "markdown",
   "metadata": {},
   "source": [
    "Эффективность обогащения рассчитывается по формуле: $Эффективность \\ обогащения = \\frac{C * (F-T)}{F*(C-T)}*100\\%$\n",
    "где:\n",
    "[*] C — доля золота в концентрате после флотации/очистки;\n",
    "[*] F — доля золота в сырье/концентрате до флотации/очистки;\n",
    "[*] T — доля золота в отвальных хвостах после флотации/очистки."
   ]
  },
  {
   "cell_type": "markdown",
   "metadata": {},
   "source": [
    "Нам требуется рассчитать rougher.output.recovery по тестовой выборке и сопоставить c существующим значением. Оценивать будем по средней абсолютной ошибке (MAE)"
   ]
  },
  {
   "cell_type": "code",
   "execution_count": 3,
   "metadata": {},
   "outputs": [],
   "source": [
    "T = df_train['rougher.output.tail_au']\n",
    "C = df_train['rougher.output.concentrate_au']\n",
    "F = df_train['rougher.input.feed_au']\n",
    "\n",
    "df_train['rougher.output.recovery.pred'] = ((C*(F - T))/(F*(C-T))) * 100"
   ]
  },
  {
   "cell_type": "markdown",
   "metadata": {},
   "source": [
    "Рассчитаем MAE"
   ]
  },
  {
   "cell_type": "code",
   "execution_count": null,
   "metadata": {},
   "outputs": [],
   "source": [
    "mean_absolute_error(df_train['rougher.output.recovery'], df_train['rougher.output.recovery.pred'])"
   ]
  },
  {
   "cell_type": "code",
   "execution_count": 5,
   "metadata": {},
   "outputs": [],
   "source": [
    "df_train = df_train.drop('rougher.output.recovery.pred', axis=1)"
   ]
  },
  {
   "cell_type": "markdown",
   "metadata": {},
   "source": [
    "**Вывод**: Значение ошибки предельно мало, эффективность обогащения в данных рассчитана корректно"
   ]
  },
  {
   "cell_type": "markdown",
   "metadata": {},
   "source": [
    "### Сопоставление данных обучающей и тестовой выборки"
   ]
  },
  {
   "cell_type": "markdown",
   "metadata": {},
   "source": [
    "Рассмотрим общую информацию об этих выборках"
   ]
  },
  {
   "cell_type": "code",
   "execution_count": 6,
   "metadata": {},
   "outputs": [
    {
     "name": "stdout",
     "output_type": "stream",
     "text": [
      "<class 'pandas.core.frame.DataFrame'>\n",
      "RangeIndex: 5290 entries, 0 to 5289\n",
      "Columns: 53 entries, date to secondary_cleaner.state.floatbank6_a_level\n",
      "dtypes: float64(52), object(1)\n",
      "memory usage: 2.1+ MB\n"
     ]
    }
   ],
   "source": [
    "df_test.info(verbose=False)"
   ]
  },
  {
   "cell_type": "code",
   "execution_count": 7,
   "metadata": {},
   "outputs": [
    {
     "name": "stdout",
     "output_type": "stream",
     "text": [
      "<class 'pandas.core.frame.DataFrame'>\n",
      "RangeIndex: 14149 entries, 0 to 14148\n",
      "Columns: 87 entries, date to secondary_cleaner.state.floatbank6_a_level\n",
      "dtypes: float64(86), object(1)\n",
      "memory usage: 9.4+ MB\n"
     ]
    }
   ],
   "source": [
    "df_train.info(verbose=False)"
   ]
  },
  {
   "cell_type": "markdown",
   "metadata": {},
   "source": [
    "Видно, что количество столбцов различаются и есть пропуски в обеих выборках. Рассмотрим, какие столбцы отсутствуют в тестовой выборке"
   ]
  },
  {
   "cell_type": "code",
   "execution_count": 8,
   "metadata": {},
   "outputs": [
    {
     "data": {
      "text/plain": [
       "['final.output.concentrate_ag',\n",
       " 'final.output.concentrate_pb',\n",
       " 'final.output.concentrate_sol',\n",
       " 'final.output.concentrate_au',\n",
       " 'final.output.recovery',\n",
       " 'final.output.tail_ag',\n",
       " 'final.output.tail_pb',\n",
       " 'final.output.tail_sol',\n",
       " 'final.output.tail_au',\n",
       " 'primary_cleaner.output.concentrate_ag',\n",
       " 'primary_cleaner.output.concentrate_pb',\n",
       " 'primary_cleaner.output.concentrate_sol',\n",
       " 'primary_cleaner.output.concentrate_au',\n",
       " 'primary_cleaner.output.tail_ag',\n",
       " 'primary_cleaner.output.tail_pb',\n",
       " 'primary_cleaner.output.tail_sol',\n",
       " 'primary_cleaner.output.tail_au',\n",
       " 'rougher.calculation.sulfate_to_au_concentrate',\n",
       " 'rougher.calculation.floatbank10_sulfate_to_au_feed',\n",
       " 'rougher.calculation.floatbank11_sulfate_to_au_feed',\n",
       " 'rougher.calculation.au_pb_ratio',\n",
       " 'rougher.output.concentrate_ag',\n",
       " 'rougher.output.concentrate_pb',\n",
       " 'rougher.output.concentrate_sol',\n",
       " 'rougher.output.concentrate_au',\n",
       " 'rougher.output.recovery',\n",
       " 'rougher.output.tail_ag',\n",
       " 'rougher.output.tail_pb',\n",
       " 'rougher.output.tail_sol',\n",
       " 'rougher.output.tail_au',\n",
       " 'secondary_cleaner.output.tail_ag',\n",
       " 'secondary_cleaner.output.tail_pb',\n",
       " 'secondary_cleaner.output.tail_sol',\n",
       " 'secondary_cleaner.output.tail_au']"
      ]
     },
     "execution_count": 8,
     "metadata": {},
     "output_type": "execute_result"
    }
   ],
   "source": [
    "a = df_train.columns.tolist()\n",
    "for i in df_test.columns:\n",
    "    if i in a:\n",
    "        a.remove(i)\n",
    "a"
   ]
  },
  {
   "cell_type": "markdown",
   "metadata": {},
   "source": [
    "**Промежуточный вывод:** Определено, что отсутствуют столбцы, характеризующие параметры продукта 'output' и расчетные характеристики 'calculation'.\n",
    "1. Значения параметров продукта отсутствуют, так как их можно узнать только после каждой стадии производства.\n",
    "2. Значения расчетных характеристик вероятнее всего не имеют целевого значения и считаются служебными, ссылаясь на их названия ('sulfate_to_au_concentrate', 'floatbank10_sulfate_to_au_feed', 'floatbank11_sulfate_to_au_feed', 'au_pb_ratio'."
   ]
  },
  {
   "cell_type": "markdown",
   "metadata": {},
   "source": [
    "### Предобработка данных"
   ]
  },
  {
   "cell_type": "markdown",
   "metadata": {},
   "source": [
    "#### Перевод в корректные типы данных"
   ]
  },
  {
   "cell_type": "markdown",
   "metadata": {},
   "source": [
    "Видно, что дата имеет некорректный формат. Переведем его в Datetime."
   ]
  },
  {
   "cell_type": "code",
   "execution_count": 9,
   "metadata": {
    "scrolled": true
   },
   "outputs": [
    {
     "name": "stdout",
     "output_type": "stream",
     "text": [
      "<class 'pandas.core.frame.DataFrame'>\n",
      "RangeIndex: 19439 entries, 0 to 19438\n",
      "Data columns (total 87 columns):\n",
      " #   Column                                              Non-Null Count  Dtype  \n",
      "---  ------                                              --------------  -----  \n",
      " 0   date                                                19439 non-null  object \n",
      " 1   final.output.concentrate_ag                         19438 non-null  float64\n",
      " 2   final.output.concentrate_pb                         19438 non-null  float64\n",
      " 3   final.output.concentrate_sol                        19228 non-null  float64\n",
      " 4   final.output.concentrate_au                         19439 non-null  float64\n",
      " 5   final.output.recovery                               19439 non-null  float64\n",
      " 6   final.output.tail_ag                                19438 non-null  float64\n",
      " 7   final.output.tail_pb                                19338 non-null  float64\n",
      " 8   final.output.tail_sol                               19433 non-null  float64\n",
      " 9   final.output.tail_au                                19439 non-null  float64\n",
      " 10  primary_cleaner.input.sulfate                       19415 non-null  float64\n",
      " 11  primary_cleaner.input.depressant                    19402 non-null  float64\n",
      " 12  primary_cleaner.input.feed_size                     19439 non-null  float64\n",
      " 13  primary_cleaner.input.xanthate                      19335 non-null  float64\n",
      " 14  primary_cleaner.output.concentrate_ag               19439 non-null  float64\n",
      " 15  primary_cleaner.output.concentrate_pb               19323 non-null  float64\n",
      " 16  primary_cleaner.output.concentrate_sol              19069 non-null  float64\n",
      " 17  primary_cleaner.output.concentrate_au               19439 non-null  float64\n",
      " 18  primary_cleaner.output.tail_ag                      19435 non-null  float64\n",
      " 19  primary_cleaner.output.tail_pb                      19418 non-null  float64\n",
      " 20  primary_cleaner.output.tail_sol                     19377 non-null  float64\n",
      " 21  primary_cleaner.output.tail_au                      19439 non-null  float64\n",
      " 22  primary_cleaner.state.floatbank8_a_air              19435 non-null  float64\n",
      " 23  primary_cleaner.state.floatbank8_a_level            19438 non-null  float64\n",
      " 24  primary_cleaner.state.floatbank8_b_air              19435 non-null  float64\n",
      " 25  primary_cleaner.state.floatbank8_b_level            19438 non-null  float64\n",
      " 26  primary_cleaner.state.floatbank8_c_air              19437 non-null  float64\n",
      " 27  primary_cleaner.state.floatbank8_c_level            19438 non-null  float64\n",
      " 28  primary_cleaner.state.floatbank8_d_air              19436 non-null  float64\n",
      " 29  primary_cleaner.state.floatbank8_d_level            19438 non-null  float64\n",
      " 30  rougher.calculation.sulfate_to_au_concentrate       19437 non-null  float64\n",
      " 31  rougher.calculation.floatbank10_sulfate_to_au_feed  19437 non-null  float64\n",
      " 32  rougher.calculation.floatbank11_sulfate_to_au_feed  19437 non-null  float64\n",
      " 33  rougher.calculation.au_pb_ratio                     19439 non-null  float64\n",
      " 34  rougher.input.feed_ag                               19439 non-null  float64\n",
      " 35  rougher.input.feed_pb                               19339 non-null  float64\n",
      " 36  rougher.input.feed_rate                             19428 non-null  float64\n",
      " 37  rougher.input.feed_size                             19294 non-null  float64\n",
      " 38  rougher.input.feed_sol                              19340 non-null  float64\n",
      " 39  rougher.input.feed_au                               19439 non-null  float64\n",
      " 40  rougher.input.floatbank10_sulfate                   19405 non-null  float64\n",
      " 41  rougher.input.floatbank10_xanthate                  19431 non-null  float64\n",
      " 42  rougher.input.floatbank11_sulfate                   19395 non-null  float64\n",
      " 43  rougher.input.floatbank11_xanthate                  18986 non-null  float64\n",
      " 44  rougher.output.concentrate_ag                       19439 non-null  float64\n",
      " 45  rougher.output.concentrate_pb                       19439 non-null  float64\n",
      " 46  rougher.output.concentrate_sol                      19416 non-null  float64\n",
      " 47  rougher.output.concentrate_au                       19439 non-null  float64\n",
      " 48  rougher.output.recovery                             19439 non-null  float64\n",
      " 49  rougher.output.tail_ag                              19438 non-null  float64\n",
      " 50  rougher.output.tail_pb                              19439 non-null  float64\n",
      " 51  rougher.output.tail_sol                             19439 non-null  float64\n",
      " 52  rougher.output.tail_au                              19439 non-null  float64\n",
      " 53  rougher.state.floatbank10_a_air                     19438 non-null  float64\n",
      " 54  rougher.state.floatbank10_a_level                   19438 non-null  float64\n",
      " 55  rougher.state.floatbank10_b_air                     19438 non-null  float64\n",
      " 56  rougher.state.floatbank10_b_level                   19438 non-null  float64\n",
      " 57  rougher.state.floatbank10_c_air                     19438 non-null  float64\n",
      " 58  rougher.state.floatbank10_c_level                   19438 non-null  float64\n",
      " 59  rougher.state.floatbank10_d_air                     19439 non-null  float64\n",
      " 60  rougher.state.floatbank10_d_level                   19439 non-null  float64\n",
      " 61  rougher.state.floatbank10_e_air                     19003 non-null  float64\n",
      " 62  rougher.state.floatbank10_e_level                   19439 non-null  float64\n",
      " 63  rougher.state.floatbank10_f_air                     19439 non-null  float64\n",
      " 64  rougher.state.floatbank10_f_level                   19439 non-null  float64\n",
      " 65  secondary_cleaner.output.tail_ag                    19437 non-null  float64\n",
      " 66  secondary_cleaner.output.tail_pb                    19427 non-null  float64\n",
      " 67  secondary_cleaner.output.tail_sol                   17691 non-null  float64\n",
      " 68  secondary_cleaner.output.tail_au                    19439 non-null  float64\n",
      " 69  secondary_cleaner.state.floatbank2_a_air            19219 non-null  float64\n",
      " 70  secondary_cleaner.state.floatbank2_a_level          19438 non-null  float64\n",
      " 71  secondary_cleaner.state.floatbank2_b_air            19416 non-null  float64\n",
      " 72  secondary_cleaner.state.floatbank2_b_level          19438 non-null  float64\n",
      " 73  secondary_cleaner.state.floatbank3_a_air            19426 non-null  float64\n",
      " 74  secondary_cleaner.state.floatbank3_a_level          19438 non-null  float64\n",
      " 75  secondary_cleaner.state.floatbank3_b_air            19438 non-null  float64\n",
      " 76  secondary_cleaner.state.floatbank3_b_level          19438 non-null  float64\n",
      " 77  secondary_cleaner.state.floatbank4_a_air            19433 non-null  float64\n",
      " 78  secondary_cleaner.state.floatbank4_a_level          19438 non-null  float64\n",
      " 79  secondary_cleaner.state.floatbank4_b_air            19438 non-null  float64\n",
      " 80  secondary_cleaner.state.floatbank4_b_level          19438 non-null  float64\n",
      " 81  secondary_cleaner.state.floatbank5_a_air            19438 non-null  float64\n",
      " 82  secondary_cleaner.state.floatbank5_a_level          19438 non-null  float64\n",
      " 83  secondary_cleaner.state.floatbank5_b_air            19438 non-null  float64\n",
      " 84  secondary_cleaner.state.floatbank5_b_level          19438 non-null  float64\n",
      " 85  secondary_cleaner.state.floatbank6_a_air            19437 non-null  float64\n",
      " 86  secondary_cleaner.state.floatbank6_a_level          19438 non-null  float64\n",
      "dtypes: float64(86), object(1)\n",
      "memory usage: 12.9+ MB\n"
     ]
    }
   ],
   "source": [
    "df_full.info()"
   ]
  },
  {
   "cell_type": "code",
   "execution_count": 10,
   "metadata": {
    "scrolled": true
   },
   "outputs": [
    {
     "name": "stdout",
     "output_type": "stream",
     "text": [
      "<class 'pandas.core.frame.DataFrame'>\n",
      "RangeIndex: 14149 entries, 0 to 14148\n",
      "Data columns (total 87 columns):\n",
      " #   Column                                              Non-Null Count  Dtype  \n",
      "---  ------                                              --------------  -----  \n",
      " 0   date                                                14149 non-null  object \n",
      " 1   final.output.concentrate_ag                         14148 non-null  float64\n",
      " 2   final.output.concentrate_pb                         14148 non-null  float64\n",
      " 3   final.output.concentrate_sol                        13938 non-null  float64\n",
      " 4   final.output.concentrate_au                         14149 non-null  float64\n",
      " 5   final.output.recovery                               14149 non-null  float64\n",
      " 6   final.output.tail_ag                                14149 non-null  float64\n",
      " 7   final.output.tail_pb                                14049 non-null  float64\n",
      " 8   final.output.tail_sol                               14144 non-null  float64\n",
      " 9   final.output.tail_au                                14149 non-null  float64\n",
      " 10  primary_cleaner.input.sulfate                       14129 non-null  float64\n",
      " 11  primary_cleaner.input.depressant                    14117 non-null  float64\n",
      " 12  primary_cleaner.input.feed_size                     14149 non-null  float64\n",
      " 13  primary_cleaner.input.xanthate                      14049 non-null  float64\n",
      " 14  primary_cleaner.output.concentrate_ag               14149 non-null  float64\n",
      " 15  primary_cleaner.output.concentrate_pb               14063 non-null  float64\n",
      " 16  primary_cleaner.output.concentrate_sol              13863 non-null  float64\n",
      " 17  primary_cleaner.output.concentrate_au               14149 non-null  float64\n",
      " 18  primary_cleaner.output.tail_ag                      14148 non-null  float64\n",
      " 19  primary_cleaner.output.tail_pb                      14134 non-null  float64\n",
      " 20  primary_cleaner.output.tail_sol                     14103 non-null  float64\n",
      " 21  primary_cleaner.output.tail_au                      14149 non-null  float64\n",
      " 22  primary_cleaner.state.floatbank8_a_air              14145 non-null  float64\n",
      " 23  primary_cleaner.state.floatbank8_a_level            14148 non-null  float64\n",
      " 24  primary_cleaner.state.floatbank8_b_air              14145 non-null  float64\n",
      " 25  primary_cleaner.state.floatbank8_b_level            14148 non-null  float64\n",
      " 26  primary_cleaner.state.floatbank8_c_air              14147 non-null  float64\n",
      " 27  primary_cleaner.state.floatbank8_c_level            14148 non-null  float64\n",
      " 28  primary_cleaner.state.floatbank8_d_air              14146 non-null  float64\n",
      " 29  primary_cleaner.state.floatbank8_d_level            14148 non-null  float64\n",
      " 30  rougher.calculation.sulfate_to_au_concentrate       14148 non-null  float64\n",
      " 31  rougher.calculation.floatbank10_sulfate_to_au_feed  14148 non-null  float64\n",
      " 32  rougher.calculation.floatbank11_sulfate_to_au_feed  14148 non-null  float64\n",
      " 33  rougher.calculation.au_pb_ratio                     14149 non-null  float64\n",
      " 34  rougher.input.feed_ag                               14149 non-null  float64\n",
      " 35  rougher.input.feed_pb                               14049 non-null  float64\n",
      " 36  rougher.input.feed_rate                             14141 non-null  float64\n",
      " 37  rougher.input.feed_size                             14005 non-null  float64\n",
      " 38  rougher.input.feed_sol                              14071 non-null  float64\n",
      " 39  rougher.input.feed_au                               14149 non-null  float64\n",
      " 40  rougher.input.floatbank10_sulfate                   14120 non-null  float64\n",
      " 41  rougher.input.floatbank10_xanthate                  14141 non-null  float64\n",
      " 42  rougher.input.floatbank11_sulfate                   14113 non-null  float64\n",
      " 43  rougher.input.floatbank11_xanthate                  13721 non-null  float64\n",
      " 44  rougher.output.concentrate_ag                       14149 non-null  float64\n",
      " 45  rougher.output.concentrate_pb                       14149 non-null  float64\n",
      " 46  rougher.output.concentrate_sol                      14127 non-null  float64\n",
      " 47  rougher.output.concentrate_au                       14149 non-null  float64\n",
      " 48  rougher.output.recovery                             14149 non-null  float64\n",
      " 49  rougher.output.tail_ag                              14148 non-null  float64\n",
      " 50  rougher.output.tail_pb                              14149 non-null  float64\n",
      " 51  rougher.output.tail_sol                             14149 non-null  float64\n",
      " 52  rougher.output.tail_au                              14149 non-null  float64\n",
      " 53  rougher.state.floatbank10_a_air                     14148 non-null  float64\n",
      " 54  rougher.state.floatbank10_a_level                   14148 non-null  float64\n",
      " 55  rougher.state.floatbank10_b_air                     14148 non-null  float64\n",
      " 56  rougher.state.floatbank10_b_level                   14148 non-null  float64\n",
      " 57  rougher.state.floatbank10_c_air                     14148 non-null  float64\n",
      " 58  rougher.state.floatbank10_c_level                   14148 non-null  float64\n",
      " 59  rougher.state.floatbank10_d_air                     14149 non-null  float64\n",
      " 60  rougher.state.floatbank10_d_level                   14149 non-null  float64\n",
      " 61  rougher.state.floatbank10_e_air                     13713 non-null  float64\n",
      " 62  rougher.state.floatbank10_e_level                   14149 non-null  float64\n",
      " 63  rougher.state.floatbank10_f_air                     14149 non-null  float64\n",
      " 64  rougher.state.floatbank10_f_level                   14149 non-null  float64\n",
      " 65  secondary_cleaner.output.tail_ag                    14147 non-null  float64\n",
      " 66  secondary_cleaner.output.tail_pb                    14139 non-null  float64\n",
      " 67  secondary_cleaner.output.tail_sol                   12544 non-null  float64\n",
      " 68  secondary_cleaner.output.tail_au                    14149 non-null  float64\n",
      " 69  secondary_cleaner.state.floatbank2_a_air            13932 non-null  float64\n",
      " 70  secondary_cleaner.state.floatbank2_a_level          14148 non-null  float64\n",
      " 71  secondary_cleaner.state.floatbank2_b_air            14128 non-null  float64\n",
      " 72  secondary_cleaner.state.floatbank2_b_level          14148 non-null  float64\n",
      " 73  secondary_cleaner.state.floatbank3_a_air            14145 non-null  float64\n",
      " 74  secondary_cleaner.state.floatbank3_a_level          14148 non-null  float64\n",
      " 75  secondary_cleaner.state.floatbank3_b_air            14148 non-null  float64\n",
      " 76  secondary_cleaner.state.floatbank3_b_level          14148 non-null  float64\n",
      " 77  secondary_cleaner.state.floatbank4_a_air            14143 non-null  float64\n",
      " 78  secondary_cleaner.state.floatbank4_a_level          14148 non-null  float64\n",
      " 79  secondary_cleaner.state.floatbank4_b_air            14148 non-null  float64\n",
      " 80  secondary_cleaner.state.floatbank4_b_level          14148 non-null  float64\n",
      " 81  secondary_cleaner.state.floatbank5_a_air            14148 non-null  float64\n",
      " 82  secondary_cleaner.state.floatbank5_a_level          14148 non-null  float64\n",
      " 83  secondary_cleaner.state.floatbank5_b_air            14148 non-null  float64\n",
      " 84  secondary_cleaner.state.floatbank5_b_level          14148 non-null  float64\n",
      " 85  secondary_cleaner.state.floatbank6_a_air            14147 non-null  float64\n",
      " 86  secondary_cleaner.state.floatbank6_a_level          14148 non-null  float64\n",
      "dtypes: float64(86), object(1)\n",
      "memory usage: 9.4+ MB\n"
     ]
    }
   ],
   "source": [
    "df_train.info()"
   ]
  },
  {
   "cell_type": "code",
   "execution_count": 11,
   "metadata": {
    "scrolled": true
   },
   "outputs": [
    {
     "name": "stdout",
     "output_type": "stream",
     "text": [
      "<class 'pandas.core.frame.DataFrame'>\n",
      "RangeIndex: 5290 entries, 0 to 5289\n",
      "Data columns (total 53 columns):\n",
      " #   Column                                      Non-Null Count  Dtype  \n",
      "---  ------                                      --------------  -----  \n",
      " 0   date                                        5290 non-null   object \n",
      " 1   primary_cleaner.input.sulfate               5286 non-null   float64\n",
      " 2   primary_cleaner.input.depressant            5285 non-null   float64\n",
      " 3   primary_cleaner.input.feed_size             5290 non-null   float64\n",
      " 4   primary_cleaner.input.xanthate              5286 non-null   float64\n",
      " 5   primary_cleaner.state.floatbank8_a_air      5290 non-null   float64\n",
      " 6   primary_cleaner.state.floatbank8_a_level    5290 non-null   float64\n",
      " 7   primary_cleaner.state.floatbank8_b_air      5290 non-null   float64\n",
      " 8   primary_cleaner.state.floatbank8_b_level    5290 non-null   float64\n",
      " 9   primary_cleaner.state.floatbank8_c_air      5290 non-null   float64\n",
      " 10  primary_cleaner.state.floatbank8_c_level    5290 non-null   float64\n",
      " 11  primary_cleaner.state.floatbank8_d_air      5290 non-null   float64\n",
      " 12  primary_cleaner.state.floatbank8_d_level    5290 non-null   float64\n",
      " 13  rougher.input.feed_ag                       5290 non-null   float64\n",
      " 14  rougher.input.feed_pb                       5290 non-null   float64\n",
      " 15  rougher.input.feed_rate                     5287 non-null   float64\n",
      " 16  rougher.input.feed_size                     5289 non-null   float64\n",
      " 17  rougher.input.feed_sol                      5269 non-null   float64\n",
      " 18  rougher.input.feed_au                       5290 non-null   float64\n",
      " 19  rougher.input.floatbank10_sulfate           5285 non-null   float64\n",
      " 20  rougher.input.floatbank10_xanthate          5290 non-null   float64\n",
      " 21  rougher.input.floatbank11_sulfate           5282 non-null   float64\n",
      " 22  rougher.input.floatbank11_xanthate          5265 non-null   float64\n",
      " 23  rougher.state.floatbank10_a_air             5290 non-null   float64\n",
      " 24  rougher.state.floatbank10_a_level           5290 non-null   float64\n",
      " 25  rougher.state.floatbank10_b_air             5290 non-null   float64\n",
      " 26  rougher.state.floatbank10_b_level           5290 non-null   float64\n",
      " 27  rougher.state.floatbank10_c_air             5290 non-null   float64\n",
      " 28  rougher.state.floatbank10_c_level           5290 non-null   float64\n",
      " 29  rougher.state.floatbank10_d_air             5290 non-null   float64\n",
      " 30  rougher.state.floatbank10_d_level           5290 non-null   float64\n",
      " 31  rougher.state.floatbank10_e_air             5290 non-null   float64\n",
      " 32  rougher.state.floatbank10_e_level           5290 non-null   float64\n",
      " 33  rougher.state.floatbank10_f_air             5290 non-null   float64\n",
      " 34  rougher.state.floatbank10_f_level           5290 non-null   float64\n",
      " 35  secondary_cleaner.state.floatbank2_a_air    5287 non-null   float64\n",
      " 36  secondary_cleaner.state.floatbank2_a_level  5290 non-null   float64\n",
      " 37  secondary_cleaner.state.floatbank2_b_air    5288 non-null   float64\n",
      " 38  secondary_cleaner.state.floatbank2_b_level  5290 non-null   float64\n",
      " 39  secondary_cleaner.state.floatbank3_a_air    5281 non-null   float64\n",
      " 40  secondary_cleaner.state.floatbank3_a_level  5290 non-null   float64\n",
      " 41  secondary_cleaner.state.floatbank3_b_air    5290 non-null   float64\n",
      " 42  secondary_cleaner.state.floatbank3_b_level  5290 non-null   float64\n",
      " 43  secondary_cleaner.state.floatbank4_a_air    5290 non-null   float64\n",
      " 44  secondary_cleaner.state.floatbank4_a_level  5290 non-null   float64\n",
      " 45  secondary_cleaner.state.floatbank4_b_air    5290 non-null   float64\n",
      " 46  secondary_cleaner.state.floatbank4_b_level  5290 non-null   float64\n",
      " 47  secondary_cleaner.state.floatbank5_a_air    5290 non-null   float64\n",
      " 48  secondary_cleaner.state.floatbank5_a_level  5290 non-null   float64\n",
      " 49  secondary_cleaner.state.floatbank5_b_air    5290 non-null   float64\n",
      " 50  secondary_cleaner.state.floatbank5_b_level  5290 non-null   float64\n",
      " 51  secondary_cleaner.state.floatbank6_a_air    5290 non-null   float64\n",
      " 52  secondary_cleaner.state.floatbank6_a_level  5290 non-null   float64\n",
      "dtypes: float64(52), object(1)\n",
      "memory usage: 2.1+ MB\n"
     ]
    }
   ],
   "source": [
    "df_test.info()"
   ]
  },
  {
   "cell_type": "markdown",
   "metadata": {},
   "source": [
    "Помимо этого, стоит округлить значения дат в тестовых и тренировочных выборках до часов, как представлено в полном датафрейме."
   ]
  },
  {
   "cell_type": "code",
   "execution_count": 12,
   "metadata": {},
   "outputs": [],
   "source": [
    "for df in [df_full, df_train, df_test]:\n",
    "    df['date'] = pd.to_datetime(df['date'], format='%Y-%m-%d %H:%M:%S').round('H')\n"
   ]
  },
  {
   "cell_type": "markdown",
   "metadata": {},
   "source": [
    "#### Работа с пропусками"
   ]
  },
  {
   "cell_type": "markdown",
   "metadata": {},
   "source": [
    "Оценим количество пропущенных значений в тренировочной и тестовой выборках"
   ]
  },
  {
   "cell_type": "code",
   "execution_count": 13,
   "metadata": {},
   "outputs": [
    {
     "data": {
      "text/plain": [
       "date                                            0\n",
       "final.output.concentrate_ag                     1\n",
       "final.output.concentrate_pb                     1\n",
       "final.output.concentrate_sol                  211\n",
       "final.output.concentrate_au                     0\n",
       "                                             ... \n",
       "secondary_cleaner.state.floatbank5_a_level      1\n",
       "secondary_cleaner.state.floatbank5_b_air        1\n",
       "secondary_cleaner.state.floatbank5_b_level      1\n",
       "secondary_cleaner.state.floatbank6_a_air        2\n",
       "secondary_cleaner.state.floatbank6_a_level      1\n",
       "Length: 87, dtype: int64"
      ]
     },
     "execution_count": 13,
     "metadata": {},
     "output_type": "execute_result"
    }
   ],
   "source": [
    "df_train.isna().sum()"
   ]
  },
  {
   "cell_type": "code",
   "execution_count": 14,
   "metadata": {
    "scrolled": true
   },
   "outputs": [
    {
     "data": {
      "text/plain": [
       "date                                           0\n",
       "primary_cleaner.input.sulfate                  4\n",
       "primary_cleaner.input.depressant               5\n",
       "primary_cleaner.input.feed_size                0\n",
       "primary_cleaner.input.xanthate                 4\n",
       "primary_cleaner.state.floatbank8_a_air         0\n",
       "primary_cleaner.state.floatbank8_a_level       0\n",
       "primary_cleaner.state.floatbank8_b_air         0\n",
       "primary_cleaner.state.floatbank8_b_level       0\n",
       "primary_cleaner.state.floatbank8_c_air         0\n",
       "primary_cleaner.state.floatbank8_c_level       0\n",
       "primary_cleaner.state.floatbank8_d_air         0\n",
       "primary_cleaner.state.floatbank8_d_level       0\n",
       "rougher.input.feed_ag                          0\n",
       "rougher.input.feed_pb                          0\n",
       "rougher.input.feed_rate                        3\n",
       "rougher.input.feed_size                        1\n",
       "rougher.input.feed_sol                        21\n",
       "rougher.input.feed_au                          0\n",
       "rougher.input.floatbank10_sulfate              5\n",
       "rougher.input.floatbank10_xanthate             0\n",
       "rougher.input.floatbank11_sulfate              8\n",
       "rougher.input.floatbank11_xanthate            25\n",
       "rougher.state.floatbank10_a_air                0\n",
       "rougher.state.floatbank10_a_level              0\n",
       "rougher.state.floatbank10_b_air                0\n",
       "rougher.state.floatbank10_b_level              0\n",
       "rougher.state.floatbank10_c_air                0\n",
       "rougher.state.floatbank10_c_level              0\n",
       "rougher.state.floatbank10_d_air                0\n",
       "rougher.state.floatbank10_d_level              0\n",
       "rougher.state.floatbank10_e_air                0\n",
       "rougher.state.floatbank10_e_level              0\n",
       "rougher.state.floatbank10_f_air                0\n",
       "rougher.state.floatbank10_f_level              0\n",
       "secondary_cleaner.state.floatbank2_a_air       3\n",
       "secondary_cleaner.state.floatbank2_a_level     0\n",
       "secondary_cleaner.state.floatbank2_b_air       2\n",
       "secondary_cleaner.state.floatbank2_b_level     0\n",
       "secondary_cleaner.state.floatbank3_a_air       9\n",
       "secondary_cleaner.state.floatbank3_a_level     0\n",
       "secondary_cleaner.state.floatbank3_b_air       0\n",
       "secondary_cleaner.state.floatbank3_b_level     0\n",
       "secondary_cleaner.state.floatbank4_a_air       0\n",
       "secondary_cleaner.state.floatbank4_a_level     0\n",
       "secondary_cleaner.state.floatbank4_b_air       0\n",
       "secondary_cleaner.state.floatbank4_b_level     0\n",
       "secondary_cleaner.state.floatbank5_a_air       0\n",
       "secondary_cleaner.state.floatbank5_a_level     0\n",
       "secondary_cleaner.state.floatbank5_b_air       0\n",
       "secondary_cleaner.state.floatbank5_b_level     0\n",
       "secondary_cleaner.state.floatbank6_a_air       0\n",
       "secondary_cleaner.state.floatbank6_a_level     0\n",
       "dtype: int64"
      ]
     },
     "execution_count": 14,
     "metadata": {},
     "output_type": "execute_result"
    }
   ],
   "source": [
    "df_test.isna().sum()"
   ]
  },
  {
   "cell_type": "markdown",
   "metadata": {},
   "source": [
    "С учетом того, что Соседние по времени параметры часто похожи, предлагается заполнять пропуски близким по часу предыдущим значением."
   ]
  },
  {
   "cell_type": "code",
   "execution_count": 15,
   "metadata": {},
   "outputs": [],
   "source": [
    "df_train = df_train.fillna(method='ffill')\n",
    "df_test = df_test.fillna(method='ffill')\n",
    "df_full = df_full.fillna(method='ffill')"
   ]
  },
  {
   "cell_type": "code",
   "execution_count": 16,
   "metadata": {},
   "outputs": [
    {
     "data": {
      "text/plain": [
       "date                                          0\n",
       "final.output.concentrate_ag                   0\n",
       "final.output.concentrate_pb                   0\n",
       "final.output.concentrate_sol                  0\n",
       "final.output.concentrate_au                   0\n",
       "                                             ..\n",
       "secondary_cleaner.state.floatbank5_a_level    0\n",
       "secondary_cleaner.state.floatbank5_b_air      0\n",
       "secondary_cleaner.state.floatbank5_b_level    0\n",
       "secondary_cleaner.state.floatbank6_a_air      0\n",
       "secondary_cleaner.state.floatbank6_a_level    0\n",
       "Length: 87, dtype: int64"
      ]
     },
     "execution_count": 16,
     "metadata": {},
     "output_type": "execute_result"
    }
   ],
   "source": [
    "df_train.isna().sum()"
   ]
  },
  {
   "cell_type": "code",
   "execution_count": 17,
   "metadata": {
    "scrolled": true
   },
   "outputs": [
    {
     "data": {
      "text/plain": [
       "date                                          0\n",
       "primary_cleaner.input.sulfate                 0\n",
       "primary_cleaner.input.depressant              0\n",
       "primary_cleaner.input.feed_size               0\n",
       "primary_cleaner.input.xanthate                0\n",
       "primary_cleaner.state.floatbank8_a_air        0\n",
       "primary_cleaner.state.floatbank8_a_level      0\n",
       "primary_cleaner.state.floatbank8_b_air        0\n",
       "primary_cleaner.state.floatbank8_b_level      0\n",
       "primary_cleaner.state.floatbank8_c_air        0\n",
       "primary_cleaner.state.floatbank8_c_level      0\n",
       "primary_cleaner.state.floatbank8_d_air        0\n",
       "primary_cleaner.state.floatbank8_d_level      0\n",
       "rougher.input.feed_ag                         0\n",
       "rougher.input.feed_pb                         0\n",
       "rougher.input.feed_rate                       0\n",
       "rougher.input.feed_size                       0\n",
       "rougher.input.feed_sol                        0\n",
       "rougher.input.feed_au                         0\n",
       "rougher.input.floatbank10_sulfate             0\n",
       "rougher.input.floatbank10_xanthate            0\n",
       "rougher.input.floatbank11_sulfate             0\n",
       "rougher.input.floatbank11_xanthate            0\n",
       "rougher.state.floatbank10_a_air               0\n",
       "rougher.state.floatbank10_a_level             0\n",
       "rougher.state.floatbank10_b_air               0\n",
       "rougher.state.floatbank10_b_level             0\n",
       "rougher.state.floatbank10_c_air               0\n",
       "rougher.state.floatbank10_c_level             0\n",
       "rougher.state.floatbank10_d_air               0\n",
       "rougher.state.floatbank10_d_level             0\n",
       "rougher.state.floatbank10_e_air               0\n",
       "rougher.state.floatbank10_e_level             0\n",
       "rougher.state.floatbank10_f_air               0\n",
       "rougher.state.floatbank10_f_level             0\n",
       "secondary_cleaner.state.floatbank2_a_air      0\n",
       "secondary_cleaner.state.floatbank2_a_level    0\n",
       "secondary_cleaner.state.floatbank2_b_air      0\n",
       "secondary_cleaner.state.floatbank2_b_level    0\n",
       "secondary_cleaner.state.floatbank3_a_air      0\n",
       "secondary_cleaner.state.floatbank3_a_level    0\n",
       "secondary_cleaner.state.floatbank3_b_air      0\n",
       "secondary_cleaner.state.floatbank3_b_level    0\n",
       "secondary_cleaner.state.floatbank4_a_air      0\n",
       "secondary_cleaner.state.floatbank4_a_level    0\n",
       "secondary_cleaner.state.floatbank4_b_air      0\n",
       "secondary_cleaner.state.floatbank4_b_level    0\n",
       "secondary_cleaner.state.floatbank5_a_air      0\n",
       "secondary_cleaner.state.floatbank5_a_level    0\n",
       "secondary_cleaner.state.floatbank5_b_air      0\n",
       "secondary_cleaner.state.floatbank5_b_level    0\n",
       "secondary_cleaner.state.floatbank6_a_air      0\n",
       "secondary_cleaner.state.floatbank6_a_level    0\n",
       "dtype: int64"
      ]
     },
     "execution_count": 17,
     "metadata": {},
     "output_type": "execute_result"
    }
   ],
   "source": [
    "df_test.isna().sum()"
   ]
  },
  {
   "cell_type": "markdown",
   "metadata": {},
   "source": [
    "#### Удаление лишних столбцов из тренировочной выборки"
   ]
  },
  {
   "cell_type": "markdown",
   "metadata": {},
   "source": [
    "Уравняем количество столбцов в выборках, но перед этим добавим в тестовую выборку два столбца с целевыми признаками"
   ]
  },
  {
   "cell_type": "code",
   "execution_count": 18,
   "metadata": {},
   "outputs": [],
   "source": [
    "for column in ['rougher.output.recovery', 'final.output.recovery']:\n",
    "    df_test[column] = (\n",
    "        df_full.loc[df_full['date'].isin(df_test['date']), column]\n",
    "        .reset_index(drop=True)\n",
    "    )"
   ]
  },
  {
   "cell_type": "code",
   "execution_count": 19,
   "metadata": {},
   "outputs": [],
   "source": [
    "for i in df_train.columns:\n",
    "    if i not in df_test.columns:\n",
    "        df_train = df_train.drop(i, axis=1)"
   ]
  },
  {
   "cell_type": "markdown",
   "metadata": {},
   "source": [
    "## Анализ данных"
   ]
  },
  {
   "cell_type": "markdown",
   "metadata": {},
   "source": [
    "### Исследование изменения концентрации элементов на каждом этапе"
   ]
  },
  {
   "cell_type": "markdown",
   "metadata": {},
   "source": [
    "Для начала выделим данные под каждый элемент. В данных должны содержаться столбцы с концентрациями на каждом этапе обработки руды."
   ]
  },
  {
   "cell_type": "code",
   "execution_count": 20,
   "metadata": {},
   "outputs": [],
   "source": [
    "for val in ['au', 'ag', 'pb']:\n",
    "    globals()[f\"df_{val}\"] = df_full[[f'rougher.input.feed_{val}',\n",
    "                                      f'rougher.output.concentrate_{val}',\n",
    "                                      f'primary_cleaner.output.concentrate_{val}',\n",
    "                                      f'final.output.concentrate_{val}']]\n",
    "    globals()[f\"df_{val}\"].columns = ['Исходная','Флотация','Первичная_очистка','Вторичная_очистка']\n"
   ]
  },
  {
   "cell_type": "markdown",
   "metadata": {},
   "source": [
    "Построим \"Ящики с усами\" для визуального анализа."
   ]
  },
  {
   "cell_type": "code",
   "execution_count": 21,
   "metadata": {},
   "outputs": [
    {
     "data": {
      "image/png": "[encoded data removed]",
      "text/plain": [
       "<Figure size 720x1080 with 3 Axes>"
      ]
     },
     "metadata": {
      "needs_background": "light"
     },
     "output_type": "display_data"
    }
   ],
   "source": [
    "fig, ax = plt.subplots(3,1, figsize=(10,15))\n",
    "for ind, val in enumerate(['Au', 'Ag', 'Pb']):\n",
    "    ax[ind].set_title(f'Содержание {val}')\n",
    "    ax[ind].set_ylabel('Виды обработки')\n",
    "    ax[ind].set_xlabel('Концентрация, %')\n",
    "    ax[ind].locator_params(axis='x', nbins= 20)\n",
    "    sns.boxplot(data=globals()[f\"df_{val.lower()}\"], ax=ax[ind], showfliers=False, palette='Spectral', orient='h',)"
   ]
  },
  {
   "cell_type": "markdown",
   "metadata": {},
   "source": [
    "**Промежуточный вывод:**\n",
    "*Флотация:*\n",
    "После проведения флотации концентрации всех рассматриваемых веществ повышаются.\n",
    "*Первичная очистка:*\n",
    "Концентрация золота и свинца растет, а концентрация серебра начинает значительно падать.\n",
    "*Вторичная очистка:*\n",
    "Концентрация золота на момент финального этапа обработки выросла до 45% (Выросла на ~37,5%), концентрация серебра также падает (Финальная концентрация уменьшилась на ~3.5% относительно исходного значения), а концентрация свинца остается на том же месте (~10%)"
   ]
  },
  {
   "cell_type": "markdown",
   "metadata": {},
   "source": [
    "### Анализ распределения размеров гранул ***сырья*** на обучающей и тестовой выборках"
   ]
  },
  {
   "cell_type": "markdown",
   "metadata": {},
   "source": [
    "Выделим данные в отдельные переменные:"
   ]
  },
  {
   "cell_type": "code",
   "execution_count": 22,
   "metadata": {},
   "outputs": [],
   "source": [
    "df_train_size = df_train['rougher.input.feed_size']\n",
    "df_test_size = df_test['rougher.input.feed_size']"
   ]
  },
  {
   "cell_type": "markdown",
   "metadata": {},
   "source": [
    "Перед построением графиков посмотрим на средние и медианные значения выборок"
   ]
  },
  {
   "cell_type": "code",
   "execution_count": 23,
   "metadata": {},
   "outputs": [
    {
     "name": "stdout",
     "output_type": "stream",
     "text": [
      "Среднее тестовой выборки: 55.952754028895136\n",
      "Медиана тестовой выборки: 50.8468431600362\n",
      "Среднее тренировочной выборки: 60.23985599255732\n",
      "Медиана тренировочной выборки: 55.269783890501536\n"
     ]
    }
   ],
   "source": [
    "print(f'Среднее тестовой выборки: {df_test_size.mean()}')\n",
    "print(f'Медиана тестовой выборки: {df_test_size.median()}')\n",
    "print(f'Среднее тренировочной выборки: {df_train_size.mean()}')\n",
    "print(f'Медиана тренировочной выборки: {df_train_size.median()}')"
   ]
  },
  {
   "cell_type": "markdown",
   "metadata": {},
   "source": [
    "Построим гистограммы и кривые плотностей к ней:"
   ]
  },
  {
   "cell_type": "code",
   "execution_count": 24,
   "metadata": {},
   "outputs": [
    {
     "data": {
      "text/plain": [
       "Text(0.5, 0, 'Размер гранул')"
      ]
     },
     "execution_count": 24,
     "metadata": {},
     "output_type": "execute_result"
    },
    {
     "data": {
      "image/png": "[encoded data removed]",
      "text/plain": [
       "<Figure size 432x288 with 1 Axes>"
      ]
     },
     "metadata": {
      "needs_background": "light"
     },
     "output_type": "display_data"
    }
   ],
   "source": [
    "\n",
    "sns.distplot(df_train_size,\n",
    "             label=\"Тренировочная выборка\",\n",
    "             bins=80,\n",
    "             color=\"goldenrod\",\n",
    "             hist_kws={'alpha':.5},\n",
    "             kde_kws={'linewidth':3, 'alpha':.7})\n",
    "\n",
    "sns.distplot(df_test_size,\n",
    "             label=\"Тестовая выборка\",\n",
    "             bins=80,\n",
    "             color=\"midnightblue\",\n",
    "             hist_kws={'alpha':.5},\n",
    "             kde_kws={'linewidth':3, 'alpha':.7})\n",
    "\n",
    "plt.axvline(x=df_test_size.mean(), ymax=0.41, linestyle='-.', color=\"red\", label=\"Среднее тестовой выборки\")\n",
    "plt.scatter(x=df_test_size.mean(), y=0.0225, s=20, color=\"red\", alpha=1)\n",
    "plt.axvline(x=df_test_size.median(), ymax=0.47, linestyle='--', color=\"coral\", label=\"Медиана тестовой выборки\")\n",
    "plt.scatter(x=df_test_size.median(), y=0.025, s=20, marker='D', color=\"coral\", alpha=1)\n",
    "\n",
    "plt.axvline(x=df_train_size.mean(), ymax=0.43, linestyle='-.', color=\"orchid\", label=\"Среднее тренировочной выборки\")\n",
    "plt.scatter(x=df_train_size.mean(), y=0.0235, s=20, color=\"orchid\", alpha=1)\n",
    "plt.axvline(x=df_train_size.median(), ymax=0.64, linestyle='--', color=\"forestgreen\", label=\"Медиана тренировочной выборки\")\n",
    "plt.scatter(x=df_train_size.median(), y=0.035, s=20, marker='D', color=\"forestgreen\", alpha=1)\n",
    "\n",
    "plt.legend()\n",
    "plt.title('Распределение размеров гранул сырья ', fontsize=12)\n",
    "plt.xlim(0,150)\n",
    "plt.ylabel('Плотность')\n",
    "plt.xlabel('Размер гранул')\n"
   ]
  },
  {
   "cell_type": "markdown",
   "metadata": {},
   "source": [
    "***Промежуточный вывод:***\n",
    "По приведенным графикам видно, что распределение гранул сырья в тренировочной и тестовой выборках примерно схожи, соответственно оценка модели не под угрозой."
   ]
  },
  {
   "cell_type": "markdown",
   "metadata": {},
   "source": [
    "### Анализ суммарной концентрации всех веществ на разных стадиях"
   ]
  },
  {
   "cell_type": "markdown",
   "metadata": {},
   "source": [
    "Просуммируем все концентрации на каждом этапе производства"
   ]
  },
  {
   "cell_type": "code",
   "execution_count": 25,
   "metadata": {},
   "outputs": [],
   "source": [
    "df_full['input_sum'] = df_full['rougher.input.feed_ag'] + df_full['rougher.input.feed_au'] + df_full['rougher.input.feed_sol'] + df_full['rougher.input.feed_pb']\n",
    "\n",
    "df_full['rougher_sum'] = df_full['rougher.output.concentrate_ag'] + df_full['rougher.output.concentrate_au'] + df_full['rougher.output.concentrate_sol'] + df_full['rougher.output.concentrate_pb']\n",
    "\n",
    "df_full['final_sum'] = df_full['final.output.concentrate_ag'] + df_full['final.output.concentrate_au'] + df_full['final.output.concentrate_sol'] + df_full['final.output.concentrate_pb']"
   ]
  },
  {
   "cell_type": "markdown",
   "metadata": {},
   "source": [
    "Построим графики"
   ]
  },
  {
   "cell_type": "code",
   "execution_count": 26,
   "metadata": {},
   "outputs": [
    {
     "data": {
      "image/png": "[encoded data removed]",
      "text/plain": [
       "<Figure size 1080x216 with 3 Axes>"
      ]
     },
     "metadata": {
      "needs_background": "light"
     },
     "output_type": "display_data"
    }
   ],
   "source": [
    "fig, ax = plt.subplots(1,3, figsize=(15,3))\n",
    "for ind, val in enumerate(['input_sum', 'rougher_sum', 'final_sum']):\n",
    "    ax[ind].set_title(f'Содержание {val}')\n",
    "    ax[ind].set_xlabel('Концентрация, %')\n",
    "    ax[ind].locator_params(axis='x', nbins= 20)\n",
    "    ax[ind].hist(df_full[val], bins=50)"
   ]
  },
  {
   "cell_type": "markdown",
   "metadata": {},
   "source": [
    "Отсечем аномально низкие значения"
   ]
  },
  {
   "cell_type": "code",
   "execution_count": 27,
   "metadata": {},
   "outputs": [],
   "source": [
    "df_full = df_full.loc[(df_full[['rougher.output.concentrate_au', 'rougher.output.concentrate_ag',\n",
    "    'rougher.output.concentrate_pb', 'rougher.output.concentrate_sol']].sum(axis=1)>20) &\n",
    "    (df_full[['final.output.concentrate_au', 'final.output.concentrate_ag',\n",
    "    'final.output.concentrate_pb', 'final.output.concentrate_sol']].sum(axis=1)>20)]"
   ]
  },
  {
   "cell_type": "markdown",
   "metadata": {},
   "source": [
    "Построим график еще раз по такому же принципу"
   ]
  },
  {
   "cell_type": "code",
   "execution_count": 28,
   "metadata": {},
   "outputs": [],
   "source": [
    "df_full['input_sum'] = df_full['rougher.input.feed_ag'] + df_full['rougher.input.feed_au'] + df_full['rougher.input.feed_sol'] + df_full['rougher.input.feed_pb']\n",
    "\n",
    "df_full['rougher_sum'] = df_full['rougher.output.concentrate_ag'] + df_full['rougher.output.concentrate_au'] + df_full['rougher.output.concentrate_sol'] + df_full['rougher.output.concentrate_pb']\n",
    "\n",
    "df_full['final_sum'] = df_full['final.output.concentrate_ag'] + df_full['final.output.concentrate_au'] + df_full['final.output.concentrate_sol'] + df_full['final.output.concentrate_pb']"
   ]
  },
  {
   "cell_type": "code",
   "execution_count": 29,
   "metadata": {},
   "outputs": [
    {
     "data": {
      "image/png": "[encoded data removed]",
      "text/plain": [
       "<Figure size 1080x216 with 3 Axes>"
      ]
     },
     "metadata": {
      "needs_background": "light"
     },
     "output_type": "display_data"
    }
   ],
   "source": [
    "fig, ax = plt.subplots(1,3, figsize=(15,3))\n",
    "for ind, val in enumerate(['input_sum', 'rougher_sum', 'final_sum']):\n",
    "    ax[ind].set_title(f'Содержание {val}')\n",
    "    ax[ind].set_xlabel('Концентрация, %')\n",
    "    ax[ind].locator_params(axis='x', nbins= 20)\n",
    "    ax[ind].hist(df_full[val], bins=50)"
   ]
  },
  {
   "cell_type": "markdown",
   "metadata": {},
   "source": [
    "Теперь удалим те же строки из обучающей и тестовой выборок"
   ]
  },
  {
   "cell_type": "code",
   "execution_count": 30,
   "metadata": {},
   "outputs": [],
   "source": [
    "df_train = df_train.loc[df_train['date'].isin(df_full['date'])].reset_index(drop=True)\n",
    "df_test = df_test.loc[df_test['date'].isin(df_full['date'])].reset_index(drop=True)"
   ]
  },
  {
   "cell_type": "markdown",
   "metadata": {},
   "source": [
    "***Промежуточный вывод:***\n",
    "Опираясь на построенные гистограммы были удалены некорректные данные"
   ]
  },
  {
   "cell_type": "markdown",
   "metadata": {},
   "source": [
    "## Построение модели"
   ]
  },
  {
   "cell_type": "markdown",
   "metadata": {},
   "source": [
    "### Функция для вычисления итогового sMAPE"
   ]
  },
  {
   "cell_type": "code",
   "execution_count": 31,
   "metadata": {},
   "outputs": [],
   "source": [
    "def smape(y, y_pred):\n",
    "    smape = ( 2 / len(y) * sum(abs(y - y_pred) / (abs(y) + abs(y_pred))))\n",
    "    return smape"
   ]
  },
  {
   "cell_type": "code",
   "execution_count": 32,
   "metadata": {},
   "outputs": [],
   "source": [
    "def full_smape(rough, final):\n",
    "    full_smape = 0.25 * rough + 0.75 * final\n",
    "    return full_smape"
   ]
  },
  {
   "cell_type": "code",
   "execution_count": 33,
   "metadata": {},
   "outputs": [],
   "source": [
    "metric_smape = make_scorer(smape, greater_is_better=False)"
   ]
  },
  {
   "cell_type": "markdown",
   "metadata": {},
   "source": [
    "### Разделение данных на обучающую и тестовую выборки и масштабирование"
   ]
  },
  {
   "cell_type": "code",
   "execution_count": 34,
   "metadata": {},
   "outputs": [],
   "source": [
    "features_train = df_train.drop(['date', 'rougher.output.recovery', 'final.output.recovery'], axis=1)\n",
    "features_test = df_test.drop(['date', 'rougher.output.recovery', 'final.output.recovery'], axis=1)\n",
    "target_train = df_train[['rougher.output.recovery', 'final.output.recovery']]\n",
    "target_test = df_test[['rougher.output.recovery', 'final.output.recovery']]\n",
    "\n",
    "scaler = StandardScaler()\n",
    "scaler.fit(features_train)\n",
    "features_train = scaler.transform(features_train)\n",
    "features_valid = scaler.transform(features_test)"
   ]
  },
  {
   "cell_type": "markdown",
   "metadata": {},
   "source": [
    "### Обучение моделей"
   ]
  },
  {
   "cell_type": "markdown",
   "metadata": {},
   "source": [
    "#### Линейная регрессия"
   ]
  },
  {
   "cell_type": "code",
   "execution_count": 35,
   "metadata": {},
   "outputs": [
    {
     "name": "stdout",
     "output_type": "stream",
     "text": [
      "SMAPE для чернового концентрата: 0.0716921223037057\n",
      "SMAPE для конечного концентрата: 0.1094065764272942\n",
      "Итоговая метрика: 0.09997796289639707\n"
     ]
    }
   ],
   "source": [
    "model = LinearRegression()\n",
    "\n",
    "score_rougher = cross_val_score(model,\n",
    "                                features_train,\n",
    "                                target_train['rougher.output.recovery'],\n",
    "                                scoring=metric_smape,\n",
    "                                cv=5)\n",
    "score_final = cross_val_score(model,\n",
    "                              features_train,\n",
    "                              target_train['final.output.recovery'],\n",
    "                              scoring=metric_smape,\n",
    "                              cv=5)\n",
    "\n",
    "print(f'SMAPE для чернового концентрата: {score_rougher.mean() * -1}')\n",
    "print(f'SMAPE для конечного концентрата: {score_final.mean() * -1}')\n",
    "print(f'Итоговая метрика: {-1 * full_smape(score_rougher.mean(), score_final.mean())}')"
   ]
  },
  {
   "cell_type": "markdown",
   "metadata": {},
   "source": [
    "#### Решающее дерево"
   ]
  },
  {
   "cell_type": "code",
   "execution_count": 36,
   "metadata": {},
   "outputs": [
    {
     "name": "stdout",
     "output_type": "stream",
     "text": [
      "Гиперпараметры лучшей модели решающего дерева для rougher.output.recovery:  {'max_depth': 4}\n",
      "SMAPE для чернового концентрата: 0.07179525313840535\n",
      "Гиперпараметры лучшей модели решающего дерева для final.output.recovery:  {'max_depth': 1}\n",
      "SMAPE для конечного концентрата: 0.0973892300714507\n",
      "Итоговая метрика: 0.09099073583818935\n"
     ]
    }
   ],
   "source": [
    "model = DecisionTreeRegressor(random_state=rnd_st)\n",
    "params = {'max_depth':range(1,21,1)}\n",
    "grid = RandomizedSearchCV(model, params, scoring=metric_smape, cv=5, random_state=rnd_st)\n",
    "\n",
    "grid.fit(features_train, target_train['rougher.output.recovery'])\n",
    "\n",
    "print(f\"Гиперпараметры лучшей модели решающего дерева для rougher.output.recovery: \",\n",
    "      grid.best_params_)\n",
    "score_rougher = grid.best_score_\n",
    "print(f'SMAPE для чернового концентрата: {-1 * score_rougher}')\n",
    "\n",
    "grid.fit(features_train, target_train['final.output.recovery'])\n",
    "\n",
    "print(f\"Гиперпараметры лучшей модели решающего дерева для final.output.recovery: \",\n",
    "      grid.best_params_)\n",
    "score_final = grid.best_score_\n",
    "print(f'SMAPE для конечного концентрата: {-1 * score_final}')\n",
    "\n",
    "print(f'Итоговая метрика: {-1 * full_smape(score_rougher, score_final)}')"
   ]
  },
  {
   "cell_type": "markdown",
   "metadata": {},
   "source": [
    "#### Случайный лес"
   ]
  },
  {
   "cell_type": "code",
   "execution_count": 37,
   "metadata": {},
   "outputs": [
    {
     "name": "stdout",
     "output_type": "stream",
     "text": [
      "Гиперпараметры лучшей модели случайного леса для 'rougher.output.recovery':  {'n_estimators': 30, 'max_depth': 5}\n",
      "Гиперпараметры лучшей модели случайного леса для 'final.output.recovery':  {'n_estimators': 45, 'max_depth': 3}\n",
      "sMAPE моделей случайного леса на обучающей выборке:\n",
      "0.06376652229977853\n",
      "0.0912286570711768\n",
      "Итоговое sMAPE моделей случайного леса на обучающей выборке:  -0.08436312337832724\n"
     ]
    }
   ],
   "source": [
    "model = RandomForestRegressor(random_state=rnd_st)\n",
    "params = { 'n_estimators': range (10, 51, 5),\n",
    "           'max_depth': range (1,11, 1) }\n",
    "\n",
    "grid = RandomizedSearchCV(model, params, scoring=metric_smape, cv=5)\n",
    "\n",
    "grid.fit(features_train, target_train['rougher.output.recovery'])\n",
    "print(f\"Гиперпараметры лучшей модели случайного леса для 'rougher.output.recovery': \", grid.best_params_)\n",
    "score_rougher = grid.best_score_\n",
    "\n",
    "grid.fit(features_train, target_train['final.output.recovery'])\n",
    "print(f\"Гиперпараметры лучшей модели случайного леса для 'final.output.recovery': \", grid.best_params_)\n",
    "score_final = grid.best_score_\n",
    "\n",
    "\n",
    "print('sMAPE моделей случайного леса на обучающей выборке:')\n",
    "print(-1 * score_rougher)\n",
    "print(-1 * score_final)\n",
    "print('Итоговое sMAPE моделей случайного леса на обучающей выборке: ', -1 * full_smape(score_rougher, score_final))"
   ]
  },
  {
   "cell_type": "markdown",
   "metadata": {},
   "source": [
    "#### Константная модель"
   ]
  },
  {
   "cell_type": "code",
   "execution_count": 38,
   "metadata": {},
   "outputs": [
    {
     "name": "stdout",
     "output_type": "stream",
     "text": [
      "SMAPE для чернового концентрата: 0.07765934227792015\n",
      "SMAPE для конечного концентрата: 0.10387418202263318\n",
      "Итоговая метрика: 0.09732047208645492\n"
     ]
    }
   ],
   "source": [
    "model = DummyRegressor(strategy=\"median\")\n",
    "score_rougher = cross_val_score(model,\n",
    "                                features_train,\n",
    "                                target_train['rougher.output.recovery'],\n",
    "                                scoring=metric_smape,\n",
    "                                cv=5)\n",
    "score_final = cross_val_score(model,\n",
    "                              features_train,\n",
    "                              target_train['final.output.recovery'],\n",
    "                              scoring=metric_smape,\n",
    "                              cv=5)\n",
    "\n",
    "print(f'SMAPE для чернового концентрата: {-1 * score_rougher.mean()}')\n",
    "print(f'SMAPE для конечного концентрата: {-1 * score_final.mean()}')\n",
    "print(f'Итоговая метрика: {-1 * full_smape(score_rougher.mean(), score_final.mean())}')"
   ]
  },
  {
   "cell_type": "markdown",
   "metadata": {},
   "source": [
    "***Промежуточный вывод:***\n",
    "Лучшей моделью оказался случайный лес. Проверим ее на тестовой выборке.\n",
    "Гиперпараметры лучших моделей:\n",
    "- Гиперпараметры лучшей модели случайного леса для 'rougher.output.recovery':  {'n_estimators': 30, 'max_depth': 5}\n",
    "- Гиперпараметры лучшей модели случайного леса для 'final.output.recovery':  {'n_estimators': 45, 'max_depth': 3}"
   ]
  },
  {
   "cell_type": "markdown",
   "metadata": {},
   "source": [
    "### Проверка лучшей модели на тестовой выборке"
   ]
  },
  {
   "cell_type": "code",
   "execution_count": 44,
   "metadata": {},
   "outputs": [
    {
     "name": "stdout",
     "output_type": "stream",
     "text": [
      "SMAPE моделей случайного леса на тестовой выборке:\n",
      "0.04723654805899379\n",
      "0.07725573830761376\n",
      "Итоговое SMAPE моделей случайного леса на тестовой выборке:  0.06975094074545876\n"
     ]
    }
   ],
   "source": [
    "\n",
    "model_rougher = RandomForestRegressor(random_state=rnd_st, max_depth=5, n_estimators=30)\n",
    "model_final = RandomForestRegressor(random_state=rnd_st, max_depth=3, n_estimators=45)\n",
    "\n",
    "\n",
    "model_rougher.fit(features_train, target_train['rougher.output.recovery'])\n",
    "model_final.fit(features_train, target_train['final.output.recovery'])\n",
    "\n",
    "\n",
    "pred_rougher = model_rougher.predict(features_test)\n",
    "pred_final = model_final.predict(features_test)\n",
    "\n",
    "score_rougher = smape(target_test['rougher.output.recovery'], pred_rougher)\n",
    "score_final = smape(target_test['final.output.recovery'], pred_final)\n",
    "\n",
    "print('SMAPE моделей случайного леса на тестовой выборке:')\n",
    "print(score_rougher)\n",
    "print(score_final)\n",
    "\n",
    "# Оценим итоговое sMAPE\n",
    "print('Итоговое SMAPE моделей случайного леса на тестовой выборке: ',\n",
    "      full_smape(score_rougher, score_final))"
   ]
  },
  {
   "cell_type": "markdown",
   "metadata": {},
   "source": [
    "**Промежуточный вывод:** Итоговое SMAPE равно 0.069 или 6.9%"
   ]
  },
  {
   "cell_type": "markdown",
   "metadata": {},
   "source": [
    "## Вывод\n",
    "\n",
    "По результатам проведенной работы была проведена успешная предобработка данных. Помимо этого, по результатам анализа данных было исследовано распределение концентрации элементов на каждом этапе. После проведения флотации концентрации всех рассматриваемых веществ повышаются. Концентрация золота и свинца после первичной очистки растет, а концентрация серебра начинает значительно падать. Концентрация золота на момент финального этапа обработки выросла до 45% (Выросла на 37,5%), концентрация серебра также падает (Финальная концентрация уменьшилась на ~3.5% относительно исходного значения), а концентрация свинца остается на том же месте (10%). По результатам машинного обучения было установлено, что лучшей моделью оказался случайный лес. Итоговое значение smape на тестовой выборке оказалось 6.9%"
   ]
  }
 ],
 "metadata": {
  "ExecuteTimeLog": [
   {
    "duration": 2619,
    "start_time": "2023-04-19T22:18:47.883Z"
   },
   {
    "duration": 229,
    "start_time": "2023-04-19T22:18:50.504Z"
   },
   {
    "duration": 0,
    "start_time": "2023-04-19T22:18:50.735Z"
   },
   {
    "duration": 0,
    "start_time": "2023-04-19T22:18:50.736Z"
   },
   {
    "duration": 0,
    "start_time": "2023-04-19T22:18:50.737Z"
   },
   {
    "duration": 0,
    "start_time": "2023-04-19T22:18:50.738Z"
   },
   {
    "duration": 0,
    "start_time": "2023-04-19T22:18:50.739Z"
   },
   {
    "duration": 0,
    "start_time": "2023-04-19T22:18:50.740Z"
   },
   {
    "duration": 0,
    "start_time": "2023-04-19T22:18:50.794Z"
   },
   {
    "duration": 0,
    "start_time": "2023-04-19T22:18:50.795Z"
   },
   {
    "duration": 0,
    "start_time": "2023-04-19T22:18:50.796Z"
   },
   {
    "duration": 0,
    "start_time": "2023-04-19T22:18:50.797Z"
   },
   {
    "duration": 0,
    "start_time": "2023-04-19T22:18:50.798Z"
   },
   {
    "duration": 0,
    "start_time": "2023-04-19T22:18:50.800Z"
   },
   {
    "duration": 0,
    "start_time": "2023-04-19T22:18:50.800Z"
   },
   {
    "duration": 0,
    "start_time": "2023-04-19T22:18:50.801Z"
   },
   {
    "duration": 0,
    "start_time": "2023-04-19T22:18:50.802Z"
   },
   {
    "duration": 0,
    "start_time": "2023-04-19T22:18:50.803Z"
   },
   {
    "duration": 0,
    "start_time": "2023-04-19T22:18:50.804Z"
   },
   {
    "duration": 0,
    "start_time": "2023-04-19T22:18:50.805Z"
   },
   {
    "duration": 0,
    "start_time": "2023-04-19T22:18:50.805Z"
   },
   {
    "duration": 0,
    "start_time": "2023-04-19T22:18:50.806Z"
   },
   {
    "duration": 0,
    "start_time": "2023-04-19T22:18:50.808Z"
   },
   {
    "duration": 0,
    "start_time": "2023-04-19T22:18:50.809Z"
   },
   {
    "duration": 0,
    "start_time": "2023-04-19T22:18:50.810Z"
   },
   {
    "duration": 0,
    "start_time": "2023-04-19T22:18:50.810Z"
   },
   {
    "duration": 0,
    "start_time": "2023-04-19T22:18:50.812Z"
   },
   {
    "duration": 0,
    "start_time": "2023-04-19T22:18:50.813Z"
   },
   {
    "duration": 0,
    "start_time": "2023-04-19T22:18:50.814Z"
   },
   {
    "duration": 0,
    "start_time": "2023-04-19T22:18:50.815Z"
   },
   {
    "duration": 0,
    "start_time": "2023-04-19T22:18:50.816Z"
   },
   {
    "duration": 0,
    "start_time": "2023-04-19T22:18:50.816Z"
   },
   {
    "duration": 0,
    "start_time": "2023-04-19T22:18:50.817Z"
   },
   {
    "duration": 0,
    "start_time": "2023-04-19T22:18:50.818Z"
   },
   {
    "duration": 0,
    "start_time": "2023-04-19T22:18:50.819Z"
   },
   {
    "duration": 0,
    "start_time": "2023-04-19T22:18:50.820Z"
   },
   {
    "duration": 0,
    "start_time": "2023-04-19T22:18:50.820Z"
   },
   {
    "duration": 0,
    "start_time": "2023-04-19T22:18:50.821Z"
   },
   {
    "duration": 0,
    "start_time": "2023-04-19T22:18:50.822Z"
   },
   {
    "duration": 1676,
    "start_time": "2023-04-20T06:27:12.737Z"
   },
   {
    "duration": 1778,
    "start_time": "2023-04-20T06:27:22.091Z"
   },
   {
    "duration": 126,
    "start_time": "2023-04-20T06:31:25.123Z"
   },
   {
    "duration": 1460,
    "start_time": "2023-04-20T06:31:31.016Z"
   },
   {
    "duration": 1614,
    "start_time": "2023-04-20T06:31:32.478Z"
   },
   {
    "duration": 16,
    "start_time": "2023-04-20T06:31:34.094Z"
   },
   {
    "duration": 17,
    "start_time": "2023-04-20T06:31:34.113Z"
   },
   {
    "duration": 11,
    "start_time": "2023-04-20T06:31:34.132Z"
   },
   {
    "duration": 32,
    "start_time": "2023-04-20T06:31:34.145Z"
   },
   {
    "duration": 31,
    "start_time": "2023-04-20T06:31:34.179Z"
   },
   {
    "duration": 23,
    "start_time": "2023-04-20T06:31:34.214Z"
   },
   {
    "duration": 37,
    "start_time": "2023-04-20T06:31:34.239Z"
   },
   {
    "duration": 19,
    "start_time": "2023-04-20T06:31:34.280Z"
   },
   {
    "duration": 23,
    "start_time": "2023-04-20T06:31:34.301Z"
   },
   {
    "duration": 19,
    "start_time": "2023-04-20T06:31:34.326Z"
   },
   {
    "duration": 9,
    "start_time": "2023-04-20T06:31:34.347Z"
   },
   {
    "duration": 39,
    "start_time": "2023-04-20T06:31:34.358Z"
   },
   {
    "duration": 31,
    "start_time": "2023-04-20T06:31:34.399Z"
   },
   {
    "duration": 11,
    "start_time": "2023-04-20T06:31:34.432Z"
   },
   {
    "duration": 11,
    "start_time": "2023-04-20T06:31:34.445Z"
   },
   {
    "duration": 12,
    "start_time": "2023-04-20T06:31:34.457Z"
   },
   {
    "duration": 69,
    "start_time": "2023-04-20T06:31:34.470Z"
   },
   {
    "duration": 57,
    "start_time": "2023-04-20T06:31:34.541Z"
   },
   {
    "duration": 649,
    "start_time": "2023-04-20T06:31:34.601Z"
   },
   {
    "duration": 6,
    "start_time": "2023-04-20T06:31:35.253Z"
   },
   {
    "duration": 20,
    "start_time": "2023-04-20T06:31:35.260Z"
   },
   {
    "duration": 1117,
    "start_time": "2023-04-20T06:31:35.284Z"
   },
   {
    "duration": 10,
    "start_time": "2023-04-20T06:31:36.403Z"
   },
   {
    "duration": 575,
    "start_time": "2023-04-20T06:31:36.415Z"
   },
   {
    "duration": 26,
    "start_time": "2023-04-20T06:31:36.993Z"
   },
   {
    "duration": 27,
    "start_time": "2023-04-20T06:31:37.022Z"
   },
   {
    "duration": 581,
    "start_time": "2023-04-20T06:31:37.051Z"
   },
   {
    "duration": 9,
    "start_time": "2023-04-20T06:31:37.634Z"
   },
   {
    "duration": 3,
    "start_time": "2023-04-20T06:31:37.645Z"
   },
   {
    "duration": 22,
    "start_time": "2023-04-20T06:31:37.650Z"
   },
   {
    "duration": 14,
    "start_time": "2023-04-20T06:31:37.674Z"
   },
   {
    "duration": 49,
    "start_time": "2023-04-20T06:31:37.690Z"
   },
   {
    "duration": 5155,
    "start_time": "2023-04-20T06:31:37.741Z"
   },
   {
    "duration": 55742,
    "start_time": "2023-04-20T06:31:42.899Z"
   },
   {
    "duration": 406304,
    "start_time": "2023-04-20T06:32:38.643Z"
   },
   {
    "duration": 85,
    "start_time": "2023-04-20T06:39:24.949Z"
   },
   {
    "duration": 6451,
    "start_time": "2023-04-20T06:39:25.039Z"
   },
   {
    "duration": 5718,
    "start_time": "2023-04-20T06:44:37.071Z"
   },
   {
    "duration": 56566,
    "start_time": "2023-04-20T06:45:08.583Z"
   },
   {
    "duration": 268137,
    "start_time": "2023-04-20T06:47:18.024Z"
   },
   {
    "duration": 0,
    "start_time": "2023-04-20T06:51:46.163Z"
   },
   {
    "duration": 0,
    "start_time": "2023-04-20T06:51:46.165Z"
   },
   {
    "duration": 1534,
    "start_time": "2023-04-20T06:51:51.716Z"
   },
   {
    "duration": 2397,
    "start_time": "2023-04-20T06:51:53.252Z"
   },
   {
    "duration": 8,
    "start_time": "2023-04-20T06:51:55.651Z"
   },
   {
    "duration": 29,
    "start_time": "2023-04-20T06:51:55.661Z"
   },
   {
    "duration": 55,
    "start_time": "2023-04-20T06:51:55.693Z"
   },
   {
    "duration": 25,
    "start_time": "2023-04-20T06:51:55.751Z"
   },
   {
    "duration": 57,
    "start_time": "2023-04-20T06:51:55.778Z"
   },
   {
    "duration": 26,
    "start_time": "2023-04-20T06:51:55.837Z"
   },
   {
    "duration": 97,
    "start_time": "2023-04-20T06:51:55.865Z"
   },
   {
    "duration": 48,
    "start_time": "2023-04-20T06:51:55.964Z"
   },
   {
    "duration": 35,
    "start_time": "2023-04-20T06:51:56.013Z"
   },
   {
    "duration": 56,
    "start_time": "2023-04-20T06:51:56.051Z"
   },
   {
    "duration": 24,
    "start_time": "2023-04-20T06:51:56.117Z"
   },
   {
    "duration": 6,
    "start_time": "2023-04-20T06:51:56.144Z"
   },
   {
    "duration": 312,
    "start_time": "2023-04-20T06:51:56.151Z"
   },
   {
    "duration": 9,
    "start_time": "2023-04-20T06:51:56.465Z"
   },
   {
    "duration": 50,
    "start_time": "2023-04-20T06:51:56.476Z"
   },
   {
    "duration": 32,
    "start_time": "2023-04-20T06:51:56.528Z"
   },
   {
    "duration": 63,
    "start_time": "2023-04-20T06:51:56.562Z"
   },
   {
    "duration": 10,
    "start_time": "2023-04-20T06:51:56.627Z"
   },
   {
    "duration": 541,
    "start_time": "2023-04-20T06:51:56.639Z"
   },
   {
    "duration": 10,
    "start_time": "2023-04-20T06:51:57.187Z"
   },
   {
    "duration": 37,
    "start_time": "2023-04-20T06:51:57.206Z"
   },
   {
    "duration": 1145,
    "start_time": "2023-04-20T06:51:57.245Z"
   },
   {
    "duration": 9,
    "start_time": "2023-04-20T06:51:58.392Z"
   },
   {
    "duration": 625,
    "start_time": "2023-04-20T06:51:58.402Z"
   },
   {
    "duration": 22,
    "start_time": "2023-04-20T06:51:59.028Z"
   },
   {
    "duration": 7,
    "start_time": "2023-04-20T06:51:59.052Z"
   },
   {
    "duration": 576,
    "start_time": "2023-04-20T06:51:59.061Z"
   },
   {
    "duration": 11,
    "start_time": "2023-04-20T06:51:59.639Z"
   },
   {
    "duration": 21,
    "start_time": "2023-04-20T06:51:59.652Z"
   },
   {
    "duration": 26,
    "start_time": "2023-04-20T06:51:59.675Z"
   },
   {
    "duration": 33,
    "start_time": "2023-04-20T06:51:59.702Z"
   },
   {
    "duration": 55,
    "start_time": "2023-04-20T06:51:59.736Z"
   },
   {
    "duration": 4292,
    "start_time": "2023-04-20T06:51:59.802Z"
   },
   {
    "duration": 57017,
    "start_time": "2023-04-20T06:52:04.097Z"
   },
   {
    "duration": 505434,
    "start_time": "2023-04-20T06:53:01.116Z"
   },
   {
    "duration": 58,
    "start_time": "2023-04-20T07:01:26.551Z"
   },
   {
    "duration": 5841,
    "start_time": "2023-04-20T07:01:26.611Z"
   },
   {
    "duration": 12946,
    "start_time": "2023-04-20T07:02:28.662Z"
   },
   {
    "duration": 12583,
    "start_time": "2023-04-20T07:06:10.441Z"
   },
   {
    "duration": 12524,
    "start_time": "2023-04-20T07:06:50.002Z"
   },
   {
    "duration": 12251,
    "start_time": "2023-04-20T07:07:11.154Z"
   },
   {
    "duration": 12755,
    "start_time": "2023-04-20T07:07:33.801Z"
   },
   {
    "duration": 3,
    "start_time": "2023-04-20T07:08:37.158Z"
   },
   {
    "duration": 3,
    "start_time": "2023-04-20T07:08:38.662Z"
   },
   {
    "duration": 1677,
    "start_time": "2023-04-21T06:04:00.146Z"
   },
   {
    "duration": 1981,
    "start_time": "2023-04-21T06:04:04.553Z"
   }
  ],
  "kernelspec": {
   "display_name": "Python 3 (ipykernel)",
   "language": "python",
   "name": "python3"
  },
  "language_info": {
   "codemirror_mode": {
    "name": "ipython",
    "version": 3
   },
   "file_extension": ".py",
   "mimetype": "text/x-python",
   "name": "python",
   "nbconvert_exporter": "python",
   "pygments_lexer": "ipython3",
   "version": "3.9.5"
  },
  "toc": {
   "base_numbering": 1,
   "nav_menu": {},
   "number_sections": true,
   "sideBar": true,
   "skip_h1_title": true,
   "title_cell": "Table of Contents",
   "title_sidebar": "Contents",
   "toc_cell": false,
   "toc_position": {
    "height": "calc(100% - 180px)",
    "left": "10px",
    "top": "150px",
    "width": "186px"
   },
   "toc_section_display": true,
   "toc_window_display": true
  }
 },
 "nbformat": 4,
 "nbformat_minor": 1
}
