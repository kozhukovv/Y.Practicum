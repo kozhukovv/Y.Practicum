{
 "cells": [
  {
   "cell_type": "markdown",
   "metadata": {},
   "source": [
    "# Исследование объявлений о продаже квартир Ленинградской области\n",
    "\n",
    "Имеются данные сервиса Яндекс.Недвижимость за несколько лет. Цель работы определить рыночную стоимость объектов недвижимости."
   ]
  },
  {
   "cell_type": "markdown",
   "metadata": {},
   "source": [
    "### Первичный анализ данных и импорт библиотек"
   ]
  },
  {
   "cell_type": "markdown",
   "metadata": {},
   "source": [
    "Импорт библиотек"
   ]
  },
  {
   "cell_type": "code",
   "execution_count": 1,
   "metadata": {},
   "outputs": [],
   "source": [
    "import matplotlib.pyplot as plt\n",
    "import pandas as pd"
   ]
  },
  {
   "cell_type": "markdown",
   "metadata": {},
   "source": [
    "Задаем параметр для преобразования чисел без \"e\""
   ]
  },
  {
   "cell_type": "code",
   "execution_count": 2,
   "metadata": {},
   "outputs": [],
   "source": [
    "pd.options.display.float_format = '{:.2f}'.format"
   ]
  },
  {
   "cell_type": "markdown",
   "metadata": {},
   "source": [
    "Получение датафрейма"
   ]
  },
  {
   "cell_type": "code",
   "execution_count": 3,
   "metadata": {},
   "outputs": [],
   "source": [
    "df = pd.read_csv('real_estate_data.csv', sep='\\t')"
   ]
  },
  {
   "cell_type": "markdown",
   "metadata": {},
   "source": [
    "Вывод первых 20 строчек датафрейма"
   ]
  },
  {
   "cell_type": "code",
   "execution_count": 4,
   "metadata": {},
   "outputs": [
    {
     "data": {
      "text/html": [
       "<div>\n",
       "<style scoped>\n",
       "    .dataframe tbody tr th:only-of-type {\n",
       "        vertical-align: middle;\n",
       "    }\n",
       "\n",
       "    .dataframe tbody tr th {\n",
       "        vertical-align: top;\n",
       "    }\n",
       "\n",
       "    .dataframe thead th {\n",
       "        text-align: right;\n",
       "    }\n",
       "</style>\n",
       "<table border=\"1\" class=\"dataframe\">\n",
       "  <thead>\n",
       "    <tr style=\"text-align: right;\">\n",
       "      <th></th>\n",
       "      <th>total_images</th>\n",
       "      <th>last_price</th>\n",
       "      <th>total_area</th>\n",
       "      <th>first_day_exposition</th>\n",
       "      <th>rooms</th>\n",
       "      <th>ceiling_height</th>\n",
       "      <th>floors_total</th>\n",
       "      <th>living_area</th>\n",
       "      <th>floor</th>\n",
       "      <th>is_apartment</th>\n",
       "      <th>...</th>\n",
       "      <th>kitchen_area</th>\n",
       "      <th>balcony</th>\n",
       "      <th>locality_name</th>\n",
       "      <th>airports_nearest</th>\n",
       "      <th>cityCenters_nearest</th>\n",
       "      <th>parks_around3000</th>\n",
       "      <th>parks_nearest</th>\n",
       "      <th>ponds_around3000</th>\n",
       "      <th>ponds_nearest</th>\n",
       "      <th>days_exposition</th>\n",
       "    </tr>\n",
       "  </thead>\n",
       "  <tbody>\n",
       "    <tr>\n",
       "      <th>0</th>\n",
       "      <td>20</td>\n",
       "      <td>13000000.00</td>\n",
       "      <td>108.00</td>\n",
       "      <td>2019-03-07T00:00:00</td>\n",
       "      <td>3</td>\n",
       "      <td>2.70</td>\n",
       "      <td>16.00</td>\n",
       "      <td>51.00</td>\n",
       "      <td>8</td>\n",
       "      <td>NaN</td>\n",
       "      <td>...</td>\n",
       "      <td>25.00</td>\n",
       "      <td>NaN</td>\n",
       "      <td>Санкт-Петербург</td>\n",
       "      <td>18863.00</td>\n",
       "      <td>16028.00</td>\n",
       "      <td>1.00</td>\n",
       "      <td>482.00</td>\n",
       "      <td>2.00</td>\n",
       "      <td>755.00</td>\n",
       "      <td>NaN</td>\n",
       "    </tr>\n",
       "    <tr>\n",
       "      <th>1</th>\n",
       "      <td>7</td>\n",
       "      <td>3350000.00</td>\n",
       "      <td>40.40</td>\n",
       "      <td>2018-12-04T00:00:00</td>\n",
       "      <td>1</td>\n",
       "      <td>NaN</td>\n",
       "      <td>11.00</td>\n",
       "      <td>18.60</td>\n",
       "      <td>1</td>\n",
       "      <td>NaN</td>\n",
       "      <td>...</td>\n",
       "      <td>11.00</td>\n",
       "      <td>2.00</td>\n",
       "      <td>посёлок Шушары</td>\n",
       "      <td>12817.00</td>\n",
       "      <td>18603.00</td>\n",
       "      <td>0.00</td>\n",
       "      <td>NaN</td>\n",
       "      <td>0.00</td>\n",
       "      <td>NaN</td>\n",
       "      <td>81.00</td>\n",
       "    </tr>\n",
       "    <tr>\n",
       "      <th>2</th>\n",
       "      <td>10</td>\n",
       "      <td>5196000.00</td>\n",
       "      <td>56.00</td>\n",
       "      <td>2015-08-20T00:00:00</td>\n",
       "      <td>2</td>\n",
       "      <td>NaN</td>\n",
       "      <td>5.00</td>\n",
       "      <td>34.30</td>\n",
       "      <td>4</td>\n",
       "      <td>NaN</td>\n",
       "      <td>...</td>\n",
       "      <td>8.30</td>\n",
       "      <td>0.00</td>\n",
       "      <td>Санкт-Петербург</td>\n",
       "      <td>21741.00</td>\n",
       "      <td>13933.00</td>\n",
       "      <td>1.00</td>\n",
       "      <td>90.00</td>\n",
       "      <td>2.00</td>\n",
       "      <td>574.00</td>\n",
       "      <td>558.00</td>\n",
       "    </tr>\n",
       "    <tr>\n",
       "      <th>3</th>\n",
       "      <td>0</td>\n",
       "      <td>64900000.00</td>\n",
       "      <td>159.00</td>\n",
       "      <td>2015-07-24T00:00:00</td>\n",
       "      <td>3</td>\n",
       "      <td>NaN</td>\n",
       "      <td>14.00</td>\n",
       "      <td>NaN</td>\n",
       "      <td>9</td>\n",
       "      <td>NaN</td>\n",
       "      <td>...</td>\n",
       "      <td>NaN</td>\n",
       "      <td>0.00</td>\n",
       "      <td>Санкт-Петербург</td>\n",
       "      <td>28098.00</td>\n",
       "      <td>6800.00</td>\n",
       "      <td>2.00</td>\n",
       "      <td>84.00</td>\n",
       "      <td>3.00</td>\n",
       "      <td>234.00</td>\n",
       "      <td>424.00</td>\n",
       "    </tr>\n",
       "    <tr>\n",
       "      <th>4</th>\n",
       "      <td>2</td>\n",
       "      <td>10000000.00</td>\n",
       "      <td>100.00</td>\n",
       "      <td>2018-06-19T00:00:00</td>\n",
       "      <td>2</td>\n",
       "      <td>3.03</td>\n",
       "      <td>14.00</td>\n",
       "      <td>32.00</td>\n",
       "      <td>13</td>\n",
       "      <td>NaN</td>\n",
       "      <td>...</td>\n",
       "      <td>41.00</td>\n",
       "      <td>NaN</td>\n",
       "      <td>Санкт-Петербург</td>\n",
       "      <td>31856.00</td>\n",
       "      <td>8098.00</td>\n",
       "      <td>2.00</td>\n",
       "      <td>112.00</td>\n",
       "      <td>1.00</td>\n",
       "      <td>48.00</td>\n",
       "      <td>121.00</td>\n",
       "    </tr>\n",
       "    <tr>\n",
       "      <th>5</th>\n",
       "      <td>10</td>\n",
       "      <td>2890000.00</td>\n",
       "      <td>30.40</td>\n",
       "      <td>2018-09-10T00:00:00</td>\n",
       "      <td>1</td>\n",
       "      <td>NaN</td>\n",
       "      <td>12.00</td>\n",
       "      <td>14.40</td>\n",
       "      <td>5</td>\n",
       "      <td>NaN</td>\n",
       "      <td>...</td>\n",
       "      <td>9.10</td>\n",
       "      <td>NaN</td>\n",
       "      <td>городской посёлок Янино-1</td>\n",
       "      <td>NaN</td>\n",
       "      <td>NaN</td>\n",
       "      <td>NaN</td>\n",
       "      <td>NaN</td>\n",
       "      <td>NaN</td>\n",
       "      <td>NaN</td>\n",
       "      <td>55.00</td>\n",
       "    </tr>\n",
       "    <tr>\n",
       "      <th>6</th>\n",
       "      <td>6</td>\n",
       "      <td>3700000.00</td>\n",
       "      <td>37.30</td>\n",
       "      <td>2017-11-02T00:00:00</td>\n",
       "      <td>1</td>\n",
       "      <td>NaN</td>\n",
       "      <td>26.00</td>\n",
       "      <td>10.60</td>\n",
       "      <td>6</td>\n",
       "      <td>NaN</td>\n",
       "      <td>...</td>\n",
       "      <td>14.40</td>\n",
       "      <td>1.00</td>\n",
       "      <td>посёлок Парголово</td>\n",
       "      <td>52996.00</td>\n",
       "      <td>19143.00</td>\n",
       "      <td>0.00</td>\n",
       "      <td>NaN</td>\n",
       "      <td>0.00</td>\n",
       "      <td>NaN</td>\n",
       "      <td>155.00</td>\n",
       "    </tr>\n",
       "    <tr>\n",
       "      <th>7</th>\n",
       "      <td>5</td>\n",
       "      <td>7915000.00</td>\n",
       "      <td>71.60</td>\n",
       "      <td>2019-04-18T00:00:00</td>\n",
       "      <td>2</td>\n",
       "      <td>NaN</td>\n",
       "      <td>24.00</td>\n",
       "      <td>NaN</td>\n",
       "      <td>22</td>\n",
       "      <td>NaN</td>\n",
       "      <td>...</td>\n",
       "      <td>18.90</td>\n",
       "      <td>2.00</td>\n",
       "      <td>Санкт-Петербург</td>\n",
       "      <td>23982.00</td>\n",
       "      <td>11634.00</td>\n",
       "      <td>0.00</td>\n",
       "      <td>NaN</td>\n",
       "      <td>0.00</td>\n",
       "      <td>NaN</td>\n",
       "      <td>NaN</td>\n",
       "    </tr>\n",
       "    <tr>\n",
       "      <th>8</th>\n",
       "      <td>20</td>\n",
       "      <td>2900000.00</td>\n",
       "      <td>33.16</td>\n",
       "      <td>2018-05-23T00:00:00</td>\n",
       "      <td>1</td>\n",
       "      <td>NaN</td>\n",
       "      <td>27.00</td>\n",
       "      <td>15.43</td>\n",
       "      <td>26</td>\n",
       "      <td>NaN</td>\n",
       "      <td>...</td>\n",
       "      <td>8.81</td>\n",
       "      <td>NaN</td>\n",
       "      <td>посёлок Мурино</td>\n",
       "      <td>NaN</td>\n",
       "      <td>NaN</td>\n",
       "      <td>NaN</td>\n",
       "      <td>NaN</td>\n",
       "      <td>NaN</td>\n",
       "      <td>NaN</td>\n",
       "      <td>189.00</td>\n",
       "    </tr>\n",
       "    <tr>\n",
       "      <th>9</th>\n",
       "      <td>18</td>\n",
       "      <td>5400000.00</td>\n",
       "      <td>61.00</td>\n",
       "      <td>2017-02-26T00:00:00</td>\n",
       "      <td>3</td>\n",
       "      <td>2.50</td>\n",
       "      <td>9.00</td>\n",
       "      <td>43.60</td>\n",
       "      <td>7</td>\n",
       "      <td>NaN</td>\n",
       "      <td>...</td>\n",
       "      <td>6.50</td>\n",
       "      <td>2.00</td>\n",
       "      <td>Санкт-Петербург</td>\n",
       "      <td>50898.00</td>\n",
       "      <td>15008.00</td>\n",
       "      <td>0.00</td>\n",
       "      <td>NaN</td>\n",
       "      <td>0.00</td>\n",
       "      <td>NaN</td>\n",
       "      <td>289.00</td>\n",
       "    </tr>\n",
       "    <tr>\n",
       "      <th>10</th>\n",
       "      <td>5</td>\n",
       "      <td>5050000.00</td>\n",
       "      <td>39.60</td>\n",
       "      <td>2017-11-16T00:00:00</td>\n",
       "      <td>1</td>\n",
       "      <td>2.67</td>\n",
       "      <td>12.00</td>\n",
       "      <td>20.30</td>\n",
       "      <td>3</td>\n",
       "      <td>NaN</td>\n",
       "      <td>...</td>\n",
       "      <td>8.50</td>\n",
       "      <td>NaN</td>\n",
       "      <td>Санкт-Петербург</td>\n",
       "      <td>38357.00</td>\n",
       "      <td>13878.00</td>\n",
       "      <td>1.00</td>\n",
       "      <td>310.00</td>\n",
       "      <td>2.00</td>\n",
       "      <td>553.00</td>\n",
       "      <td>137.00</td>\n",
       "    </tr>\n",
       "    <tr>\n",
       "      <th>11</th>\n",
       "      <td>9</td>\n",
       "      <td>3300000.00</td>\n",
       "      <td>44.00</td>\n",
       "      <td>2018-08-27T00:00:00</td>\n",
       "      <td>2</td>\n",
       "      <td>NaN</td>\n",
       "      <td>5.00</td>\n",
       "      <td>31.00</td>\n",
       "      <td>4</td>\n",
       "      <td>False</td>\n",
       "      <td>...</td>\n",
       "      <td>6.00</td>\n",
       "      <td>1.00</td>\n",
       "      <td>Ломоносов</td>\n",
       "      <td>48252.00</td>\n",
       "      <td>51677.00</td>\n",
       "      <td>0.00</td>\n",
       "      <td>NaN</td>\n",
       "      <td>0.00</td>\n",
       "      <td>NaN</td>\n",
       "      <td>7.00</td>\n",
       "    </tr>\n",
       "    <tr>\n",
       "      <th>12</th>\n",
       "      <td>10</td>\n",
       "      <td>3890000.00</td>\n",
       "      <td>54.00</td>\n",
       "      <td>2016-06-30T00:00:00</td>\n",
       "      <td>2</td>\n",
       "      <td>NaN</td>\n",
       "      <td>5.00</td>\n",
       "      <td>30.00</td>\n",
       "      <td>5</td>\n",
       "      <td>NaN</td>\n",
       "      <td>...</td>\n",
       "      <td>9.00</td>\n",
       "      <td>0.00</td>\n",
       "      <td>Сертолово</td>\n",
       "      <td>NaN</td>\n",
       "      <td>NaN</td>\n",
       "      <td>NaN</td>\n",
       "      <td>NaN</td>\n",
       "      <td>NaN</td>\n",
       "      <td>NaN</td>\n",
       "      <td>90.00</td>\n",
       "    </tr>\n",
       "    <tr>\n",
       "      <th>13</th>\n",
       "      <td>20</td>\n",
       "      <td>3550000.00</td>\n",
       "      <td>42.80</td>\n",
       "      <td>2017-07-01T00:00:00</td>\n",
       "      <td>2</td>\n",
       "      <td>2.56</td>\n",
       "      <td>5.00</td>\n",
       "      <td>27.00</td>\n",
       "      <td>5</td>\n",
       "      <td>NaN</td>\n",
       "      <td>...</td>\n",
       "      <td>5.20</td>\n",
       "      <td>1.00</td>\n",
       "      <td>Петергоф</td>\n",
       "      <td>37868.00</td>\n",
       "      <td>33058.00</td>\n",
       "      <td>1.00</td>\n",
       "      <td>294.00</td>\n",
       "      <td>3.00</td>\n",
       "      <td>298.00</td>\n",
       "      <td>366.00</td>\n",
       "    </tr>\n",
       "    <tr>\n",
       "      <th>14</th>\n",
       "      <td>1</td>\n",
       "      <td>4400000.00</td>\n",
       "      <td>36.00</td>\n",
       "      <td>2016-06-23T00:00:00</td>\n",
       "      <td>1</td>\n",
       "      <td>NaN</td>\n",
       "      <td>6.00</td>\n",
       "      <td>17.00</td>\n",
       "      <td>1</td>\n",
       "      <td>NaN</td>\n",
       "      <td>...</td>\n",
       "      <td>8.00</td>\n",
       "      <td>0.00</td>\n",
       "      <td>Пушкин</td>\n",
       "      <td>20782.00</td>\n",
       "      <td>30759.00</td>\n",
       "      <td>0.00</td>\n",
       "      <td>NaN</td>\n",
       "      <td>1.00</td>\n",
       "      <td>96.00</td>\n",
       "      <td>203.00</td>\n",
       "    </tr>\n",
       "    <tr>\n",
       "      <th>15</th>\n",
       "      <td>16</td>\n",
       "      <td>4650000.00</td>\n",
       "      <td>39.00</td>\n",
       "      <td>2017-11-18T00:00:00</td>\n",
       "      <td>1</td>\n",
       "      <td>NaN</td>\n",
       "      <td>14.00</td>\n",
       "      <td>20.50</td>\n",
       "      <td>5</td>\n",
       "      <td>NaN</td>\n",
       "      <td>...</td>\n",
       "      <td>7.60</td>\n",
       "      <td>1.00</td>\n",
       "      <td>Санкт-Петербург</td>\n",
       "      <td>12900.00</td>\n",
       "      <td>14259.00</td>\n",
       "      <td>1.00</td>\n",
       "      <td>590.00</td>\n",
       "      <td>1.00</td>\n",
       "      <td>296.00</td>\n",
       "      <td>19.00</td>\n",
       "    </tr>\n",
       "    <tr>\n",
       "      <th>16</th>\n",
       "      <td>11</td>\n",
       "      <td>6700000.00</td>\n",
       "      <td>82.00</td>\n",
       "      <td>2017-11-23T00:00:00</td>\n",
       "      <td>3</td>\n",
       "      <td>3.05</td>\n",
       "      <td>5.00</td>\n",
       "      <td>55.60</td>\n",
       "      <td>1</td>\n",
       "      <td>NaN</td>\n",
       "      <td>...</td>\n",
       "      <td>9.00</td>\n",
       "      <td>NaN</td>\n",
       "      <td>Санкт-Петербург</td>\n",
       "      <td>22108.00</td>\n",
       "      <td>10698.00</td>\n",
       "      <td>3.00</td>\n",
       "      <td>420.00</td>\n",
       "      <td>0.00</td>\n",
       "      <td>NaN</td>\n",
       "      <td>397.00</td>\n",
       "    </tr>\n",
       "    <tr>\n",
       "      <th>17</th>\n",
       "      <td>6</td>\n",
       "      <td>4180000.00</td>\n",
       "      <td>36.00</td>\n",
       "      <td>2016-09-09T00:00:00</td>\n",
       "      <td>1</td>\n",
       "      <td>NaN</td>\n",
       "      <td>17.00</td>\n",
       "      <td>16.50</td>\n",
       "      <td>7</td>\n",
       "      <td>NaN</td>\n",
       "      <td>...</td>\n",
       "      <td>11.00</td>\n",
       "      <td>1.00</td>\n",
       "      <td>Санкт-Петербург</td>\n",
       "      <td>33564.00</td>\n",
       "      <td>14616.00</td>\n",
       "      <td>0.00</td>\n",
       "      <td>NaN</td>\n",
       "      <td>1.00</td>\n",
       "      <td>859.00</td>\n",
       "      <td>571.00</td>\n",
       "    </tr>\n",
       "    <tr>\n",
       "      <th>18</th>\n",
       "      <td>8</td>\n",
       "      <td>3250000.00</td>\n",
       "      <td>31.00</td>\n",
       "      <td>2017-01-27T00:00:00</td>\n",
       "      <td>1</td>\n",
       "      <td>2.50</td>\n",
       "      <td>5.00</td>\n",
       "      <td>19.40</td>\n",
       "      <td>2</td>\n",
       "      <td>NaN</td>\n",
       "      <td>...</td>\n",
       "      <td>5.60</td>\n",
       "      <td>1.00</td>\n",
       "      <td>Санкт-Петербург</td>\n",
       "      <td>44060.00</td>\n",
       "      <td>10842.00</td>\n",
       "      <td>1.00</td>\n",
       "      <td>759.00</td>\n",
       "      <td>0.00</td>\n",
       "      <td>NaN</td>\n",
       "      <td>168.00</td>\n",
       "    </tr>\n",
       "    <tr>\n",
       "      <th>19</th>\n",
       "      <td>16</td>\n",
       "      <td>14200000.00</td>\n",
       "      <td>121.00</td>\n",
       "      <td>2019-01-09T00:00:00</td>\n",
       "      <td>3</td>\n",
       "      <td>2.75</td>\n",
       "      <td>16.00</td>\n",
       "      <td>76.00</td>\n",
       "      <td>8</td>\n",
       "      <td>NaN</td>\n",
       "      <td>...</td>\n",
       "      <td>12.00</td>\n",
       "      <td>NaN</td>\n",
       "      <td>Санкт-Петербург</td>\n",
       "      <td>38900.00</td>\n",
       "      <td>12843.00</td>\n",
       "      <td>0.00</td>\n",
       "      <td>NaN</td>\n",
       "      <td>0.00</td>\n",
       "      <td>NaN</td>\n",
       "      <td>97.00</td>\n",
       "    </tr>\n",
       "  </tbody>\n",
       "</table>\n",
       "<p>20 rows × 22 columns</p>\n",
       "</div>"
      ],
      "text/plain": [
       "    total_images  last_price  total_area first_day_exposition  rooms  \\\n",
       "0             20 13000000.00      108.00  2019-03-07T00:00:00      3   \n",
       "1              7  3350000.00       40.40  2018-12-04T00:00:00      1   \n",
       "2             10  5196000.00       56.00  2015-08-20T00:00:00      2   \n",
       "3              0 64900000.00      159.00  2015-07-24T00:00:00      3   \n",
       "4              2 10000000.00      100.00  2018-06-19T00:00:00      2   \n",
       "5             10  2890000.00       30.40  2018-09-10T00:00:00      1   \n",
       "6              6  3700000.00       37.30  2017-11-02T00:00:00      1   \n",
       "7              5  7915000.00       71.60  2019-04-18T00:00:00      2   \n",
       "8             20  2900000.00       33.16  2018-05-23T00:00:00      1   \n",
       "9             18  5400000.00       61.00  2017-02-26T00:00:00      3   \n",
       "10             5  5050000.00       39.60  2017-11-16T00:00:00      1   \n",
       "11             9  3300000.00       44.00  2018-08-27T00:00:00      2   \n",
       "12            10  3890000.00       54.00  2016-06-30T00:00:00      2   \n",
       "13            20  3550000.00       42.80  2017-07-01T00:00:00      2   \n",
       "14             1  4400000.00       36.00  2016-06-23T00:00:00      1   \n",
       "15            16  4650000.00       39.00  2017-11-18T00:00:00      1   \n",
       "16            11  6700000.00       82.00  2017-11-23T00:00:00      3   \n",
       "17             6  4180000.00       36.00  2016-09-09T00:00:00      1   \n",
       "18             8  3250000.00       31.00  2017-01-27T00:00:00      1   \n",
       "19            16 14200000.00      121.00  2019-01-09T00:00:00      3   \n",
       "\n",
       "    ceiling_height  floors_total  living_area  floor is_apartment  ...  \\\n",
       "0             2.70         16.00        51.00      8          NaN  ...   \n",
       "1              NaN         11.00        18.60      1          NaN  ...   \n",
       "2              NaN          5.00        34.30      4          NaN  ...   \n",
       "3              NaN         14.00          NaN      9          NaN  ...   \n",
       "4             3.03         14.00        32.00     13          NaN  ...   \n",
       "5              NaN         12.00        14.40      5          NaN  ...   \n",
       "6              NaN         26.00        10.60      6          NaN  ...   \n",
       "7              NaN         24.00          NaN     22          NaN  ...   \n",
       "8              NaN         27.00        15.43     26          NaN  ...   \n",
       "9             2.50          9.00        43.60      7          NaN  ...   \n",
       "10            2.67         12.00        20.30      3          NaN  ...   \n",
       "11             NaN          5.00        31.00      4        False  ...   \n",
       "12             NaN          5.00        30.00      5          NaN  ...   \n",
       "13            2.56          5.00        27.00      5          NaN  ...   \n",
       "14             NaN          6.00        17.00      1          NaN  ...   \n",
       "15             NaN         14.00        20.50      5          NaN  ...   \n",
       "16            3.05          5.00        55.60      1          NaN  ...   \n",
       "17             NaN         17.00        16.50      7          NaN  ...   \n",
       "18            2.50          5.00        19.40      2          NaN  ...   \n",
       "19            2.75         16.00        76.00      8          NaN  ...   \n",
       "\n",
       "    kitchen_area  balcony              locality_name  airports_nearest  \\\n",
       "0          25.00      NaN            Санкт-Петербург          18863.00   \n",
       "1          11.00     2.00             посёлок Шушары          12817.00   \n",
       "2           8.30     0.00            Санкт-Петербург          21741.00   \n",
       "3            NaN     0.00            Санкт-Петербург          28098.00   \n",
       "4          41.00      NaN            Санкт-Петербург          31856.00   \n",
       "5           9.10      NaN  городской посёлок Янино-1               NaN   \n",
       "6          14.40     1.00          посёлок Парголово          52996.00   \n",
       "7          18.90     2.00            Санкт-Петербург          23982.00   \n",
       "8           8.81      NaN             посёлок Мурино               NaN   \n",
       "9           6.50     2.00            Санкт-Петербург          50898.00   \n",
       "10          8.50      NaN            Санкт-Петербург          38357.00   \n",
       "11          6.00     1.00                  Ломоносов          48252.00   \n",
       "12          9.00     0.00                  Сертолово               NaN   \n",
       "13          5.20     1.00                   Петергоф          37868.00   \n",
       "14          8.00     0.00                     Пушкин          20782.00   \n",
       "15          7.60     1.00            Санкт-Петербург          12900.00   \n",
       "16          9.00      NaN            Санкт-Петербург          22108.00   \n",
       "17         11.00     1.00            Санкт-Петербург          33564.00   \n",
       "18          5.60     1.00            Санкт-Петербург          44060.00   \n",
       "19         12.00      NaN            Санкт-Петербург          38900.00   \n",
       "\n",
       "   cityCenters_nearest  parks_around3000  parks_nearest  ponds_around3000  \\\n",
       "0             16028.00              1.00         482.00              2.00   \n",
       "1             18603.00              0.00            NaN              0.00   \n",
       "2             13933.00              1.00          90.00              2.00   \n",
       "3              6800.00              2.00          84.00              3.00   \n",
       "4              8098.00              2.00         112.00              1.00   \n",
       "5                  NaN               NaN            NaN               NaN   \n",
       "6             19143.00              0.00            NaN              0.00   \n",
       "7             11634.00              0.00            NaN              0.00   \n",
       "8                  NaN               NaN            NaN               NaN   \n",
       "9             15008.00              0.00            NaN              0.00   \n",
       "10            13878.00              1.00         310.00              2.00   \n",
       "11            51677.00              0.00            NaN              0.00   \n",
       "12                 NaN               NaN            NaN               NaN   \n",
       "13            33058.00              1.00         294.00              3.00   \n",
       "14            30759.00              0.00            NaN              1.00   \n",
       "15            14259.00              1.00         590.00              1.00   \n",
       "16            10698.00              3.00         420.00              0.00   \n",
       "17            14616.00              0.00            NaN              1.00   \n",
       "18            10842.00              1.00         759.00              0.00   \n",
       "19            12843.00              0.00            NaN              0.00   \n",
       "\n",
       "    ponds_nearest  days_exposition  \n",
       "0          755.00              NaN  \n",
       "1             NaN            81.00  \n",
       "2          574.00           558.00  \n",
       "3          234.00           424.00  \n",
       "4           48.00           121.00  \n",
       "5             NaN            55.00  \n",
       "6             NaN           155.00  \n",
       "7             NaN              NaN  \n",
       "8             NaN           189.00  \n",
       "9             NaN           289.00  \n",
       "10         553.00           137.00  \n",
       "11            NaN             7.00  \n",
       "12            NaN            90.00  \n",
       "13         298.00           366.00  \n",
       "14          96.00           203.00  \n",
       "15         296.00            19.00  \n",
       "16            NaN           397.00  \n",
       "17         859.00           571.00  \n",
       "18            NaN           168.00  \n",
       "19            NaN            97.00  \n",
       "\n",
       "[20 rows x 22 columns]"
      ]
     },
     "execution_count": 4,
     "metadata": {},
     "output_type": "execute_result"
    }
   ],
   "source": [
    "df.head(20)"
   ]
  },
  {
   "cell_type": "markdown",
   "metadata": {},
   "source": [
    "Получение общей информации"
   ]
  },
  {
   "cell_type": "code",
   "execution_count": 5,
   "metadata": {},
   "outputs": [
    {
     "name": "stdout",
     "output_type": "stream",
     "text": [
      "<class 'pandas.core.frame.DataFrame'>\n",
      "RangeIndex: 23699 entries, 0 to 23698\n",
      "Data columns (total 22 columns):\n",
      " #   Column                Non-Null Count  Dtype  \n",
      "---  ------                --------------  -----  \n",
      " 0   total_images          23699 non-null  int64  \n",
      " 1   last_price            23699 non-null  float64\n",
      " 2   total_area            23699 non-null  float64\n",
      " 3   first_day_exposition  23699 non-null  object \n",
      " 4   rooms                 23699 non-null  int64  \n",
      " 5   ceiling_height        14504 non-null  float64\n",
      " 6   floors_total          23613 non-null  float64\n",
      " 7   living_area           21796 non-null  float64\n",
      " 8   floor                 23699 non-null  int64  \n",
      " 9   is_apartment          2775 non-null   object \n",
      " 10  studio                23699 non-null  bool   \n",
      " 11  open_plan             23699 non-null  bool   \n",
      " 12  kitchen_area          21421 non-null  float64\n",
      " 13  balcony               12180 non-null  float64\n",
      " 14  locality_name         23650 non-null  object \n",
      " 15  airports_nearest      18157 non-null  float64\n",
      " 16  cityCenters_nearest   18180 non-null  float64\n",
      " 17  parks_around3000      18181 non-null  float64\n",
      " 18  parks_nearest         8079 non-null   float64\n",
      " 19  ponds_around3000      18181 non-null  float64\n",
      " 20  ponds_nearest         9110 non-null   float64\n",
      " 21  days_exposition       20518 non-null  float64\n",
      "dtypes: bool(2), float64(14), int64(3), object(3)\n",
      "memory usage: 3.7+ MB\n"
     ]
    }
   ],
   "source": [
    "df.info()"
   ]
  },
  {
   "cell_type": "markdown",
   "metadata": {},
   "source": [
    "Выведем гистограммы, отражающие распределение каждого столбца"
   ]
  },
  {
   "cell_type": "code",
   "execution_count": 6,
   "metadata": {},
   "outputs": [
    {
     "data": {
      "text/plain": [
       "array([[<AxesSubplot:title={'center':'total_images'}>,\n",
       "        <AxesSubplot:title={'center':'last_price'}>,\n",
       "        <AxesSubplot:title={'center':'total_area'}>,\n",
       "        <AxesSubplot:title={'center':'rooms'}>],\n",
       "       [<AxesSubplot:title={'center':'ceiling_height'}>,\n",
       "        <AxesSubplot:title={'center':'floors_total'}>,\n",
       "        <AxesSubplot:title={'center':'living_area'}>,\n",
       "        <AxesSubplot:title={'center':'floor'}>],\n",
       "       [<AxesSubplot:title={'center':'kitchen_area'}>,\n",
       "        <AxesSubplot:title={'center':'balcony'}>,\n",
       "        <AxesSubplot:title={'center':'airports_nearest'}>,\n",
       "        <AxesSubplot:title={'center':'cityCenters_nearest'}>],\n",
       "       [<AxesSubplot:title={'center':'parks_around3000'}>,\n",
       "        <AxesSubplot:title={'center':'parks_nearest'}>,\n",
       "        <AxesSubplot:title={'center':'ponds_around3000'}>,\n",
       "        <AxesSubplot:title={'center':'ponds_nearest'}>],\n",
       "       [<AxesSubplot:title={'center':'days_exposition'}>, <AxesSubplot:>,\n",
       "        <AxesSubplot:>, <AxesSubplot:>]], dtype=object)"
      ]
     },
     "execution_count": 6,
     "metadata": {},
     "output_type": "execute_result"
    },
    {
     "data": {
      "image/png": "[encoded data removed]",
      "text/plain": [
       "<Figure size 1080x1440 with 20 Axes>"
      ]
     },
     "metadata": {
      "needs_background": "light"
     },
     "output_type": "display_data"
    }
   ],
   "source": [
    "df.hist(figsize=(15, 20))"
   ]
  },
  {
   "cell_type": "markdown",
   "metadata": {},
   "source": [
    "#### Выводы\n",
    "В ходе первичного изучения данных было обнаружено, что в следующих столбцах присутствуют пропуски:\n",
    "- \t***ceiling_height*** (высота потолков в метрах),\n",
    "- \t***floors_total*** (всего этажей в доме),\n",
    "- \t***living_area*** (жилая площадь в квадратных метрах),\n",
    "- \t***is_apartment*** (апартаменты – булев тип),\n",
    "- \t***kitchen_area*** (площадь кухни в квадратных метрах),\n",
    "- \t***balcony*** (число балконов),\n",
    "-   ***locality_name*** (название населенного пункта)\n",
    "- \t***airports_nearest*** (расстояние до ближайшего аэропорта в метрах),\n",
    "- \t***cityCenters_nearest*** (расстояние до центра города),\n",
    "- \t***parks_around3000*** (число парков в радиусе 3 км),\n",
    "- \t***parks_nearest*** (расстояние до ближайшего парка в метрах),\n",
    "- \t***ponds_around3000*** (число водоёмов в радиусе 3 км),\n",
    "- \t***ponds_nearest*** (расстояние до ближайшего водоёма в метрах),\n",
    "- \t***days_exposition*** (сколько дней было размещено объявление (от публикации до снятия))\n",
    "\n",
    "Помимо этого, было обнаружено, что к некоторым столбцам с данными относятся некорректные типы данных:\n",
    "- Столбец ***last_price*** имеет тип данных *float*, но вероятнее всего запись в десятичном виде необязательна, поэтому можно было бы перевести столбец в тип данных *int*.\n",
    "- Столбец ***first_day_exposition*** имеет тип данных *object*, но данные отражают определенную дату, соответственно должен быть тип данных *datetime* ( формат данных: %Y.%m.%dT%H:%M:%S) (может стоит попробовать перевести в дату без времени)\n",
    "- Столбец ***floors_total*** имеет тип данных *float*, но его значения отражают целые значения, поэтому стоит перевести его в *int*\n",
    "- Столбец ***is_apartment*** типа *object*, но по сути он должен быть *bool*\n",
    "- Столбец ***balcony*** типа float, но должен быть типа int, так как значения столбцов отражают целые числа\n",
    "- Столбцы ***airports_nearest***, ***cityCenters_nearest***, ***parks_around3000***, ***parks_nearest***, ***ponds_around3000***, ***ponds_nearest***, ***days_exposition*** стоит перевести из float в  int, так как  значения столбцов отражают целые числа"
   ]
  },
  {
   "cell_type": "markdown",
   "metadata": {},
   "source": [
    "### Предобработка данных"
   ]
  },
  {
   "cell_type": "markdown",
   "metadata": {},
   "source": [
    "Проведем замену пропущенных значений там, где возможно, заменим некорректные типы данных и проведем небольшую аналитику каждого столбца для выявления аномальных значений."
   ]
  },
  {
   "cell_type": "markdown",
   "metadata": {},
   "source": [
    "### Работа со столбцами и их предобработка"
   ]
  },
  {
   "cell_type": "markdown",
   "metadata": {},
   "source": [
    "#### Столбец last_price\n",
    "\n",
    "###### **Работа с пропусками**\n",
    "Все отлично\n",
    "###### **Работа с типом данных**\n",
    "Все отлично\n",
    "###### **Работа аномальными значениями**\n",
    "Обнаружено минимальное значение, которое не может соответствовать стоимости квартиры – 12190. Возможно, имелось ввиду значение, умноженное на тысячу, то есть 12190000, что вполне может быть реальным, с учетом площади квартиры."
   ]
  },
  {
   "cell_type": "code",
   "execution_count": 7,
   "metadata": {},
   "outputs": [
    {
     "data": {
      "text/plain": [
       "count       23699.00\n",
       "mean      6541548.77\n",
       "std      10887013.27\n",
       "min         12190.00\n",
       "25%       3400000.00\n",
       "50%       4650000.00\n",
       "75%       6800000.00\n",
       "max     763000000.00\n",
       "Name: last_price, dtype: float64"
      ]
     },
     "metadata": {},
     "output_type": "display_data"
    }
   ],
   "source": [
    "display(df['last_price'].describe())"
   ]
  },
  {
   "cell_type": "markdown",
   "metadata": {},
   "source": [
    "Видно минимальное значение 12190. Выведем строку полностью для подробного рассмотрения"
   ]
  },
  {
   "cell_type": "code",
   "execution_count": 8,
   "metadata": {},
   "outputs": [
    {
     "data": {
      "text/html": [
       "<div>\n",
       "<style scoped>\n",
       "    .dataframe tbody tr th:only-of-type {\n",
       "        vertical-align: middle;\n",
       "    }\n",
       "\n",
       "    .dataframe tbody tr th {\n",
       "        vertical-align: top;\n",
       "    }\n",
       "\n",
       "    .dataframe thead th {\n",
       "        text-align: right;\n",
       "    }\n",
       "</style>\n",
       "<table border=\"1\" class=\"dataframe\">\n",
       "  <thead>\n",
       "    <tr style=\"text-align: right;\">\n",
       "      <th></th>\n",
       "      <th>total_images</th>\n",
       "      <th>last_price</th>\n",
       "      <th>total_area</th>\n",
       "      <th>first_day_exposition</th>\n",
       "      <th>rooms</th>\n",
       "      <th>ceiling_height</th>\n",
       "      <th>floors_total</th>\n",
       "      <th>living_area</th>\n",
       "      <th>floor</th>\n",
       "      <th>is_apartment</th>\n",
       "      <th>...</th>\n",
       "      <th>kitchen_area</th>\n",
       "      <th>balcony</th>\n",
       "      <th>locality_name</th>\n",
       "      <th>airports_nearest</th>\n",
       "      <th>cityCenters_nearest</th>\n",
       "      <th>parks_around3000</th>\n",
       "      <th>parks_nearest</th>\n",
       "      <th>ponds_around3000</th>\n",
       "      <th>ponds_nearest</th>\n",
       "      <th>days_exposition</th>\n",
       "    </tr>\n",
       "  </thead>\n",
       "  <tbody>\n",
       "    <tr>\n",
       "      <th>8793</th>\n",
       "      <td>7</td>\n",
       "      <td>12190.00</td>\n",
       "      <td>109.00</td>\n",
       "      <td>2019-03-20T00:00:00</td>\n",
       "      <td>2</td>\n",
       "      <td>2.75</td>\n",
       "      <td>25.00</td>\n",
       "      <td>32.00</td>\n",
       "      <td>25</td>\n",
       "      <td>NaN</td>\n",
       "      <td>...</td>\n",
       "      <td>40.50</td>\n",
       "      <td>NaN</td>\n",
       "      <td>Санкт-Петербург</td>\n",
       "      <td>36421.00</td>\n",
       "      <td>9176.00</td>\n",
       "      <td>1.00</td>\n",
       "      <td>805.00</td>\n",
       "      <td>0.00</td>\n",
       "      <td>NaN</td>\n",
       "      <td>8.00</td>\n",
       "    </tr>\n",
       "  </tbody>\n",
       "</table>\n",
       "<p>1 rows × 22 columns</p>\n",
       "</div>"
      ],
      "text/plain": [
       "      total_images  last_price  total_area first_day_exposition  rooms  \\\n",
       "8793             7    12190.00      109.00  2019-03-20T00:00:00      2   \n",
       "\n",
       "      ceiling_height  floors_total  living_area  floor is_apartment  ...  \\\n",
       "8793            2.75         25.00        32.00     25          NaN  ...   \n",
       "\n",
       "      kitchen_area  balcony    locality_name  airports_nearest  \\\n",
       "8793         40.50      NaN  Санкт-Петербург          36421.00   \n",
       "\n",
       "     cityCenters_nearest  parks_around3000  parks_nearest  ponds_around3000  \\\n",
       "8793             9176.00              1.00         805.00              0.00   \n",
       "\n",
       "      ponds_nearest  days_exposition  \n",
       "8793            NaN             8.00  \n",
       "\n",
       "[1 rows x 22 columns]"
      ]
     },
     "metadata": {},
     "output_type": "display_data"
    }
   ],
   "source": [
    "display(df[df['last_price'] == df['last_price'].min()]) # Вывод строчки с минимальной стоимостью жилья"
   ]
  },
  {
   "cell_type": "markdown",
   "metadata": {},
   "source": [
    "Умножим это число на 1000"
   ]
  },
  {
   "cell_type": "code",
   "execution_count": 9,
   "metadata": {},
   "outputs": [],
   "source": [
    "df['last_price'] = df['last_price'].where(df['last_price'] != df['last_price'].min(), other= df['last_price'] * 1000)"
   ]
  },
  {
   "cell_type": "markdown",
   "metadata": {},
   "source": [
    "#### Столбец first_day_exposition\n",
    "###### **Работа с пропусками**\n",
    "Все отлично\n",
    "###### **Работа с типом данных**\n",
    "Столбец *first_day_exposition* имеет тип данных *object*, но данные отражают определенную дату, соответственно должен быть тип данных *datetime* ( формат данных: %Y.%m.%dT%H:%M:%S)\n",
    "###### **Работа аномальными значениями**\n",
    "Аномальных значений нет"
   ]
  },
  {
   "cell_type": "markdown",
   "metadata": {},
   "source": [
    "Заменяем тип данных на datetime"
   ]
  },
  {
   "cell_type": "code",
   "execution_count": 10,
   "metadata": {},
   "outputs": [],
   "source": [
    "df['first_day_exposition'] = pd.to_datetime(df['first_day_exposition'], format='%Y.%m.%dT%H:%M:%S')"
   ]
  },
  {
   "cell_type": "markdown",
   "metadata": {},
   "source": [
    "#### Столбец rooms\n",
    "\n",
    "###### **Работа с пропусками**\n",
    "Пропусков нет\n",
    "###### **Работа с типом данных**\n",
    "Целочисленный тип данных подходит под специфику значений\n",
    "###### **Работа аномальными значениями**\n",
    "Обнаружено 197 значений, где указано 0 комнат. Вероятнее всего, все эти значения относятся либо к студиям, либо к квартирам со свободной планировкой. По сути, в обоих случаях не может быть, чтобы не было ни одной комнаты, поэтому стоит перевести нули в единицы."
   ]
  },
  {
   "cell_type": "code",
   "execution_count": 11,
   "metadata": {},
   "outputs": [
    {
     "data": {
      "text/plain": [
       "1     8047\n",
       "2     7940\n",
       "3     5814\n",
       "4     1180\n",
       "5      326\n",
       "0      197\n",
       "6      105\n",
       "7       59\n",
       "8       12\n",
       "9        8\n",
       "10       3\n",
       "11       2\n",
       "14       2\n",
       "19       1\n",
       "16       1\n",
       "12       1\n",
       "15       1\n",
       "Name: rooms, dtype: int64"
      ]
     },
     "execution_count": 11,
     "metadata": {},
     "output_type": "execute_result"
    }
   ],
   "source": [
    "df['rooms'].value_counts()"
   ]
  },
  {
   "cell_type": "markdown",
   "metadata": {},
   "source": [
    "Видно, что присутствуют 197 значений, где указано 0 комнат. Проверим, что ко всем нулям в столбце относятся значения true в столбцах studio и open_plan"
   ]
  },
  {
   "cell_type": "code",
   "execution_count": 12,
   "metadata": {},
   "outputs": [
    {
     "data": {
      "text/html": [
       "<div>\n",
       "<style scoped>\n",
       "    .dataframe tbody tr th:only-of-type {\n",
       "        vertical-align: middle;\n",
       "    }\n",
       "\n",
       "    .dataframe tbody tr th {\n",
       "        vertical-align: top;\n",
       "    }\n",
       "\n",
       "    .dataframe thead th {\n",
       "        text-align: right;\n",
       "    }\n",
       "</style>\n",
       "<table border=\"1\" class=\"dataframe\">\n",
       "  <thead>\n",
       "    <tr style=\"text-align: right;\">\n",
       "      <th></th>\n",
       "      <th>total_images</th>\n",
       "      <th>last_price</th>\n",
       "      <th>total_area</th>\n",
       "      <th>first_day_exposition</th>\n",
       "      <th>rooms</th>\n",
       "      <th>ceiling_height</th>\n",
       "      <th>floors_total</th>\n",
       "      <th>living_area</th>\n",
       "      <th>floor</th>\n",
       "      <th>is_apartment</th>\n",
       "      <th>...</th>\n",
       "      <th>kitchen_area</th>\n",
       "      <th>balcony</th>\n",
       "      <th>locality_name</th>\n",
       "      <th>airports_nearest</th>\n",
       "      <th>cityCenters_nearest</th>\n",
       "      <th>parks_around3000</th>\n",
       "      <th>parks_nearest</th>\n",
       "      <th>ponds_around3000</th>\n",
       "      <th>ponds_nearest</th>\n",
       "      <th>days_exposition</th>\n",
       "    </tr>\n",
       "  </thead>\n",
       "  <tbody>\n",
       "    <tr>\n",
       "      <th>144</th>\n",
       "      <td>1</td>\n",
       "      <td>2450000.00</td>\n",
       "      <td>27.00</td>\n",
       "      <td>2017-03-30</td>\n",
       "      <td>0</td>\n",
       "      <td>NaN</td>\n",
       "      <td>24.00</td>\n",
       "      <td>15.50</td>\n",
       "      <td>2</td>\n",
       "      <td>NaN</td>\n",
       "      <td>...</td>\n",
       "      <td>NaN</td>\n",
       "      <td>2.00</td>\n",
       "      <td>посёлок Мурино</td>\n",
       "      <td>NaN</td>\n",
       "      <td>NaN</td>\n",
       "      <td>NaN</td>\n",
       "      <td>NaN</td>\n",
       "      <td>NaN</td>\n",
       "      <td>NaN</td>\n",
       "      <td>181.00</td>\n",
       "    </tr>\n",
       "    <tr>\n",
       "      <th>349</th>\n",
       "      <td>4</td>\n",
       "      <td>2320000.00</td>\n",
       "      <td>25.00</td>\n",
       "      <td>2017-09-27</td>\n",
       "      <td>0</td>\n",
       "      <td>NaN</td>\n",
       "      <td>14.00</td>\n",
       "      <td>17.00</td>\n",
       "      <td>1</td>\n",
       "      <td>NaN</td>\n",
       "      <td>...</td>\n",
       "      <td>NaN</td>\n",
       "      <td>0.00</td>\n",
       "      <td>деревня Кудрово</td>\n",
       "      <td>NaN</td>\n",
       "      <td>NaN</td>\n",
       "      <td>NaN</td>\n",
       "      <td>NaN</td>\n",
       "      <td>NaN</td>\n",
       "      <td>NaN</td>\n",
       "      <td>45.00</td>\n",
       "    </tr>\n",
       "    <tr>\n",
       "      <th>440</th>\n",
       "      <td>8</td>\n",
       "      <td>2480000.00</td>\n",
       "      <td>27.11</td>\n",
       "      <td>2018-03-12</td>\n",
       "      <td>0</td>\n",
       "      <td>NaN</td>\n",
       "      <td>17.00</td>\n",
       "      <td>24.75</td>\n",
       "      <td>4</td>\n",
       "      <td>NaN</td>\n",
       "      <td>...</td>\n",
       "      <td>NaN</td>\n",
       "      <td>2.00</td>\n",
       "      <td>Санкт-Петербург</td>\n",
       "      <td>38171.00</td>\n",
       "      <td>15015.00</td>\n",
       "      <td>0.00</td>\n",
       "      <td>NaN</td>\n",
       "      <td>2.00</td>\n",
       "      <td>982.00</td>\n",
       "      <td>64.00</td>\n",
       "    </tr>\n",
       "    <tr>\n",
       "      <th>508</th>\n",
       "      <td>0</td>\n",
       "      <td>3375000.00</td>\n",
       "      <td>34.40</td>\n",
       "      <td>2017-03-28</td>\n",
       "      <td>0</td>\n",
       "      <td>NaN</td>\n",
       "      <td>26.00</td>\n",
       "      <td>24.30</td>\n",
       "      <td>19</td>\n",
       "      <td>NaN</td>\n",
       "      <td>...</td>\n",
       "      <td>NaN</td>\n",
       "      <td>1.00</td>\n",
       "      <td>посёлок Парголово</td>\n",
       "      <td>53115.00</td>\n",
       "      <td>19292.00</td>\n",
       "      <td>0.00</td>\n",
       "      <td>NaN</td>\n",
       "      <td>1.00</td>\n",
       "      <td>593.00</td>\n",
       "      <td>430.00</td>\n",
       "    </tr>\n",
       "    <tr>\n",
       "      <th>608</th>\n",
       "      <td>2</td>\n",
       "      <td>1850000.00</td>\n",
       "      <td>25.00</td>\n",
       "      <td>2019-02-20</td>\n",
       "      <td>0</td>\n",
       "      <td>NaN</td>\n",
       "      <td>10.00</td>\n",
       "      <td>NaN</td>\n",
       "      <td>7</td>\n",
       "      <td>NaN</td>\n",
       "      <td>...</td>\n",
       "      <td>NaN</td>\n",
       "      <td>NaN</td>\n",
       "      <td>посёлок Шушары</td>\n",
       "      <td>NaN</td>\n",
       "      <td>NaN</td>\n",
       "      <td>NaN</td>\n",
       "      <td>NaN</td>\n",
       "      <td>NaN</td>\n",
       "      <td>NaN</td>\n",
       "      <td>29.00</td>\n",
       "    </tr>\n",
       "    <tr>\n",
       "      <th>...</th>\n",
       "      <td>...</td>\n",
       "      <td>...</td>\n",
       "      <td>...</td>\n",
       "      <td>...</td>\n",
       "      <td>...</td>\n",
       "      <td>...</td>\n",
       "      <td>...</td>\n",
       "      <td>...</td>\n",
       "      <td>...</td>\n",
       "      <td>...</td>\n",
       "      <td>...</td>\n",
       "      <td>...</td>\n",
       "      <td>...</td>\n",
       "      <td>...</td>\n",
       "      <td>...</td>\n",
       "      <td>...</td>\n",
       "      <td>...</td>\n",
       "      <td>...</td>\n",
       "      <td>...</td>\n",
       "      <td>...</td>\n",
       "      <td>...</td>\n",
       "    </tr>\n",
       "    <tr>\n",
       "      <th>23210</th>\n",
       "      <td>7</td>\n",
       "      <td>3200000.00</td>\n",
       "      <td>26.00</td>\n",
       "      <td>2017-09-01</td>\n",
       "      <td>0</td>\n",
       "      <td>NaN</td>\n",
       "      <td>25.00</td>\n",
       "      <td>18.00</td>\n",
       "      <td>16</td>\n",
       "      <td>NaN</td>\n",
       "      <td>...</td>\n",
       "      <td>NaN</td>\n",
       "      <td>0.00</td>\n",
       "      <td>Санкт-Петербург</td>\n",
       "      <td>11405.00</td>\n",
       "      <td>13222.00</td>\n",
       "      <td>0.00</td>\n",
       "      <td>NaN</td>\n",
       "      <td>1.00</td>\n",
       "      <td>623.00</td>\n",
       "      <td>14.00</td>\n",
       "    </tr>\n",
       "    <tr>\n",
       "      <th>23442</th>\n",
       "      <td>0</td>\n",
       "      <td>2500000.00</td>\n",
       "      <td>27.70</td>\n",
       "      <td>2017-09-28</td>\n",
       "      <td>0</td>\n",
       "      <td>NaN</td>\n",
       "      <td>24.00</td>\n",
       "      <td>18.00</td>\n",
       "      <td>4</td>\n",
       "      <td>NaN</td>\n",
       "      <td>...</td>\n",
       "      <td>NaN</td>\n",
       "      <td>2.00</td>\n",
       "      <td>посёлок Мурино</td>\n",
       "      <td>NaN</td>\n",
       "      <td>NaN</td>\n",
       "      <td>NaN</td>\n",
       "      <td>NaN</td>\n",
       "      <td>NaN</td>\n",
       "      <td>NaN</td>\n",
       "      <td>4.00</td>\n",
       "    </tr>\n",
       "    <tr>\n",
       "      <th>23554</th>\n",
       "      <td>15</td>\n",
       "      <td>3350000.00</td>\n",
       "      <td>26.00</td>\n",
       "      <td>2018-09-07</td>\n",
       "      <td>0</td>\n",
       "      <td>NaN</td>\n",
       "      <td>19.00</td>\n",
       "      <td>NaN</td>\n",
       "      <td>8</td>\n",
       "      <td>NaN</td>\n",
       "      <td>...</td>\n",
       "      <td>NaN</td>\n",
       "      <td>NaN</td>\n",
       "      <td>Санкт-Петербург</td>\n",
       "      <td>18090.00</td>\n",
       "      <td>17092.00</td>\n",
       "      <td>0.00</td>\n",
       "      <td>NaN</td>\n",
       "      <td>2.00</td>\n",
       "      <td>112.00</td>\n",
       "      <td>31.00</td>\n",
       "    </tr>\n",
       "    <tr>\n",
       "      <th>23592</th>\n",
       "      <td>10</td>\n",
       "      <td>1450000.00</td>\n",
       "      <td>29.00</td>\n",
       "      <td>2017-11-11</td>\n",
       "      <td>0</td>\n",
       "      <td>NaN</td>\n",
       "      <td>9.00</td>\n",
       "      <td>18.00</td>\n",
       "      <td>8</td>\n",
       "      <td>NaN</td>\n",
       "      <td>...</td>\n",
       "      <td>NaN</td>\n",
       "      <td>2.00</td>\n",
       "      <td>Никольское</td>\n",
       "      <td>NaN</td>\n",
       "      <td>NaN</td>\n",
       "      <td>NaN</td>\n",
       "      <td>NaN</td>\n",
       "      <td>NaN</td>\n",
       "      <td>NaN</td>\n",
       "      <td>82.00</td>\n",
       "    </tr>\n",
       "    <tr>\n",
       "      <th>23637</th>\n",
       "      <td>8</td>\n",
       "      <td>2350000.00</td>\n",
       "      <td>26.00</td>\n",
       "      <td>2018-06-26</td>\n",
       "      <td>0</td>\n",
       "      <td>NaN</td>\n",
       "      <td>25.00</td>\n",
       "      <td>17.00</td>\n",
       "      <td>4</td>\n",
       "      <td>NaN</td>\n",
       "      <td>...</td>\n",
       "      <td>NaN</td>\n",
       "      <td>2.00</td>\n",
       "      <td>посёлок Бугры</td>\n",
       "      <td>NaN</td>\n",
       "      <td>NaN</td>\n",
       "      <td>NaN</td>\n",
       "      <td>NaN</td>\n",
       "      <td>NaN</td>\n",
       "      <td>NaN</td>\n",
       "      <td>207.00</td>\n",
       "    </tr>\n",
       "  </tbody>\n",
       "</table>\n",
       "<p>197 rows × 22 columns</p>\n",
       "</div>"
      ],
      "text/plain": [
       "       total_images  last_price  total_area first_day_exposition  rooms  \\\n",
       "144               1  2450000.00       27.00           2017-03-30      0   \n",
       "349               4  2320000.00       25.00           2017-09-27      0   \n",
       "440               8  2480000.00       27.11           2018-03-12      0   \n",
       "508               0  3375000.00       34.40           2017-03-28      0   \n",
       "608               2  1850000.00       25.00           2019-02-20      0   \n",
       "...             ...         ...         ...                  ...    ...   \n",
       "23210             7  3200000.00       26.00           2017-09-01      0   \n",
       "23442             0  2500000.00       27.70           2017-09-28      0   \n",
       "23554            15  3350000.00       26.00           2018-09-07      0   \n",
       "23592            10  1450000.00       29.00           2017-11-11      0   \n",
       "23637             8  2350000.00       26.00           2018-06-26      0   \n",
       "\n",
       "       ceiling_height  floors_total  living_area  floor is_apartment  ...  \\\n",
       "144               NaN         24.00        15.50      2          NaN  ...   \n",
       "349               NaN         14.00        17.00      1          NaN  ...   \n",
       "440               NaN         17.00        24.75      4          NaN  ...   \n",
       "508               NaN         26.00        24.30     19          NaN  ...   \n",
       "608               NaN         10.00          NaN      7          NaN  ...   \n",
       "...               ...           ...          ...    ...          ...  ...   \n",
       "23210             NaN         25.00        18.00     16          NaN  ...   \n",
       "23442             NaN         24.00        18.00      4          NaN  ...   \n",
       "23554             NaN         19.00          NaN      8          NaN  ...   \n",
       "23592             NaN          9.00        18.00      8          NaN  ...   \n",
       "23637             NaN         25.00        17.00      4          NaN  ...   \n",
       "\n",
       "       kitchen_area  balcony      locality_name  airports_nearest  \\\n",
       "144             NaN     2.00     посёлок Мурино               NaN   \n",
       "349             NaN     0.00    деревня Кудрово               NaN   \n",
       "440             NaN     2.00    Санкт-Петербург          38171.00   \n",
       "508             NaN     1.00  посёлок Парголово          53115.00   \n",
       "608             NaN      NaN     посёлок Шушары               NaN   \n",
       "...             ...      ...                ...               ...   \n",
       "23210           NaN     0.00    Санкт-Петербург          11405.00   \n",
       "23442           NaN     2.00     посёлок Мурино               NaN   \n",
       "23554           NaN      NaN    Санкт-Петербург          18090.00   \n",
       "23592           NaN     2.00         Никольское               NaN   \n",
       "23637           NaN     2.00      посёлок Бугры               NaN   \n",
       "\n",
       "      cityCenters_nearest  parks_around3000  parks_nearest  ponds_around3000  \\\n",
       "144                   NaN               NaN            NaN               NaN   \n",
       "349                   NaN               NaN            NaN               NaN   \n",
       "440              15015.00              0.00            NaN              2.00   \n",
       "508              19292.00              0.00            NaN              1.00   \n",
       "608                   NaN               NaN            NaN               NaN   \n",
       "...                   ...               ...            ...               ...   \n",
       "23210            13222.00              0.00            NaN              1.00   \n",
       "23442                 NaN               NaN            NaN               NaN   \n",
       "23554            17092.00              0.00            NaN              2.00   \n",
       "23592                 NaN               NaN            NaN               NaN   \n",
       "23637                 NaN               NaN            NaN               NaN   \n",
       "\n",
       "       ponds_nearest  days_exposition  \n",
       "144              NaN           181.00  \n",
       "349              NaN            45.00  \n",
       "440           982.00            64.00  \n",
       "508           593.00           430.00  \n",
       "608              NaN            29.00  \n",
       "...              ...              ...  \n",
       "23210         623.00            14.00  \n",
       "23442            NaN             4.00  \n",
       "23554         112.00            31.00  \n",
       "23592            NaN            82.00  \n",
       "23637            NaN           207.00  \n",
       "\n",
       "[197 rows x 22 columns]"
      ]
     },
     "execution_count": 12,
     "metadata": {},
     "output_type": "execute_result"
    }
   ],
   "source": [
    "df.query('rooms  == 0  & (studio == True | open_plan == True)')"
   ]
  },
  {
   "cell_type": "markdown",
   "metadata": {},
   "source": [
    "Видно, что в срезе содержатся все 197 строки со значениями 0 в столбце rooms. Тем самым можно сделать вывод, что есть взаимосвязь между количеством комнат и типом квартиры (столбцы studio и open_plan). Оставим нули для того, чтобы различать студии от однокомнатных квартир"
   ]
  },
  {
   "cell_type": "markdown",
   "metadata": {},
   "source": [
    "#### Столбец ceiling_height\n",
    "###### **Работа с пропусками**\n",
    "Этот столбец отражает высоту потолков в метрах. Поскольку процент пропусков составляет **38.8 %**, их заполнение обязательно. В данном случае незаполнение графы высоты потолков вероятнее всего ни от чего не зависело, поэтому пустые строки были заменены медианным значением всех имеющихся высот 2.65м (что равно стандартной высоте потолков в России)\n",
    "###### **Работа с типом данных**\n",
    "Тип float64 соответствует данным в столбце, изменений не требуется\n",
    "###### **Работа аномальными значениями**\n",
    "Были разделены значения, большие 10 метров на 10, так как могла произойти такая ситуация, что клиент не поставил разделительный символ при указании высоты своих потолков. Помимо этого, следует были удалены значения высот потолков менее 2.4‑м, так как это 2.4 м – минимально возможная высота потолков."
   ]
  },
  {
   "cell_type": "markdown",
   "metadata": {},
   "source": [
    "Заменим все пропуски медианным значением"
   ]
  },
  {
   "cell_type": "code",
   "execution_count": 13,
   "metadata": {},
   "outputs": [],
   "source": [
    "df['ceiling_height'] = df['ceiling_height'].fillna(df['ceiling_height'].median())"
   ]
  },
  {
   "cell_type": "markdown",
   "metadata": {},
   "source": [
    "Рассмотрим столбец поподробнее, построив ящик с усами"
   ]
  },
  {
   "cell_type": "code",
   "execution_count": 14,
   "metadata": {},
   "outputs": [
    {
     "data": {
      "text/plain": [
       "<AxesSubplot:>"
      ]
     },
     "execution_count": 14,
     "metadata": {},
     "output_type": "execute_result"
    },
    {
     "data": {
      "image/png": "[encoded data removed]",
      "text/plain": [
       "<Figure size 432x288 with 1 Axes>"
      ]
     },
     "metadata": {
      "needs_background": "light"
     },
     "output_type": "display_data"
    }
   ],
   "source": [
    "df.boxplot('ceiling_height')"
   ]
  },
  {
   "cell_type": "markdown",
   "metadata": {},
   "source": [
    "Видно, что присутствует много значений больше 20 метров. Это может быть связано с пропуском разделительного знака, ведь это пользовательские данные, в которых могут присутствовать ошибки. С другой стороны, по строительным нормативам потолок не может быть ниже 2.4 метров. Поделим все значения, которые больше или равны 10 на 10 и удалим все значения, меньшие 2.4 м"
   ]
  },
  {
   "cell_type": "code",
   "execution_count": 15,
   "metadata": {},
   "outputs": [],
   "source": [
    "df['ceiling_height'] = df['ceiling_height'].where((df[\"ceiling_height\"]<=20) | df[\"ceiling_height\"].isna() == True, other = df[\"ceiling_height\"]/10)\n",
    "df = df[df['ceiling_height'] >= 2.4]"
   ]
  },
  {
   "cell_type": "markdown",
   "metadata": {},
   "source": [
    "#### Столбец floors_total\n",
    "##### Работа с пропусками\n",
    "С учетом того, что процент пропусков составляет менее одного процента (**0.36%**), заполнять пропуски необязательно, так как это сильно не повлияет на результаты. Незаполнение вероятнее всего ни от чего не зависело, клиент посчитал графу необязательной\n",
    "##### Работа с типом данных\n",
    "Данному столбцу не подходит тип данных *float*, его стоит перевести в *Int64*. Выбран именно этот тип данных в связи с тем, что в столбце есть пропуски, а классический int64 не позволит перевести тип данных из-за них.\n",
    "##### Работа с аномальными значениями\n",
    "Одна из моих гипотез заключается в том, что может быть такое, что указанный этаж будет выше, чем общее количество этажей в здании. Результатом проверки было получено, что аномальных значений в столбце нет."
   ]
  },
  {
   "cell_type": "markdown",
   "metadata": {},
   "source": [
    "Проверим данные на корректность: все этажи точно должны быть меньше или равны общему количеству этажей. Поэтому попробуем вывести датафрейм с условием, что общее количество этажей меньше указанного этажа"
   ]
  },
  {
   "cell_type": "code",
   "execution_count": 16,
   "metadata": {},
   "outputs": [
    {
     "data": {
      "text/html": [
       "<div>\n",
       "<style scoped>\n",
       "    .dataframe tbody tr th:only-of-type {\n",
       "        vertical-align: middle;\n",
       "    }\n",
       "\n",
       "    .dataframe tbody tr th {\n",
       "        vertical-align: top;\n",
       "    }\n",
       "\n",
       "    .dataframe thead th {\n",
       "        text-align: right;\n",
       "    }\n",
       "</style>\n",
       "<table border=\"1\" class=\"dataframe\">\n",
       "  <thead>\n",
       "    <tr style=\"text-align: right;\">\n",
       "      <th></th>\n",
       "      <th>total_images</th>\n",
       "      <th>last_price</th>\n",
       "      <th>total_area</th>\n",
       "      <th>first_day_exposition</th>\n",
       "      <th>rooms</th>\n",
       "      <th>ceiling_height</th>\n",
       "      <th>floors_total</th>\n",
       "      <th>living_area</th>\n",
       "      <th>floor</th>\n",
       "      <th>is_apartment</th>\n",
       "      <th>...</th>\n",
       "      <th>kitchen_area</th>\n",
       "      <th>balcony</th>\n",
       "      <th>locality_name</th>\n",
       "      <th>airports_nearest</th>\n",
       "      <th>cityCenters_nearest</th>\n",
       "      <th>parks_around3000</th>\n",
       "      <th>parks_nearest</th>\n",
       "      <th>ponds_around3000</th>\n",
       "      <th>ponds_nearest</th>\n",
       "      <th>days_exposition</th>\n",
       "    </tr>\n",
       "  </thead>\n",
       "  <tbody>\n",
       "  </tbody>\n",
       "</table>\n",
       "<p>0 rows × 22 columns</p>\n",
       "</div>"
      ],
      "text/plain": [
       "Empty DataFrame\n",
       "Columns: [total_images, last_price, total_area, first_day_exposition, rooms, ceiling_height, floors_total, living_area, floor, is_apartment, studio, open_plan, kitchen_area, balcony, locality_name, airports_nearest, cityCenters_nearest, parks_around3000, parks_nearest, ponds_around3000, ponds_nearest, days_exposition]\n",
       "Index: []\n",
       "\n",
       "[0 rows x 22 columns]"
      ]
     },
     "metadata": {},
     "output_type": "display_data"
    }
   ],
   "source": [
    "display(df[df['floors_total'] < df['floor']])"
   ]
  },
  {
   "cell_type": "markdown",
   "metadata": {},
   "source": [
    "Видим, что этажи всегда меньше, чем общее количество"
   ]
  },
  {
   "cell_type": "markdown",
   "metadata": {},
   "source": [
    "Переведем тип данных в Int64. Выбран именно этот тип данных в связи с тем, что в столбце есть пропуски, а классический int не позволяет перевести тип данных из-за них."
   ]
  },
  {
   "cell_type": "code",
   "execution_count": 17,
   "metadata": {},
   "outputs": [],
   "source": [
    "df['floors_total'] = df['floors_total'].astype('Int64')"
   ]
  },
  {
   "cell_type": "markdown",
   "metadata": {},
   "source": [
    "#### Столбец living_area\n",
    "##### Работа с пропусками\n",
    "Процент пропусков в данном столбце составляет **8.03%**. В данном случае, предугадать площади квартир нельзя, так как все квартиры разные, с разной и в большинстве случаев уникальной планировкой. Поэтому заменять пустые значения медианным значением не совсем правильно, поэтому были оставлены пропуски. Вероятнее всего графа необязательна, поэтому человек не посчитал важным ее заполнение.\n",
    "##### Работа с типом данных\n",
    "Тип данных подходит к значениям столбца\n",
    "##### Работа с аномальными значениями\n",
    "Данные выглядят нормально, однако стоило бы проверить величины жилой площади, которые должны быть меньше, чем общая площадь квартиры. Обнаружено, что есть такие случаи, когда жилая площадь равна общей. Вероятнее всего, это связано с тем, что эти квартиры имеют \"свободную планировку\"."
   ]
  },
  {
   "cell_type": "markdown",
   "metadata": {},
   "source": [
    "Проверим гипотезу о том, что общая квартира должна быть больше или равна жилой площади."
   ]
  },
  {
   "cell_type": "code",
   "execution_count": 18,
   "metadata": {},
   "outputs": [
    {
     "data": {
      "text/html": [
       "<div>\n",
       "<style scoped>\n",
       "    .dataframe tbody tr th:only-of-type {\n",
       "        vertical-align: middle;\n",
       "    }\n",
       "\n",
       "    .dataframe tbody tr th {\n",
       "        vertical-align: top;\n",
       "    }\n",
       "\n",
       "    .dataframe thead th {\n",
       "        text-align: right;\n",
       "    }\n",
       "</style>\n",
       "<table border=\"1\" class=\"dataframe\">\n",
       "  <thead>\n",
       "    <tr style=\"text-align: right;\">\n",
       "      <th></th>\n",
       "      <th>total_images</th>\n",
       "      <th>last_price</th>\n",
       "      <th>total_area</th>\n",
       "      <th>first_day_exposition</th>\n",
       "      <th>rooms</th>\n",
       "      <th>ceiling_height</th>\n",
       "      <th>floors_total</th>\n",
       "      <th>living_area</th>\n",
       "      <th>floor</th>\n",
       "      <th>is_apartment</th>\n",
       "      <th>...</th>\n",
       "      <th>kitchen_area</th>\n",
       "      <th>balcony</th>\n",
       "      <th>locality_name</th>\n",
       "      <th>airports_nearest</th>\n",
       "      <th>cityCenters_nearest</th>\n",
       "      <th>parks_around3000</th>\n",
       "      <th>parks_nearest</th>\n",
       "      <th>ponds_around3000</th>\n",
       "      <th>ponds_nearest</th>\n",
       "      <th>days_exposition</th>\n",
       "    </tr>\n",
       "  </thead>\n",
       "  <tbody>\n",
       "    <tr>\n",
       "      <th>9861</th>\n",
       "      <td>10</td>\n",
       "      <td>2350000.00</td>\n",
       "      <td>25.00</td>\n",
       "      <td>2017-12-03</td>\n",
       "      <td>0</td>\n",
       "      <td>2.65</td>\n",
       "      <td>22</td>\n",
       "      <td>25.00</td>\n",
       "      <td>17</td>\n",
       "      <td>NaN</td>\n",
       "      <td>...</td>\n",
       "      <td>NaN</td>\n",
       "      <td>2.00</td>\n",
       "      <td>посёлок Мурино</td>\n",
       "      <td>NaN</td>\n",
       "      <td>NaN</td>\n",
       "      <td>NaN</td>\n",
       "      <td>NaN</td>\n",
       "      <td>NaN</td>\n",
       "      <td>NaN</td>\n",
       "      <td>13.00</td>\n",
       "    </tr>\n",
       "    <tr>\n",
       "      <th>12691</th>\n",
       "      <td>1</td>\n",
       "      <td>3700000.00</td>\n",
       "      <td>24.20</td>\n",
       "      <td>2017-11-10</td>\n",
       "      <td>0</td>\n",
       "      <td>2.65</td>\n",
       "      <td>19</td>\n",
       "      <td>24.20</td>\n",
       "      <td>13</td>\n",
       "      <td>NaN</td>\n",
       "      <td>...</td>\n",
       "      <td>NaN</td>\n",
       "      <td>1.00</td>\n",
       "      <td>Санкт-Петербург</td>\n",
       "      <td>17837.00</td>\n",
       "      <td>16840.00</td>\n",
       "      <td>0.00</td>\n",
       "      <td>NaN</td>\n",
       "      <td>2.00</td>\n",
       "      <td>210.00</td>\n",
       "      <td>74.00</td>\n",
       "    </tr>\n",
       "  </tbody>\n",
       "</table>\n",
       "<p>2 rows × 22 columns</p>\n",
       "</div>"
      ],
      "text/plain": [
       "       total_images  last_price  total_area first_day_exposition  rooms  \\\n",
       "9861             10  2350000.00       25.00           2017-12-03      0   \n",
       "12691             1  3700000.00       24.20           2017-11-10      0   \n",
       "\n",
       "       ceiling_height  floors_total  living_area  floor is_apartment  ...  \\\n",
       "9861             2.65            22        25.00     17          NaN  ...   \n",
       "12691            2.65            19        24.20     13          NaN  ...   \n",
       "\n",
       "       kitchen_area  balcony    locality_name  airports_nearest  \\\n",
       "9861            NaN     2.00   посёлок Мурино               NaN   \n",
       "12691           NaN     1.00  Санкт-Петербург          17837.00   \n",
       "\n",
       "      cityCenters_nearest  parks_around3000  parks_nearest  ponds_around3000  \\\n",
       "9861                  NaN               NaN            NaN               NaN   \n",
       "12691            16840.00              0.00            NaN              2.00   \n",
       "\n",
       "       ponds_nearest  days_exposition  \n",
       "9861             NaN            13.00  \n",
       "12691         210.00            74.00  \n",
       "\n",
       "[2 rows x 22 columns]"
      ]
     },
     "execution_count": 18,
     "metadata": {},
     "output_type": "execute_result"
    }
   ],
   "source": [
    "df[df['total_area'] <= df['living_area']]"
   ]
  },
  {
   "cell_type": "markdown",
   "metadata": {},
   "source": [
    "Видим, что вывелись строки, при которых значения total_area равны значениям living_area. Вероятнее всего это взаимосвязано с тем, что эти квартиры имеют свободную планировку."
   ]
  },
  {
   "cell_type": "markdown",
   "metadata": {},
   "source": [
    "#### Столбец is_apartment\n",
    "##### Работа с пропусками\n",
    "В этом столбце подавляющее большинство значений не заполнено (**88.29%**), для проведения аналитики по этому критерию надо заполнить пропуски. Вероятнее всего, люди, которые продают апартаменты, в чаще укажут, информацию об этом, так как на рынке недвижимости больше квартир, чем апартаментов. Поэтому будем считать, что не все люди видели смысл в заполнении графы *\"апартаменты\"* и заполним пропуски значениями **False**\n",
    "##### Работа с типом данных\n",
    "Стоит изменить тип данных object на bool\n",
    "##### Работа с аномальными значениями\n",
    "Аномальных значений нет"
   ]
  },
  {
   "cell_type": "markdown",
   "metadata": {},
   "source": [
    "Заменим пропущенные значения через метод fillna() на False и переведем тип данных object на bool"
   ]
  },
  {
   "cell_type": "code",
   "execution_count": 19,
   "metadata": {},
   "outputs": [],
   "source": [
    "df['is_apartment'] = df['is_apartment'].fillna(False).astype('bool')"
   ]
  },
  {
   "cell_type": "markdown",
   "metadata": {},
   "source": [
    "#### Столбец kitchen_area\n",
    "##### Работа с пропусками\n",
    "В этом столбце ситуация такая же, что и со столбцом **living_area**. Оставлены пропуски.\n",
    "##### Работа с типом данных\n",
    "Тип данных подходит к значениям столбца.\n",
    "##### Работа с аномальными значениями\n",
    "Данные выглядят нормально, однако стоило бы проверить величины площади также, как и было в столбце living_area. Обнаружено, что есть такие случаи, когда жилая площадь равна общей. Вероятнее всего, это связано с тем, что эти квартиры имеют \"свободную планировку\".\n"
   ]
  },
  {
   "cell_type": "code",
   "execution_count": 20,
   "metadata": {},
   "outputs": [
    {
     "data": {
      "text/html": [
       "<div>\n",
       "<style scoped>\n",
       "    .dataframe tbody tr th:only-of-type {\n",
       "        vertical-align: middle;\n",
       "    }\n",
       "\n",
       "    .dataframe tbody tr th {\n",
       "        vertical-align: top;\n",
       "    }\n",
       "\n",
       "    .dataframe thead th {\n",
       "        text-align: right;\n",
       "    }\n",
       "</style>\n",
       "<table border=\"1\" class=\"dataframe\">\n",
       "  <thead>\n",
       "    <tr style=\"text-align: right;\">\n",
       "      <th></th>\n",
       "      <th>total_images</th>\n",
       "      <th>last_price</th>\n",
       "      <th>total_area</th>\n",
       "      <th>first_day_exposition</th>\n",
       "      <th>rooms</th>\n",
       "      <th>ceiling_height</th>\n",
       "      <th>floors_total</th>\n",
       "      <th>living_area</th>\n",
       "      <th>floor</th>\n",
       "      <th>is_apartment</th>\n",
       "      <th>...</th>\n",
       "      <th>kitchen_area</th>\n",
       "      <th>balcony</th>\n",
       "      <th>locality_name</th>\n",
       "      <th>airports_nearest</th>\n",
       "      <th>cityCenters_nearest</th>\n",
       "      <th>parks_around3000</th>\n",
       "      <th>parks_nearest</th>\n",
       "      <th>ponds_around3000</th>\n",
       "      <th>ponds_nearest</th>\n",
       "      <th>days_exposition</th>\n",
       "    </tr>\n",
       "  </thead>\n",
       "  <tbody>\n",
       "  </tbody>\n",
       "</table>\n",
       "<p>0 rows × 22 columns</p>\n",
       "</div>"
      ],
      "text/plain": [
       "Empty DataFrame\n",
       "Columns: [total_images, last_price, total_area, first_day_exposition, rooms, ceiling_height, floors_total, living_area, floor, is_apartment, studio, open_plan, kitchen_area, balcony, locality_name, airports_nearest, cityCenters_nearest, parks_around3000, parks_nearest, ponds_around3000, ponds_nearest, days_exposition]\n",
       "Index: []\n",
       "\n",
       "[0 rows x 22 columns]"
      ]
     },
     "execution_count": 20,
     "metadata": {},
     "output_type": "execute_result"
    }
   ],
   "source": [
    "df[df['total_area'] <= df['kitchen_area']]"
   ]
  },
  {
   "cell_type": "markdown",
   "metadata": {},
   "source": [
    "Видно, что аномально высоких значений нет"
   ]
  },
  {
   "cell_type": "markdown",
   "metadata": {},
   "source": [
    "#### Столбец balcony\n",
    "##### Работа с пропусками\n",
    "Если продавец не указал число балконов, то, скорее всего, в его квартире их нет. Такие пропуски правильно заменить на 0\n",
    "##### Работа с типом данных\n",
    "Тип данных стоит заменить на int, так как количество балконов – целое число\n",
    "##### Работа с аномальными значениями\n",
    "Аномальных значений нет"
   ]
  },
  {
   "cell_type": "markdown",
   "metadata": {},
   "source": [
    "Заменим пропущенные значения через метод fillna() на 0"
   ]
  },
  {
   "cell_type": "code",
   "execution_count": 21,
   "metadata": {},
   "outputs": [],
   "source": [
    "df['balcony'] = df['balcony'].fillna(0)"
   ]
  },
  {
   "cell_type": "markdown",
   "metadata": {},
   "source": [
    "Переведем тип данных в int"
   ]
  },
  {
   "cell_type": "code",
   "execution_count": 22,
   "metadata": {},
   "outputs": [],
   "source": [
    "df['balcony'] = df['balcony'].astype('int64')"
   ]
  },
  {
   "cell_type": "markdown",
   "metadata": {},
   "source": [
    "#### Столбец locality_name\n",
    "##### Работа с неявными дубликатами\n",
    "Один из вариантов, который позволит разобраться с неявными дубликатами, это удаление приставки перед названием города или поселка.\n",
    "##### Работа с пропусками\n",
    "Так как в столбце процент пропусков составляет **0.21%**, можно за них не бороться, так как они сильно не повлияют на аналитику.\n",
    "##### Работа с типом данных\n",
    "Тип данных подходит под значения столбца."
   ]
  },
  {
   "cell_type": "markdown",
   "metadata": {},
   "source": [
    "Занесем все возможные названия и их составные в список trash, по которому будем итерироваться и заменять эти значения на ''"
   ]
  },
  {
   "cell_type": "code",
   "execution_count": 23,
   "metadata": {
    "scrolled": true
   },
   "outputs": [
    {
     "name": "stdout",
     "output_type": "stream",
     "text": [
      "['Санкт-Петербург' 'Шушары' 'Янино-1' 'Парголово' 'Мурино' 'Ломоносов'\n",
      " 'Сертолово' 'Петергоф' 'Пушкин' 'Кудрово' 'Коммунар' 'Колпино'\n",
      " 'Красный Бор' 'Гатчина' 'Фёдоровское' 'Выборг' 'Кронштадт' 'Кировск'\n",
      " 'Новое Девяткино' 'Металлострой' 'Лебяжье' 'Сиверский' 'Молодцово'\n",
      " 'Кузьмоловский' 'Новая Ропша' 'Павловск' 'Пикколово' 'Всеволожск'\n",
      " 'Волхов' 'Кингисепп' 'Приозерск' 'Сестрорецк' 'Куттузи' 'Аннино'\n",
      " 'Ефимовский' 'Плодовое' 'Заклинье' 'Торковичи' 'Первомайское'\n",
      " 'Красное Село' 'Понтонный' 'Сясьстрой' 'Старая' 'Лесколово' 'Сланцы'\n",
      " 'Путилово' 'Ивангород' 'Шлиссельбург' 'Никольское' 'Зеленогорск'\n",
      " 'Сосновый Бор' 'Новый Свет' 'Оржицы' 'Кальтино' 'Романовка' 'Бугры'\n",
      " 'Рощино' 'Кириши' 'Луга' 'Волосово' 'Отрадное' 'Павлово' 'Оредеж'\n",
      " 'Копорье' 'Молодёжное' 'Тихвин' 'Победа' 'Нурма' 'Синявино' 'Тосно'\n",
      " 'Стрельна' 'Бокситогорск' 'Александровская' 'Лопухинка' 'Пикалёво'\n",
      " 'Терволово' 'Советский' 'Подпорожье' 'Петровское' 'Токсово' 'Сельцо'\n",
      " 'Вырица' 'Кипень' 'Келози' 'Вартемяги' 'Тельмана' 'Севастьяново'\n",
      " 'Большая Ижора' nan 'Агалатово' 'Новогорелово' 'Лесогорский' 'Лаголово'\n",
      " 'Цвелодубово' 'Рахья' 'Белогорка' 'Заводской' 'Новоселье'\n",
      " 'Большие Колпаны' 'Горбунки' 'Батово' 'Заневка' 'Иссад' 'Приморск'\n",
      " 'Мистолово' 'Новая Ладога' 'Зимитицы' 'Барышево' 'Разметелево'\n",
      " 'Свердлова' 'Пеники' 'Рябово' 'Пудомяги' 'Корнево' 'Низино' 'Бегуницы'\n",
      " 'Поляны' 'Мга' 'Елизаветино' 'Кузнечное' 'Колтуши' 'Запорожское'\n",
      " 'Гостилицы' 'Малое Карлино' 'Мичуринское' 'Морозова' 'Песочный' 'Сосново'\n",
      " 'Аро' 'Ильичёво' 'Тайцы' 'Малое Верево' 'Извара' 'Вещево' 'Паша'\n",
      " 'Калитино' 'Ульяновка' 'Чудской Бор' 'Дубровка' 'Мины' 'Войсковицы'\n",
      " 'Коркино' 'Ропша' 'Приладожский' 'Щеглово' 'Гаврилово' 'Лодейное Поле'\n",
      " 'Рабитицы' 'Никольский' 'Кузьмолово' 'Малые Колпаны' 'Петро-Славянка'\n",
      " 'Назия' 'Репино' 'Углово' 'Старая Малукса' 'Меньково' 'Старые Бегуницы'\n",
      " 'Сапёрный' 'Семрино' 'Глажево' 'Кобринское' 'Гарболово' 'Юкки'\n",
      " 'Приветнинское' 'Мануйлово' 'Пчева' 'Цвылёво' 'Мельниково' 'Пудость'\n",
      " 'Усть-Луга' 'Светогорск' 'Любань' 'Селезнёво' 'Каменногорск' 'Кривко'\n",
      " 'Глебычево' 'Парицы' 'Жилпосёлок' 'Войскорово' 'Стеклянный' 'Важины'\n",
      " 'Мыза-Ивановка' 'Русско-Высоцкое' 'Форносово' 'Старая Ладога' 'Житково'\n",
      " 'Виллози' 'Лампово' 'Шпаньково' 'Лаврики' 'Сумино' 'Возрождение'\n",
      " 'Старосиверская' 'Кикерино' 'Старое Хинколово' 'Пригородный' 'Торфяное'\n",
      " 'Будогощь' 'Суходолье' 'Красная Долина' 'Хапо-Ое' 'Дружная Горка'\n",
      " 'Лисий Нос' 'Яльгелево' 'Рождествено' 'Старополье' 'Левашово'\n",
      " 'Сяськелево' 'Камышовка' 'Лесная Поляна' 'Хязельки' 'Жилгородок' 'Ялгино'\n",
      " 'Новый Учхоз' 'Гончарово' 'Почап' 'Сапёрное' 'Платформа 69-й километр'\n",
      " 'Каложицы' 'Фалилеево' 'Пельгора' 'Торошковичи' 'Белоостров' 'Алексеевка'\n",
      " 'Серебрянский' 'Лукаши' 'Тарасово' 'Кингисеппский' 'Ушаки' 'Котлы'\n",
      " 'Сижно' 'Торосово' 'Форт Красная Горка' 'Новолисино' 'Громово' 'Глинка'\n",
      " 'Старая Пустошь' 'Коммунары' 'Починок' 'Вознесенье' 'Разбегаево'\n",
      " 'Гладкое' 'Тёсово-4' 'Бор' 'Коробицыно' 'Большая Вруда' 'Курковицы'\n",
      " 'Кобралово' 'Суоранда' 'Кондратьево' 'Счастье' 'Реброво' 'Тойворово'\n",
      " 'Семиозерье' 'Лесное' 'Совхозный' 'Ленинское' 'Суйда' 'Нижние Осельки'\n",
      " 'Свирь' 'Перово' 'Высоцк' 'Шум' 'Котельский' 'Лужайка'\n",
      " 'Большая Пустомержа' 'Красносельское' 'Вахнова Кара' 'Пижма'\n",
      " 'Кивеннапа Север' 'Ромашки' 'Каськово' 'Куровицы' 'Плоское' 'Кирпичное'\n",
      " 'Ям-Тесово' 'Раздолье' 'Терпилицы' 'Шугозеро' 'Ваганово' 'Пушное' 'Садко'\n",
      " 'Усть-Ижора' 'Выскатка' 'Свирьстрой' 'Кисельня' 'Трубников Бор'\n",
      " 'Высокоключевой' 'Пансионат Зелёный Бор' 'Ненимяки' 'Снегирёвка'\n",
      " 'Рапполово' 'Пустынка' 'Большой Сабск' 'Русско' 'Лупполово'\n",
      " 'Большое Рейзино' 'Малая Романовка' 'Дружноселье' 'Пчевжа' 'Володарское'\n",
      " 'Нижняя' 'Тихковицы' 'Борисова Грива' 'Дзержинского']\n"
     ]
    }
   ],
   "source": [
    "trash = ['городской поселок',\n",
    "         'городской посёлок',\n",
    "         'посёлок городского типа',\n",
    "         'имени',\n",
    "         'поселок городского типа',\n",
    "         'посёлок',\n",
    "         'поселок',\n",
    "         'деревня',\n",
    "         'коттеджный',\n",
    "         'коттеджный',\n",
    "         'посёлок при железнодорожной станции',\n",
    "         'садоводческое некоммерческое товарищество',\n",
    "         'садовое товарищество',\n",
    "         'село',\n",
    "         'поселок станции',\n",
    "         'посёлок станции',\n",
    "         'станции',\n",
    "         'при железнодорожной',\n",
    "         'город'\n",
    "         ]\n",
    "for i in trash:\n",
    "    df['locality_name'] = df['locality_name'].str.replace(i+' ','')\n",
    "print(df['locality_name'].unique())"
   ]
  },
  {
   "cell_type": "markdown",
   "metadata": {},
   "source": [
    "Видим, что процедура исключения неявных дубликатов прошла успешно"
   ]
  },
  {
   "cell_type": "markdown",
   "metadata": {},
   "source": [
    "#### Столбец airports_nearest\n",
    "##### Работа с пропусками\n",
    "Процент пропусков в столбце составляет *23.38%*. Вероятнее всего, пропущенные значения означают, что расстояние до ближайшего аэропорта более 85000м (примерно максимальное значение). Поскольку явных вариантов заполнения пропусков, который не повлиял на распределение нет, оставлено все как есть. Это будет индикатором, что квартира далеко от аэропорта.\n",
    "##### Работа с типом данных\n",
    "Тип данных подходит под специфику значений\n",
    "##### Работа с аномальными значениями\n",
    "Обнаружено минимальное значение, равное нулю, что не может быть правдой."
   ]
  },
  {
   "cell_type": "markdown",
   "metadata": {},
   "source": [
    "Рассмотрим подробнее значения столбца"
   ]
  },
  {
   "cell_type": "code",
   "execution_count": 24,
   "metadata": {},
   "outputs": [
    {
     "data": {
      "text/plain": [
       "count   18150.00\n",
       "mean    28792.35\n",
       "std     12631.86\n",
       "min         0.00\n",
       "25%     18582.00\n",
       "50%     26726.00\n",
       "75%     37273.00\n",
       "max     84869.00\n",
       "Name: airports_nearest, dtype: float64"
      ]
     },
     "execution_count": 24,
     "metadata": {},
     "output_type": "execute_result"
    }
   ],
   "source": [
    "df['airports_nearest'].describe()"
   ]
  },
  {
   "cell_type": "markdown",
   "metadata": {},
   "source": [
    "Удалим строчку со значением 0 в столбце airports_nearest"
   ]
  },
  {
   "cell_type": "code",
   "execution_count": 25,
   "metadata": {},
   "outputs": [],
   "source": [
    "df = df[df['airports_nearest'] != 0]"
   ]
  },
  {
   "cell_type": "markdown",
   "metadata": {},
   "source": [
    "#### Столбец cityCenters_nearest\n",
    "\n",
    "Название столбца переведен в \"змеиный\" вид.\n",
    "##### Работа с пропусками\n",
    "Процент пропусков в столбце составляет *23.29%*. Вероятнее всего, пропущенные значения означают, что расстояние до ближайшего центра города более 66000 (примерно максимальное значение). Поскольку явных вариантов заполнения пропусков, который не повлиял на распределение нет, оставлено все как есть. Это будет индикатором, что квартира далеко от центра города.\n",
    "##### Работа с типом данных\n",
    "Тип данных подходит под специфику значений\n",
    "##### Работа с аномальными значениями\n",
    "Аномальных значений не наблюдается"
   ]
  },
  {
   "cell_type": "markdown",
   "metadata": {},
   "source": [
    "Приведем название столбца в порядок: переведем в \"змеиный\" вид."
   ]
  },
  {
   "cell_type": "code",
   "execution_count": 26,
   "metadata": {},
   "outputs": [],
   "source": [
    "df = df.rename(columns={'cityCenters_nearest': 'city_centers_nearest'})"
   ]
  },
  {
   "cell_type": "markdown",
   "metadata": {},
   "source": [
    "##### Столбец parks_around3000\n",
    "##### Работа с пропусками\n",
    "Вероятнее всего, пропуски в данном столбце означают, что в диапазоне 3 км парков нет. Поэтому была проведена замена отсутствующих значений на 0.\n",
    "##### Работа с типом данных\n",
    "Была проведена замена типа данных в int\n",
    "##### Работа с аномальными значениями\n",
    "Аномальных значений не обнаружено"
   ]
  },
  {
   "cell_type": "markdown",
   "metadata": {},
   "source": [
    "Заполним пустые значения нулями"
   ]
  },
  {
   "cell_type": "code",
   "execution_count": 27,
   "metadata": {},
   "outputs": [],
   "source": [
    "df['parks_around3000'] = df['parks_around3000'].fillna(0)"
   ]
  },
  {
   "cell_type": "markdown",
   "metadata": {},
   "source": [
    "Переведем тип данных в int"
   ]
  },
  {
   "cell_type": "code",
   "execution_count": 28,
   "metadata": {},
   "outputs": [],
   "source": [
    "df['parks_around3000'] = df['parks_around3000'].astype('int')"
   ]
  },
  {
   "cell_type": "markdown",
   "metadata": {},
   "source": [
    "##### Столбец parks_nearest\n",
    "##### Работа с пропусками\n",
    "Процент пропусков в столбце составляет *65.91%*. Вероятнее всего, пропущенные значения означают, что расстояние до ближайшего парка больше какого-либо максимального значения. Заполнять пропуски средним значением нельзя, поэтому оставлено все как есть. Это будет индикатором, что квартира далеко от парка.\n",
    "##### Работа с типом данных\n",
    "Тип данных подходит под специфику значений\n",
    "##### Работа с аномальными значениями\n",
    "Аномальных значений не обнаружено"
   ]
  },
  {
   "cell_type": "markdown",
   "metadata": {},
   "source": [
    "##### Столбец ponds_around3000\n",
    "##### Работа с пропусками\n",
    "Процент пропусков в столбце составляет *23.28%*. Вероятнее всего, пропущенные значения означают, что расстояние до ближайшего парка больше какого-либо максимального значения. Заполнять пропуски средним значением нельзя, поэтому оставим как есть. Это будет индикатором, что квартира далеко от парка.\n",
    "##### Работа с типом данных\n",
    "Тип данных подходит под специфику значений\n",
    "##### Работа с аномальными значениями\n",
    "Аномальных значений не обнаружено"
   ]
  },
  {
   "cell_type": "markdown",
   "metadata": {},
   "source": [
    "Заполним пропущенные значения на 0"
   ]
  },
  {
   "cell_type": "code",
   "execution_count": 29,
   "metadata": {},
   "outputs": [],
   "source": [
    "df['ponds_around3000'] = df['ponds_around3000'].fillna(0)"
   ]
  },
  {
   "cell_type": "markdown",
   "metadata": {},
   "source": [
    "Заменим тип данных на int"
   ]
  },
  {
   "cell_type": "code",
   "execution_count": 30,
   "metadata": {},
   "outputs": [],
   "source": [
    "df['ponds_around3000'] = df['ponds_around3000'].astype('int')"
   ]
  },
  {
   "cell_type": "markdown",
   "metadata": {},
   "source": [
    "##### Столбец ponds_nearest\n",
    "##### Работа с пропусками\n",
    "Процент пропусков в столбце составляет *61.55%*. Вероятнее всего, пропущенные значения означают, что расстояние до ближайшего центра города более 66000 (примерно максимальное значение). Поскольку явных вариантов заполнения пропусков, который не повлиял на распределение нет, оставлено все как есть. Это будет индикатором, что квартира далеко от центра города.\n",
    "##### Работа с типом данных\n",
    "Тип данных подходит под специфику значений\n",
    "##### Работа с аномальными данными\n",
    "Аномальные данные отсутствуют"
   ]
  },
  {
   "cell_type": "markdown",
   "metadata": {},
   "source": [
    "#### Столбец days_exposition\n",
    "##### Работа с пропусками\n",
    "Так как процент пропусков составляет 8.6 процентов, то пропущенными данными можно пренебречь\n",
    "##### Работа с типом данных\n",
    "Переедем тип данных из float в Int64\n",
    "##### Работа с аномальными значениями\n",
    "Аномальных значений не обнаружено"
   ]
  },
  {
   "cell_type": "markdown",
   "metadata": {},
   "source": [
    "Переведем тип данных из float в Int64"
   ]
  },
  {
   "cell_type": "code",
   "execution_count": 31,
   "metadata": {},
   "outputs": [],
   "source": [
    "df['days_exposition'] = df['days_exposition'].round(0).astype('Int64')"
   ]
  },
  {
   "cell_type": "markdown",
   "metadata": {},
   "source": [
    "Проверим датафрейм еще раз"
   ]
  },
  {
   "cell_type": "code",
   "execution_count": 32,
   "metadata": {},
   "outputs": [
    {
     "name": "stdout",
     "output_type": "stream",
     "text": [
      "<class 'pandas.core.frame.DataFrame'>\n",
      "Int64Index: 23676 entries, 0 to 23698\n",
      "Data columns (total 22 columns):\n",
      " #   Column                Non-Null Count  Dtype         \n",
      "---  ------                --------------  -----         \n",
      " 0   total_images          23676 non-null  int64         \n",
      " 1   last_price            23676 non-null  float64       \n",
      " 2   total_area            23676 non-null  float64       \n",
      " 3   first_day_exposition  23676 non-null  datetime64[ns]\n",
      " 4   rooms                 23676 non-null  int64         \n",
      " 5   ceiling_height        23676 non-null  float64       \n",
      " 6   floors_total          23590 non-null  Int64         \n",
      " 7   living_area           21776 non-null  float64       \n",
      " 8   floor                 23676 non-null  int64         \n",
      " 9   is_apartment          23676 non-null  bool          \n",
      " 10  studio                23676 non-null  bool          \n",
      " 11  open_plan             23676 non-null  bool          \n",
      " 12  kitchen_area          21401 non-null  float64       \n",
      " 13  balcony               23676 non-null  int64         \n",
      " 14  locality_name         23627 non-null  object        \n",
      " 15  airports_nearest      18149 non-null  float64       \n",
      " 16  city_centers_nearest  18172 non-null  float64       \n",
      " 17  parks_around3000      23676 non-null  int64         \n",
      " 18  parks_nearest         8075 non-null   float64       \n",
      " 19  ponds_around3000      23676 non-null  int64         \n",
      " 20  ponds_nearest         9105 non-null   float64       \n",
      " 21  days_exposition       20498 non-null  Int64         \n",
      "dtypes: Int64(2), bool(3), datetime64[ns](1), float64(9), int64(6), object(1)\n",
      "memory usage: 3.7+ MB\n"
     ]
    }
   ],
   "source": [
    "df.info()"
   ]
  },
  {
   "cell_type": "markdown",
   "metadata": {},
   "source": [
    "В заключение, проверим датафрейм на полные дубликаты:"
   ]
  },
  {
   "cell_type": "code",
   "execution_count": 33,
   "metadata": {},
   "outputs": [
    {
     "data": {
      "text/plain": [
       "0"
      ]
     },
     "execution_count": 33,
     "metadata": {},
     "output_type": "execute_result"
    }
   ],
   "source": [
    "df.duplicated().sum()"
   ]
  },
  {
   "cell_type": "markdown",
   "metadata": {},
   "source": [
    "Видно, что полные дубликаты отсутствуют."
   ]
  },
  {
   "cell_type": "markdown",
   "metadata": {},
   "source": [
    "#### Выводы\n",
    "Была проведена предобработка данных. Были обработаны пропуски и заполнены, где это возможно. Помимо этого, были заменены типы данных на корректные и проведена небольшая аналитика, которая понадобится для определения аномальных значений."
   ]
  },
  {
   "cell_type": "markdown",
   "metadata": {},
   "source": [
    "### Посчитайте и добавьте в таблицу новые столбцы"
   ]
  },
  {
   "cell_type": "markdown",
   "metadata": {},
   "source": [
    "#### Цена одного квадратного метра\n"
   ]
  },
  {
   "cell_type": "markdown",
   "metadata": {},
   "source": [
    "Добавим новый столбец, отражающий цену квадратного метра каждой квартиры. Поделим столбец 'last_price' на 'total_area'"
   ]
  },
  {
   "cell_type": "code",
   "execution_count": 34,
   "metadata": {},
   "outputs": [],
   "source": [
    "df['sq_meter'] = df['last_price'] / df['total_area']"
   ]
  },
  {
   "cell_type": "markdown",
   "metadata": {},
   "source": [
    "#### День недели, месяц и год публикации объявления"
   ]
  },
  {
   "cell_type": "markdown",
   "metadata": {},
   "source": [
    "Добавим день недели, месяц и год публикации объявления в датафрейм:"
   ]
  },
  {
   "cell_type": "code",
   "execution_count": 35,
   "metadata": {},
   "outputs": [],
   "source": [
    "df['weekday_exposition'] = pd.DatetimeIndex(df['first_day_exposition']).weekday\n",
    "df['month_exposition'] = pd.DatetimeIndex(df['first_day_exposition']).month\n",
    "df['year_exposition'] = pd.DatetimeIndex(df['first_day_exposition']).year"
   ]
  },
  {
   "cell_type": "markdown",
   "metadata": {},
   "source": [
    "#### Этаж квартиры"
   ]
  },
  {
   "cell_type": "markdown",
   "metadata": {},
   "source": [
    "Типы этажей квартиры должны соответствовать следующим категориям: (значения — «первый», «последний», «другой»);"
   ]
  },
  {
   "cell_type": "code",
   "execution_count": 36,
   "metadata": {},
   "outputs": [],
   "source": [
    "df['floor_category'] = df['floor']\n",
    "df['floor_category'] = df['floor_category'].where(df['floor_category'] != df['floors_total'], 'последний')\n",
    "df['floor_category'] = df['floor_category'].where(df['floor_category'] != 1,'первый')\n",
    "df['floor_category'] = df['floor_category'].where(df['floor_category'].str.isdigit() == False, other='другой')"
   ]
  },
  {
   "cell_type": "markdown",
   "metadata": {},
   "source": [
    "Проверим 10 случайных значений в столбцах"
   ]
  },
  {
   "cell_type": "code",
   "execution_count": 37,
   "metadata": {},
   "outputs": [
    {
     "data": {
      "text/html": [
       "<div>\n",
       "<style scoped>\n",
       "    .dataframe tbody tr th:only-of-type {\n",
       "        vertical-align: middle;\n",
       "    }\n",
       "\n",
       "    .dataframe tbody tr th {\n",
       "        vertical-align: top;\n",
       "    }\n",
       "\n",
       "    .dataframe thead th {\n",
       "        text-align: right;\n",
       "    }\n",
       "</style>\n",
       "<table border=\"1\" class=\"dataframe\">\n",
       "  <thead>\n",
       "    <tr style=\"text-align: right;\">\n",
       "      <th></th>\n",
       "      <th>floor</th>\n",
       "      <th>floors_total</th>\n",
       "      <th>floor_category</th>\n",
       "    </tr>\n",
       "  </thead>\n",
       "  <tbody>\n",
       "    <tr>\n",
       "      <th>18930</th>\n",
       "      <td>7</td>\n",
       "      <td>18</td>\n",
       "      <td>другой</td>\n",
       "    </tr>\n",
       "    <tr>\n",
       "      <th>10574</th>\n",
       "      <td>4</td>\n",
       "      <td>5</td>\n",
       "      <td>другой</td>\n",
       "    </tr>\n",
       "    <tr>\n",
       "      <th>23146</th>\n",
       "      <td>5</td>\n",
       "      <td>9</td>\n",
       "      <td>другой</td>\n",
       "    </tr>\n",
       "    <tr>\n",
       "      <th>17427</th>\n",
       "      <td>3</td>\n",
       "      <td>12</td>\n",
       "      <td>другой</td>\n",
       "    </tr>\n",
       "    <tr>\n",
       "      <th>17807</th>\n",
       "      <td>1</td>\n",
       "      <td>10</td>\n",
       "      <td>первый</td>\n",
       "    </tr>\n",
       "    <tr>\n",
       "      <th>6084</th>\n",
       "      <td>4</td>\n",
       "      <td>5</td>\n",
       "      <td>другой</td>\n",
       "    </tr>\n",
       "    <tr>\n",
       "      <th>21705</th>\n",
       "      <td>16</td>\n",
       "      <td>16</td>\n",
       "      <td>последний</td>\n",
       "    </tr>\n",
       "    <tr>\n",
       "      <th>5627</th>\n",
       "      <td>8</td>\n",
       "      <td>24</td>\n",
       "      <td>другой</td>\n",
       "    </tr>\n",
       "    <tr>\n",
       "      <th>12091</th>\n",
       "      <td>1</td>\n",
       "      <td>5</td>\n",
       "      <td>первый</td>\n",
       "    </tr>\n",
       "    <tr>\n",
       "      <th>12929</th>\n",
       "      <td>6</td>\n",
       "      <td>20</td>\n",
       "      <td>другой</td>\n",
       "    </tr>\n",
       "  </tbody>\n",
       "</table>\n",
       "</div>"
      ],
      "text/plain": [
       "       floor  floors_total floor_category\n",
       "18930      7            18         другой\n",
       "10574      4             5         другой\n",
       "23146      5             9         другой\n",
       "17427      3            12         другой\n",
       "17807      1            10         первый\n",
       "6084       4             5         другой\n",
       "21705     16            16      последний\n",
       "5627       8            24         другой\n",
       "12091      1             5         первый\n",
       "12929      6            20         другой"
      ]
     },
     "execution_count": 37,
     "metadata": {},
     "output_type": "execute_result"
    }
   ],
   "source": [
    "df[['floor', 'floors_total', 'floor_category']].sample(10)"
   ]
  },
  {
   "cell_type": "markdown",
   "metadata": {},
   "source": [
    "### Расстояние до центра города в километрах"
   ]
  },
  {
   "cell_type": "markdown",
   "metadata": {},
   "source": [
    "Создадим новый столбец, значения которого отражают значения столбца 'city_centers_nearest', поделенные на 1000 (переводим метры в километры)"
   ]
  },
  {
   "cell_type": "code",
   "execution_count": 38,
   "metadata": {},
   "outputs": [],
   "source": [
    "df['city_centers_nearest_kilometers'] = (df['city_centers_nearest'] / 1000).round().astype('Int64')"
   ]
  },
  {
   "cell_type": "markdown",
   "metadata": {},
   "source": [
    "Посмотрим итоговый результат добавления столбцов"
   ]
  },
  {
   "cell_type": "code",
   "execution_count": 39,
   "metadata": {},
   "outputs": [
    {
     "name": "stdout",
     "output_type": "stream",
     "text": [
      "<class 'pandas.core.frame.DataFrame'>\n",
      "Int64Index: 23676 entries, 0 to 23698\n",
      "Data columns (total 28 columns):\n",
      " #   Column                           Non-Null Count  Dtype         \n",
      "---  ------                           --------------  -----         \n",
      " 0   total_images                     23676 non-null  int64         \n",
      " 1   last_price                       23676 non-null  float64       \n",
      " 2   total_area                       23676 non-null  float64       \n",
      " 3   first_day_exposition             23676 non-null  datetime64[ns]\n",
      " 4   rooms                            23676 non-null  int64         \n",
      " 5   ceiling_height                   23676 non-null  float64       \n",
      " 6   floors_total                     23590 non-null  Int64         \n",
      " 7   living_area                      21776 non-null  float64       \n",
      " 8   floor                            23676 non-null  int64         \n",
      " 9   is_apartment                     23676 non-null  bool          \n",
      " 10  studio                           23676 non-null  bool          \n",
      " 11  open_plan                        23676 non-null  bool          \n",
      " 12  kitchen_area                     21401 non-null  float64       \n",
      " 13  balcony                          23676 non-null  int64         \n",
      " 14  locality_name                    23627 non-null  object        \n",
      " 15  airports_nearest                 18149 non-null  float64       \n",
      " 16  city_centers_nearest             18172 non-null  float64       \n",
      " 17  parks_around3000                 23676 non-null  int64         \n",
      " 18  parks_nearest                    8075 non-null   float64       \n",
      " 19  ponds_around3000                 23676 non-null  int64         \n",
      " 20  ponds_nearest                    9105 non-null   float64       \n",
      " 21  days_exposition                  20498 non-null  Int64         \n",
      " 22  sq_meter                         23676 non-null  float64       \n",
      " 23  weekday_exposition               23676 non-null  int64         \n",
      " 24  month_exposition                 23676 non-null  int64         \n",
      " 25  year_exposition                  23676 non-null  int64         \n",
      " 26  floor_category                   23676 non-null  object        \n",
      " 27  city_centers_nearest_kilometers  18172 non-null  Int64         \n",
      "dtypes: Int64(3), bool(3), datetime64[ns](1), float64(10), int64(9), object(2)\n",
      "memory usage: 4.8+ MB\n"
     ]
    }
   ],
   "source": [
    "df.info()"
   ]
  },
  {
   "cell_type": "markdown",
   "metadata": {},
   "source": [
    "#### Выводы\n",
    "Были добавлены новые столбцы, которые понадобятся в будущем для исследовательского анализа данных."
   ]
  },
  {
   "cell_type": "markdown",
   "metadata": {},
   "source": [
    "### Проведите исследовательский анализ данных"
   ]
  },
  {
   "cell_type": "markdown",
   "metadata": {},
   "source": [
    "### Изучение параметров квартир"
   ]
  },
  {
   "cell_type": "markdown",
   "metadata": {},
   "source": [
    "#### Общая площадь"
   ]
  },
  {
   "cell_type": "markdown",
   "metadata": {},
   "source": [
    "Изучим информацию о столбце"
   ]
  },
  {
   "cell_type": "code",
   "execution_count": 40,
   "metadata": {},
   "outputs": [
    {
     "data": {
      "text/plain": [
       "count   23676.00\n",
       "mean       60.36\n",
       "std        35.67\n",
       "min        12.00\n",
       "25%        40.00\n",
       "50%        52.00\n",
       "75%        70.00\n",
       "max       900.00\n",
       "Name: total_area, dtype: float64"
      ]
     },
     "execution_count": 40,
     "metadata": {},
     "output_type": "execute_result"
    }
   ],
   "source": [
    "df['total_area'].describe()"
   ]
  },
  {
   "cell_type": "markdown",
   "metadata": {},
   "source": [
    "Видим, что присутствуют аномально высокие значения (900 кв. метров). Медианное и среднее значения составляют 52 и 60.36 соответственно. Учтем это в построении гистограммы"
   ]
  },
  {
   "cell_type": "code",
   "execution_count": 41,
   "metadata": {},
   "outputs": [
    {
     "data": {
      "text/plain": [
       "<AxesSubplot:title={'center':'Общая площадь'}, xlabel='Площадь, кв.м.', ylabel='Частота'>"
      ]
     },
     "execution_count": 41,
     "metadata": {},
     "output_type": "execute_result"
    },
    {
     "data": {
      "image/png": "[encoded data removed]",
      "text/plain": [
       "<Figure size 432x288 with 1 Axes>"
      ]
     },
     "metadata": {
      "needs_background": "light"
     },
     "output_type": "display_data"
    }
   ],
   "source": [
    "plt.title('Общая площадь')\n",
    "plt.xlabel('Площадь, кв.м.')\n",
    "plt.ylabel('Частота')\n",
    "df['total_area'].hist(range=(0,200), bins=10)"
   ]
  },
  {
   "cell_type": "markdown",
   "metadata": {},
   "source": [
    "Видим один пик, распределение с отрывом слева."
   ]
  },
  {
   "cell_type": "markdown",
   "metadata": {},
   "source": [
    "#### Жилая площадь"
   ]
  },
  {
   "cell_type": "markdown",
   "metadata": {},
   "source": [
    "Изучим общую информацию о столбце"
   ]
  },
  {
   "cell_type": "code",
   "execution_count": 42,
   "metadata": {},
   "outputs": [
    {
     "data": {
      "text/plain": [
       "count   21776.00\n",
       "mean       34.46\n",
       "std        22.04\n",
       "min         2.00\n",
       "25%        18.60\n",
       "50%        30.00\n",
       "75%        42.30\n",
       "max       409.70\n",
       "Name: living_area, dtype: float64"
      ]
     },
     "execution_count": 42,
     "metadata": {},
     "output_type": "execute_result"
    }
   ],
   "source": [
    "df['living_area'].describe()"
   ]
  },
  {
   "cell_type": "markdown",
   "metadata": {},
   "source": [
    "Видны аномально высокие и аномально низкие значения, среднее значение приближенно к медианному значению. Построим гистограмму, которая отразит основную часть данных."
   ]
  },
  {
   "cell_type": "code",
   "execution_count": 43,
   "metadata": {},
   "outputs": [
    {
     "data": {
      "text/plain": [
       "<AxesSubplot:title={'center':'Жилая площадь'}, xlabel='Площадь, кв.м.', ylabel='Частота'>"
      ]
     },
     "execution_count": 43,
     "metadata": {},
     "output_type": "execute_result"
    },
    {
     "data": {
      "image/png": "[encoded data removed]",
      "text/plain": [
       "<Figure size 432x288 with 1 Axes>"
      ]
     },
     "metadata": {
      "needs_background": "light"
     },
     "output_type": "display_data"
    }
   ],
   "source": [
    "plt.title('Жилая площадь')\n",
    "plt.xlabel('Площадь, кв.м.')\n",
    "plt.ylabel('Частота')\n",
    "df['living_area'].hist(range=(0,150), bins=10)"
   ]
  },
  {
   "cell_type": "markdown",
   "metadata": {},
   "source": [
    "Действительно, среднее, равное 30, является максимальным значением относительно y. А медиана, расположена немного справа."
   ]
  },
  {
   "cell_type": "markdown",
   "metadata": {},
   "source": [
    "#### Площадь кухни"
   ]
  },
  {
   "cell_type": "markdown",
   "metadata": {},
   "source": [
    "Изучим общую информацию о столбце"
   ]
  },
  {
   "cell_type": "code",
   "execution_count": 44,
   "metadata": {},
   "outputs": [
    {
     "data": {
      "text/plain": [
       "count   21401.00\n",
       "mean       10.57\n",
       "std         5.91\n",
       "min         1.30\n",
       "25%         7.00\n",
       "50%         9.10\n",
       "75%        12.00\n",
       "max       112.00\n",
       "Name: kitchen_area, dtype: float64"
      ]
     },
     "execution_count": 44,
     "metadata": {},
     "output_type": "execute_result"
    }
   ],
   "source": [
    "df['kitchen_area'].describe()"
   ]
  },
  {
   "cell_type": "markdown",
   "metadata": {},
   "source": [
    "Среднее отличается от медианы, аномальных значений в столбце нет. Построим гистограмму по имеющимся данным."
   ]
  },
  {
   "cell_type": "code",
   "execution_count": 45,
   "metadata": {},
   "outputs": [
    {
     "data": {
      "text/plain": [
       "<AxesSubplot:title={'center':'Кухонная площадь'}, xlabel='Площадь, кв.м.', ylabel='Частота'>"
      ]
     },
     "execution_count": 45,
     "metadata": {},
     "output_type": "execute_result"
    },
    {
     "data": {
      "image/png": "[encoded data removed]",
      "text/plain": [
       "<Figure size 432x288 with 1 Axes>"
      ]
     },
     "metadata": {
      "needs_background": "light"
     },
     "output_type": "display_data"
    }
   ],
   "source": [
    "plt.title('Кухонная площадь')\n",
    "plt.xlabel('Площадь, кв.м.')\n",
    "plt.ylabel('Частота')\n",
    "df['kitchen_area'].hist(range=(0,60), bins=20)"
   ]
  },
  {
   "cell_type": "markdown",
   "metadata": {},
   "source": [
    "Видим, что максимальную частоту отражает медианное значение, нежели среднее."
   ]
  },
  {
   "cell_type": "markdown",
   "metadata": {},
   "source": [
    "#### Цена объекта"
   ]
  },
  {
   "cell_type": "markdown",
   "metadata": {},
   "source": [
    "Получим общую информацию о столбце"
   ]
  },
  {
   "cell_type": "code",
   "execution_count": 46,
   "metadata": {},
   "outputs": [
    {
     "data": {
      "text/plain": [
       "count       23676.00\n",
       "mean      6545156.41\n",
       "std      10891561.79\n",
       "min        430000.00\n",
       "25%       3420000.00\n",
       "50%       4650000.00\n",
       "75%       6800000.00\n",
       "max     763000000.00\n",
       "Name: last_price, dtype: float64"
      ]
     },
     "execution_count": 46,
     "metadata": {},
     "output_type": "execute_result"
    }
   ],
   "source": [
    "df['last_price'].describe()"
   ]
  },
  {
   "cell_type": "markdown",
   "metadata": {},
   "source": [
    "Медианное значение отличается от среднего: они равны 4.65 миллионов и 6.5 миллионов соответственно. Есть \"выбросы\" в виде максимального значения(цена квартиры 763 млн рублей). Построим гистограмму."
   ]
  },
  {
   "cell_type": "code",
   "execution_count": 47,
   "metadata": {},
   "outputs": [
    {
     "data": {
      "text/plain": [
       "<AxesSubplot:title={'center':'Стоимость'}, xlabel='Цена, десятки млн. руб.', ylabel='Частота'>"
      ]
     },
     "execution_count": 47,
     "metadata": {},
     "output_type": "execute_result"
    },
    {
     "data": {
      "image/png": "[encoded data removed]",
      "text/plain": [
       "<Figure size 432x288 with 1 Axes>"
      ]
     },
     "metadata": {
      "needs_background": "light"
     },
     "output_type": "display_data"
    }
   ],
   "source": [
    "plt.title('Стоимость')\n",
    "plt.xlabel('Цена, десятки млн. руб.')\n",
    "plt.ylabel('Частота')\n",
    "df['last_price'].hist(range=(0,40000000), bins=20)"
   ]
  },
  {
   "cell_type": "markdown",
   "metadata": {},
   "source": [
    "Видно, что медианное и среднее значения соответствуют пикам на графике."
   ]
  },
  {
   "cell_type": "markdown",
   "metadata": {},
   "source": [
    "#### Количество комнат"
   ]
  },
  {
   "cell_type": "markdown",
   "metadata": {},
   "source": [
    "Получим общую информацию о столбце"
   ]
  },
  {
   "cell_type": "code",
   "execution_count": 48,
   "metadata": {},
   "outputs": [
    {
     "data": {
      "text/plain": [
       "count   23676.00\n",
       "mean        2.07\n",
       "std         1.08\n",
       "min         0.00\n",
       "25%         1.00\n",
       "50%         2.00\n",
       "75%         3.00\n",
       "max        19.00\n",
       "Name: rooms, dtype: float64"
      ]
     },
     "execution_count": 48,
     "metadata": {},
     "output_type": "execute_result"
    }
   ],
   "source": [
    "df['rooms'].describe()"
   ]
  },
  {
   "cell_type": "markdown",
   "metadata": {},
   "source": [
    "Медианное и среднее примерно равны. Имеются \"выбросы\" максимальных значений в виде квартир с 19 комнатами. Учтем все это при построении гистограммы."
   ]
  },
  {
   "cell_type": "code",
   "execution_count": 49,
   "metadata": {},
   "outputs": [
    {
     "data": {
      "text/plain": [
       "<AxesSubplot:title={'center':'Количество комнат'}, xlabel='Количество комнат, шт.', ylabel='Частота'>"
      ]
     },
     "execution_count": 49,
     "metadata": {},
     "output_type": "execute_result"
    },
    {
     "data": {
      "image/png": "[encoded data removed]",
      "text/plain": [
       "<Figure size 432x288 with 1 Axes>"
      ]
     },
     "metadata": {
      "needs_background": "light"
     },
     "output_type": "display_data"
    }
   ],
   "source": [
    "plt.title('Количество комнат')\n",
    "plt.xlabel('Количество комнат, шт.')\n",
    "plt.ylabel('Частота')\n",
    "df['rooms'].hist(range=(0,10), bins=10)"
   ]
  },
  {
   "cell_type": "markdown",
   "metadata": {},
   "source": [
    "Данные графика соответствуют информации выше."
   ]
  },
  {
   "cell_type": "markdown",
   "metadata": {},
   "source": [
    "#### Высота потолков"
   ]
  },
  {
   "cell_type": "code",
   "execution_count": 50,
   "metadata": {},
   "outputs": [
    {
     "name": "stdout",
     "output_type": "stream",
     "text": [
      "count   23676.00\n",
      "mean        2.70\n",
      "std         0.28\n",
      "min         2.40\n",
      "25%         2.60\n",
      "50%         2.65\n",
      "75%         2.70\n",
      "max        20.00\n",
      "Name: ceiling_height, dtype: float64\n"
     ]
    }
   ],
   "source": [
    "print(df['ceiling_height'].describe())"
   ]
  },
  {
   "cell_type": "markdown",
   "metadata": {},
   "source": [
    "Все аномальные значения были отработаны, медиана очень похожа на среднее. Построим гистограмму"
   ]
  },
  {
   "cell_type": "code",
   "execution_count": 51,
   "metadata": {},
   "outputs": [
    {
     "data": {
      "text/plain": [
       "<AxesSubplot:title={'center':'Высота потолков'}, xlabel='Высота, м.', ylabel='Частота'>"
      ]
     },
     "execution_count": 51,
     "metadata": {},
     "output_type": "execute_result"
    },
    {
     "data": {
      "image/png": "[encoded data removed]",
      "text/plain": [
       "<Figure size 432x288 with 1 Axes>"
      ]
     },
     "metadata": {
      "needs_background": "light"
     },
     "output_type": "display_data"
    }
   ],
   "source": [
    "plt.title('Высота потолков')\n",
    "plt.xlabel('Высота, м.')\n",
    "plt.ylabel('Частота')\n",
    "df['ceiling_height'].hist(range=(2,4), bins=10)"
   ]
  },
  {
   "cell_type": "markdown",
   "metadata": {},
   "source": [
    "Видно, что среднее и медиана соответствуют пику на графике"
   ]
  },
  {
   "cell_type": "markdown",
   "metadata": {},
   "source": [
    "#### Этаж квартиры"
   ]
  },
  {
   "cell_type": "markdown",
   "metadata": {},
   "source": [
    "Рассмотрим значения столбца подробнее"
   ]
  },
  {
   "cell_type": "code",
   "execution_count": 52,
   "metadata": {},
   "outputs": [
    {
     "name": "stdout",
     "output_type": "stream",
     "text": [
      "count   23676.00\n",
      "mean        5.89\n",
      "std         4.89\n",
      "min         1.00\n",
      "25%         2.00\n",
      "50%         4.00\n",
      "75%         8.00\n",
      "max        33.00\n",
      "Name: floor, dtype: float64\n"
     ]
    }
   ],
   "source": [
    "print(df['floor'].describe())"
   ]
  },
  {
   "cell_type": "markdown",
   "metadata": {},
   "source": [
    "Видно, что среднее немного отличается от медианного: значения составляют 5.89 и 4 соответственно. Имеются \"выбросы\" в виде максимальных значений равные 33. Учтем это в построении гистограммы."
   ]
  },
  {
   "cell_type": "code",
   "execution_count": 53,
   "metadata": {},
   "outputs": [
    {
     "data": {
      "text/plain": [
       "<AxesSubplot:title={'center':'Этаж'}, xlabel='Номер этажа', ylabel='Частота'>"
      ]
     },
     "execution_count": 53,
     "metadata": {},
     "output_type": "execute_result"
    },
    {
     "data": {
      "image/png": "[encoded data removed]",
      "text/plain": [
       "<Figure size 432x288 with 1 Axes>"
      ]
     },
     "metadata": {
      "needs_background": "light"
     },
     "output_type": "display_data"
    }
   ],
   "source": [
    "plt.title('Этаж')\n",
    "plt.xlabel('Номер этажа')\n",
    "plt.ylabel('Частота')\n",
    "df[\"floor\"].hist(range=(0,15), bins=10)"
   ]
  },
  {
   "cell_type": "markdown",
   "metadata": {},
   "source": [
    "Видим, что значения медианы соответствуют пику на гистограмме."
   ]
  },
  {
   "cell_type": "markdown",
   "metadata": {},
   "source": [
    "#### Тип этажа квартиры («первый», «последний», «другой»)"
   ]
  },
  {
   "cell_type": "markdown",
   "metadata": {},
   "source": [
    "Рассмотрим значения столбца подробнее"
   ]
  },
  {
   "cell_type": "code",
   "execution_count": 54,
   "metadata": {},
   "outputs": [
    {
     "data": {
      "text/plain": [
       "count      23676\n",
       "unique         3\n",
       "top       другой\n",
       "freq       17349\n",
       "Name: floor_category, dtype: object"
      ]
     },
     "execution_count": 54,
     "metadata": {},
     "output_type": "execute_result"
    }
   ],
   "source": [
    "df['floor_category'].describe()"
   ]
  },
  {
   "cell_type": "markdown",
   "metadata": {},
   "source": [
    "Значения столбца категориальные (три уникальных значения), посчитаем в процентах, сколько какая категория составляет в данных"
   ]
  },
  {
   "cell_type": "code",
   "execution_count": 55,
   "metadata": {},
   "outputs": [
    {
     "name": "stdout",
     "output_type": "stream",
     "text": [
      "Процентная доля первых этажей 12.2\n",
      "Процентная доля последних этажей 14.5\n",
      "Процентная доля других этажей 73.3\n"
     ]
    }
   ],
   "source": [
    "print('Процентная доля первых этажей',((df[df[\"floor_category\"] == 'первый'][\"floor_category\"].count() / (df[\"floor_category\"].count())) * 100).round(1))\n",
    "print('Процентная доля последних этажей', ((df[df[\"floor_category\"] == 'последний'][\"floor_category\"].count() / (df[\"floor_category\"].count())) * 100).round(1))\n",
    "print('Процентная доля других этажей',((df[df[\"floor_category\"] == 'другой'][\"floor_category\"].count() / (df[\"floor_category\"].count())) * 100).round(1))"
   ]
  },
  {
   "cell_type": "markdown",
   "metadata": {},
   "source": [
    "Построим гистограмму"
   ]
  },
  {
   "cell_type": "code",
   "execution_count": 56,
   "metadata": {},
   "outputs": [
    {
     "data": {
      "text/plain": [
       "<AxesSubplot:title={'center':'Категория этажа'}, xlabel='Тип этажа', ylabel='Частота'>"
      ]
     },
     "execution_count": 56,
     "metadata": {},
     "output_type": "execute_result"
    },
    {
     "data": {
      "image/png": "[encoded data removed]",
      "text/plain": [
       "<Figure size 432x288 with 1 Axes>"
      ]
     },
     "metadata": {
      "needs_background": "light"
     },
     "output_type": "display_data"
    }
   ],
   "source": [
    "plt.title('Категория этажа')\n",
    "plt.xlabel('Тип этажа')\n",
    "plt.ylabel('Частота')\n",
    "df[\"floor_category\"].hist()"
   ]
  },
  {
   "cell_type": "markdown",
   "metadata": {},
   "source": [
    "Видно, что действительно, большая часть значений относятся к значению \"другой\", первых этажей меньше всего, и немного больше последних этажей."
   ]
  },
  {
   "cell_type": "markdown",
   "metadata": {},
   "source": [
    "#### Общее количество этажей в доме"
   ]
  },
  {
   "cell_type": "markdown",
   "metadata": {},
   "source": [
    "Рассмотрим значения столбца подробнее"
   ]
  },
  {
   "cell_type": "code",
   "execution_count": 57,
   "metadata": {},
   "outputs": [
    {
     "data": {
      "text/plain": [
       "count   23590.00\n",
       "mean       10.68\n",
       "std         6.60\n",
       "min         1.00\n",
       "25%         5.00\n",
       "50%         9.00\n",
       "75%        16.00\n",
       "max        60.00\n",
       "Name: floors_total, dtype: float64"
      ]
     },
     "execution_count": 57,
     "metadata": {},
     "output_type": "execute_result"
    }
   ],
   "source": [
    "df[\"floors_total\"].describe()"
   ]
  },
  {
   "cell_type": "markdown",
   "metadata": {},
   "source": [
    "Среднее и медианное немного отличаются: они равны 10.67 и 9 соответственно."
   ]
  },
  {
   "cell_type": "code",
   "execution_count": 58,
   "metadata": {},
   "outputs": [
    {
     "data": {
      "text/plain": [
       "<AxesSubplot:title={'center':'Общее количество этажей в доме'}, xlabel='Номер этажа', ylabel='Частота'>"
      ]
     },
     "execution_count": 58,
     "metadata": {},
     "output_type": "execute_result"
    },
    {
     "data": {
      "image/png": "[encoded data removed]",
      "text/plain": [
       "<Figure size 432x288 with 1 Axes>"
      ]
     },
     "metadata": {
      "needs_background": "light"
     },
     "output_type": "display_data"
    }
   ],
   "source": [
    "plt.title('Общее количество этажей в доме')\n",
    "plt.xlabel('Номер этажа')\n",
    "plt.ylabel('Частота')\n",
    "df[\"floors_total\"].hist(range=(0,30))"
   ]
  },
  {
   "cell_type": "markdown",
   "metadata": {},
   "source": [
    "По полученному графику видно, что много квартир находятся в пятиэтажках, что соответствует выраженному пику."
   ]
  },
  {
   "cell_type": "markdown",
   "metadata": {},
   "source": [
    "#### Расстояние до центра города в метрах"
   ]
  },
  {
   "cell_type": "markdown",
   "metadata": {},
   "source": [
    "Рассмотрим столбец подробнее"
   ]
  },
  {
   "cell_type": "code",
   "execution_count": 59,
   "metadata": {},
   "outputs": [
    {
     "data": {
      "text/plain": [
       "count   18172.00\n",
       "mean    14190.29\n",
       "std      8609.23\n",
       "min       181.00\n",
       "25%      9237.00\n",
       "50%     13096.50\n",
       "75%     16293.00\n",
       "max     65968.00\n",
       "Name: city_centers_nearest, dtype: float64"
      ]
     },
     "execution_count": 59,
     "metadata": {},
     "output_type": "execute_result"
    }
   ],
   "source": [
    "df[\"city_centers_nearest\"].describe()"
   ]
  },
  {
   "cell_type": "markdown",
   "metadata": {},
   "source": [
    "Видим, что медиана немного отклоняется от среднего. Имеются большие выбросы в максимальных значениях столбца"
   ]
  },
  {
   "cell_type": "code",
   "execution_count": 60,
   "metadata": {},
   "outputs": [
    {
     "data": {
      "text/plain": [
       "<AxesSubplot:title={'center':'Расстояние до центра города'}, xlabel='Расстояние, м.', ylabel='Частота'>"
      ]
     },
     "execution_count": 60,
     "metadata": {},
     "output_type": "execute_result"
    },
    {
     "data": {
      "image/png": "[encoded data removed]",
      "text/plain": [
       "<Figure size 432x288 with 1 Axes>"
      ]
     },
     "metadata": {
      "needs_background": "light"
     },
     "output_type": "display_data"
    }
   ],
   "source": [
    "plt.title('Расстояние до центра города')\n",
    "plt.xlabel('Расстояние, м.')\n",
    "plt.ylabel('Частота')\n",
    "df[\"city_centers_nearest\"].hist(range=(0,20000), bins=20)"
   ]
  },
  {
   "cell_type": "markdown",
   "metadata": {},
   "source": [
    "Видим, что пики ориентировочно подтверждают данные выше"
   ]
  },
  {
   "cell_type": "markdown",
   "metadata": {},
   "source": [
    "#### Расстояние до ближайшего аэропорта;"
   ]
  },
  {
   "cell_type": "markdown",
   "metadata": {},
   "source": [
    "Рассмотрим значения подробнее"
   ]
  },
  {
   "cell_type": "code",
   "execution_count": 61,
   "metadata": {},
   "outputs": [
    {
     "data": {
      "text/plain": [
       "count   18149.00\n",
       "mean    28793.93\n",
       "std     12630.40\n",
       "min      6450.00\n",
       "25%     18582.00\n",
       "50%     26726.00\n",
       "75%     37273.00\n",
       "max     84869.00\n",
       "Name: airports_nearest, dtype: float64"
      ]
     },
     "execution_count": 61,
     "metadata": {},
     "output_type": "execute_result"
    }
   ],
   "source": [
    "df['airports_nearest'].describe()"
   ]
  },
  {
   "cell_type": "markdown",
   "metadata": {},
   "source": [
    "Видим схожесть среднего и медианы, аномальных значения не обнаруживается. Построим гистограмму"
   ]
  },
  {
   "cell_type": "code",
   "execution_count": 62,
   "metadata": {},
   "outputs": [
    {
     "data": {
      "text/plain": [
       "<AxesSubplot:title={'center':'Расстояние до аеропорта'}, xlabel='Расстояние, м.', ylabel='Частота'>"
      ]
     },
     "execution_count": 62,
     "metadata": {},
     "output_type": "execute_result"
    },
    {
     "data": {
      "image/png": "[encoded data removed]",
      "text/plain": [
       "<Figure size 432x288 with 1 Axes>"
      ]
     },
     "metadata": {
      "needs_background": "light"
     },
     "output_type": "display_data"
    }
   ],
   "source": [
    "plt.title('Расстояние до аеропорта')\n",
    "plt.xlabel('Расстояние, м.')\n",
    "plt.ylabel('Частота')\n",
    "df['airports_nearest'].hist()"
   ]
  },
  {
   "cell_type": "markdown",
   "metadata": {},
   "source": [
    "Гистограмма подтверждает значения выше"
   ]
  },
  {
   "cell_type": "markdown",
   "metadata": {},
   "source": [
    "#### Расстояние до ближайшего парка;"
   ]
  },
  {
   "cell_type": "markdown",
   "metadata": {},
   "source": [
    "Рассмотрим значения столбца:"
   ]
  },
  {
   "cell_type": "code",
   "execution_count": 63,
   "metadata": {},
   "outputs": [
    {
     "data": {
      "text/plain": [
       "count   8075.00\n",
       "mean     490.82\n",
       "std      342.39\n",
       "min        1.00\n",
       "25%      288.00\n",
       "50%      455.00\n",
       "75%      612.00\n",
       "max     3190.00\n",
       "Name: parks_nearest, dtype: float64"
      ]
     },
     "execution_count": 63,
     "metadata": {},
     "output_type": "execute_result"
    }
   ],
   "source": [
    "df['parks_nearest'].describe()"
   ]
  },
  {
   "cell_type": "markdown",
   "metadata": {},
   "source": [
    "Видим аномальное значение в минимуме, медианное значение похоже на среднее. Учтем все это и построим график"
   ]
  },
  {
   "cell_type": "code",
   "execution_count": 64,
   "metadata": {},
   "outputs": [
    {
     "data": {
      "text/plain": [
       "<AxesSubplot:title={'center':'Расстояние до ближайшего парка'}, xlabel='Расстояние, м.', ylabel='Частота'>"
      ]
     },
     "execution_count": 64,
     "metadata": {},
     "output_type": "execute_result"
    },
    {
     "data": {
      "image/png": "[encoded data removed]",
      "text/plain": [
       "<Figure size 432x288 with 1 Axes>"
      ]
     },
     "metadata": {
      "needs_background": "light"
     },
     "output_type": "display_data"
    }
   ],
   "source": [
    "plt.title('Расстояние до ближайшего парка')\n",
    "plt.xlabel('Расстояние, м.')\n",
    "plt.ylabel('Частота')\n",
    "df['parks_nearest'].hist()"
   ]
  },
  {
   "cell_type": "markdown",
   "metadata": {},
   "source": [
    "Гистограмма подтверждает значения выше"
   ]
  },
  {
   "cell_type": "markdown",
   "metadata": {},
   "source": [
    "#### День и месяц публикации объявления"
   ]
  },
  {
   "cell_type": "markdown",
   "metadata": {},
   "source": [
    "Рассмотрим столбцы подробнее"
   ]
  },
  {
   "cell_type": "code",
   "execution_count": 65,
   "metadata": {},
   "outputs": [
    {
     "data": {
      "text/plain": [
       "count   23676.00\n",
       "mean        2.57\n",
       "std         1.79\n",
       "min         0.00\n",
       "25%         1.00\n",
       "50%         3.00\n",
       "75%         4.00\n",
       "max         6.00\n",
       "Name: weekday_exposition, dtype: float64"
      ]
     },
     "metadata": {},
     "output_type": "display_data"
    },
    {
     "data": {
      "text/plain": [
       "count   23676.00\n",
       "mean        6.40\n",
       "std         3.49\n",
       "min         1.00\n",
       "25%         3.00\n",
       "50%         6.00\n",
       "75%        10.00\n",
       "max        12.00\n",
       "Name: month_exposition, dtype: float64"
      ]
     },
     "metadata": {},
     "output_type": "display_data"
    }
   ],
   "source": [
    "display(df['weekday_exposition'].describe())\n",
    "display(df['month_exposition'].describe())"
   ]
  },
  {
   "cell_type": "markdown",
   "metadata": {},
   "source": [
    "1. В столбце weekday_exposition, отражающем день публикации объявления, среднее значение и медианное составляют 2.57 и 3 соответственно. Это говорит о том, что чаще всего люди публикуют свои объявления примерно в среду - четверг. Аномальных значений нет, построим гистограмму\n",
    "2. В столбце month_exposition, отражающем месяц публикации объявления, среднее значение и медианное составляют 6.40 и 6 соответственно. Видно, что значения очень близки друг к другу. Можно сделать вывод, что 6 месяц популярен в плане публикаций объявлений. Аномальных значений нет, построим гистограмму"
   ]
  },
  {
   "cell_type": "code",
   "execution_count": 66,
   "metadata": {},
   "outputs": [
    {
     "data": {
      "text/plain": [
       "<AxesSubplot:title={'center':'День публикации объявления'}, xlabel='День недели (0 - понедельник, 6 - воскресенье)', ylabel='Частота'>"
      ]
     },
     "execution_count": 66,
     "metadata": {},
     "output_type": "execute_result"
    },
    {
     "data": {
      "image/png": "[encoded data removed]",
      "text/plain": [
       "<Figure size 432x288 with 1 Axes>"
      ]
     },
     "metadata": {
      "needs_background": "light"
     },
     "output_type": "display_data"
    }
   ],
   "source": [
    "plt.title('День публикации объявления')\n",
    "plt.xlabel('День недели (0 - понедельник, 6 - воскресенье)')\n",
    "plt.ylabel('Частота')\n",
    "df['weekday_exposition'].hist()"
   ]
  },
  {
   "cell_type": "markdown",
   "metadata": {},
   "source": [
    "1. График подтверждает выводы, сделанные выше."
   ]
  },
  {
   "cell_type": "code",
   "execution_count": 67,
   "metadata": {},
   "outputs": [
    {
     "data": {
      "text/plain": [
       "<AxesSubplot:title={'center':'Месяц публикации объявления'}, xlabel='Число месяца (1 - январь, 12 - декабрь)', ylabel='Частота'>"
      ]
     },
     "execution_count": 67,
     "metadata": {},
     "output_type": "execute_result"
    },
    {
     "data": {
      "image/png": "[encoded data removed]",
      "text/plain": [
       "<Figure size 432x288 with 1 Axes>"
      ]
     },
     "metadata": {
      "needs_background": "light"
     },
     "output_type": "display_data"
    }
   ],
   "source": [
    "plt.title('Месяц публикации объявления')\n",
    "plt.xlabel('Число месяца (1 - январь, 12 - декабрь)')\n",
    "plt.ylabel('Частота')\n",
    "df['month_exposition'].hist()"
   ]
  },
  {
   "cell_type": "markdown",
   "metadata": {},
   "source": [
    "4. По графику видно, что пиковые значения не относятся к медиане или среднему. Самые частые публикации приходятся на конец или начало года (декабрь/январь)"
   ]
  },
  {
   "cell_type": "markdown",
   "metadata": {},
   "source": [
    "#### Изучение скорости продажи квартиры (days_exposition)\n",
    "- Постройте гистограмму.\n",
    "- Посчитайте среднее и медиану.\n",
    "- В ячейке типа markdown опишите, сколько обычно занимает продажа. Какие продажи можно считать быстрыми, а какие — необычно долгими?\""
   ]
  },
  {
   "cell_type": "markdown",
   "metadata": {},
   "source": [
    "Рассмотрим столбец подробнее"
   ]
  },
  {
   "cell_type": "code",
   "execution_count": 68,
   "metadata": {},
   "outputs": [
    {
     "data": {
      "text/plain": [
       "count   20498.00\n",
       "mean      180.95\n",
       "std       219.80\n",
       "min         1.00\n",
       "25%        45.00\n",
       "50%        95.00\n",
       "75%       232.00\n",
       "max      1580.00\n",
       "Name: days_exposition, dtype: float64"
      ]
     },
     "execution_count": 68,
     "metadata": {},
     "output_type": "execute_result"
    }
   ],
   "source": [
    "df['days_exposition'].describe()"
   ]
  },
  {
   "cell_type": "markdown",
   "metadata": {},
   "source": [
    "Медианное значение равно 95, а среднее равно 180.95. Есть выбросы в максимальных значениях (1580). Построим гистограмму"
   ]
  },
  {
   "cell_type": "code",
   "execution_count": 69,
   "metadata": {},
   "outputs": [
    {
     "data": {
      "text/plain": [
       "<AxesSubplot:>"
      ]
     },
     "execution_count": 69,
     "metadata": {},
     "output_type": "execute_result"
    },
    {
     "data": {
      "image/png": "[encoded data removed]",
      "text/plain": [
       "<Figure size 432x288 with 1 Axes>"
      ]
     },
     "metadata": {
      "needs_background": "light"
     },
     "output_type": "display_data"
    }
   ],
   "source": [
    "df['days_exposition'].hist(range=(0,365),bins=10)"
   ]
  },
  {
   "cell_type": "markdown",
   "metadata": {},
   "source": [
    "По графику можно сказать, что в среднем квартиры продавались в течение полугода, а большая часть в течение первых трех месяцев. Рассмотрим аномально быстрые и аномально долгие продажи"
   ]
  },
  {
   "cell_type": "markdown",
   "metadata": {},
   "source": [
    "Построим гистограмму, отражающую значения от 1 до первого квартиля (25%)"
   ]
  },
  {
   "cell_type": "code",
   "execution_count": 70,
   "metadata": {},
   "outputs": [
    {
     "data": {
      "text/plain": [
       "<AxesSubplot:>"
      ]
     },
     "execution_count": 70,
     "metadata": {},
     "output_type": "execute_result"
    },
    {
     "data": {
      "image/png": "[encoded data removed]",
      "text/plain": [
       "<Figure size 432x288 with 1 Axes>"
      ]
     },
     "metadata": {
      "needs_background": "light"
     },
     "output_type": "display_data"
    }
   ],
   "source": [
    "df['days_exposition'].hist(range=(1,45), bins=10)"
   ]
  },
  {
   "cell_type": "markdown",
   "metadata": {},
   "source": [
    "В данном случае тяжело выделить какие-либо аномальные значения, Построим гистограмму, отражающую значения от третьего квартиля (75%) до конца"
   ]
  },
  {
   "cell_type": "code",
   "execution_count": 71,
   "metadata": {},
   "outputs": [
    {
     "data": {
      "text/plain": [
       "<AxesSubplot:>"
      ]
     },
     "execution_count": 71,
     "metadata": {},
     "output_type": "execute_result"
    },
    {
     "data": {
      "image/png": "[encoded data removed]",
      "text/plain": [
       "<Figure size 432x288 with 1 Axes>"
      ]
     },
     "metadata": {
      "needs_background": "light"
     },
     "output_type": "display_data"
    }
   ],
   "source": [
    "df['days_exposition'].hist(range=(232,1580), bins=10)"
   ]
  },
  {
   "cell_type": "markdown",
   "metadata": {},
   "source": [
    "В данном случае тяжело выделить какие-либо аномальные значения, наблюдается нормальное распределение с усечением слева."
   ]
  },
  {
   "cell_type": "markdown",
   "metadata": {},
   "source": [
    "#### Вывод:\n",
    "Во время проведения работы над столбцом, отражающим количество дней до продажи квартиры было установлено, что в среднем квартиры продаются за полгода, большая часть из них в течение 90 дней. Быстрыми можно считать продажи, которые были произведены менее, чем за 45 дней (первый квартиль распределения). Долгими можно считать продажи, которые были произведены более, чем за 232 дня (третий квартиль распределения)"
   ]
  },
  {
   "cell_type": "markdown",
   "metadata": {},
   "source": [
    "### Какие факторы больше всего влияют на общую (полную) стоимость объекта?"
   ]
  },
  {
   "cell_type": "markdown",
   "metadata": {},
   "source": [
    "Постройте графики, которые покажут зависимость цены от указанных ниже параметров. Для подготовки данных перед визуализацией вы можете использовать сводные таблицы.\n",
    "        - общей площади;\n",
    "        - жилой площади;\n",
    "        - площади кухни;\n",
    "        - количество комнат;\n",
    "        - типа этажа, на котором расположена квартира (первый, последний, другой);\n",
    "        - даты размещения (день недели, месяц, год);"
   ]
  },
  {
   "cell_type": "markdown",
   "metadata": {},
   "source": [
    "Разделим данное задание на две части: Сначала рассмотрим количественные данные, потом категориальные."
   ]
  },
  {
   "cell_type": "markdown",
   "metadata": {},
   "source": [
    "Перед этим сформируем срез данных, который отбросит все аномальные значения в рассматриваемых столбцах.\n",
    "В ходе работы было получено:\n",
    "Можно было бы рассмотреть стоимости квартир от 1 млн рублей до 200 млн рублей, так как сверху и снизу имеются выбросы\n",
    "Можно было бы рассмотреть квартиры с общей площадью не более 300 кв.м.\n",
    "Можно было бы рассмотреть квартиры с жилой площадью не более 200 кв.м.\n",
    "Можно было бы рассмотреть квартиры с кухонной площадью не более 60 кв.м.\n",
    "Можно было бы рассмотреть квартиры с количеством комнат не более 10."
   ]
  },
  {
   "cell_type": "code",
   "execution_count": 72,
   "metadata": {},
   "outputs": [
    {
     "data": {
      "text/plain": [
       "0.8749788815678324"
      ]
     },
     "metadata": {},
     "output_type": "display_data"
    }
   ],
   "source": [
    "clear_data = df.query('(1000000 <= last_price <= 200000000) and (total_area <= 300) and (living_area <= 200) and (kitchen_area <= 60) and (rooms <= 10)')\n",
    "display(clear_data.shape[0] / df.shape[0])\n"
   ]
  },
  {
   "cell_type": "markdown",
   "metadata": {},
   "source": [
    "Видно, что было удалено менее 10 процентов данных, можно работать с нашим срезом"
   ]
  },
  {
   "cell_type": "markdown",
   "metadata": {},
   "source": [
    "Рассмотрим столбец total_area"
   ]
  },
  {
   "cell_type": "code",
   "execution_count": 73,
   "metadata": {},
   "outputs": [
    {
     "data": {
      "text/plain": [
       "<AxesSubplot:xlabel='total_area', ylabel='last_price'>"
      ]
     },
     "execution_count": 73,
     "metadata": {},
     "output_type": "execute_result"
    },
    {
     "data": {
      "image/png": "[encoded data removed]",
      "text/plain": [
       "<Figure size 432x288 with 1 Axes>"
      ]
     },
     "metadata": {
      "needs_background": "light"
     },
     "output_type": "display_data"
    }
   ],
   "source": [
    "df.plot(x='total_area', y='last_price', kind='scatter')"
   ]
  },
  {
   "cell_type": "markdown",
   "metadata": {},
   "source": [
    "По графику видно, что значения выше 300 кв.м можно считать выбросами. Построим новый график по новому срезу"
   ]
  },
  {
   "cell_type": "code",
   "execution_count": 74,
   "metadata": {},
   "outputs": [
    {
     "data": {
      "text/plain": [
       "<AxesSubplot:xlabel='total_area', ylabel='last_price'>"
      ]
     },
     "execution_count": 74,
     "metadata": {},
     "output_type": "execute_result"
    },
    {
     "data": {
      "image/png": "[encoded data removed]",
      "text/plain": [
       "<Figure size 432x288 with 1 Axes>"
      ]
     },
     "metadata": {
      "needs_background": "light"
     },
     "output_type": "display_data"
    }
   ],
   "source": [
    "clear_data.plot(x='total_area', y='last_price', kind='scatter')"
   ]
  },
  {
   "cell_type": "markdown",
   "metadata": {},
   "source": [
    "Вычислим коэффициент полученной корреляции"
   ]
  },
  {
   "cell_type": "code",
   "execution_count": 75,
   "metadata": {},
   "outputs": [
    {
     "data": {
      "text/plain": [
       "0.7215114543828527"
      ]
     },
     "execution_count": 75,
     "metadata": {},
     "output_type": "execute_result"
    }
   ],
   "source": [
    "clear_data['last_price'].corr(clear_data['total_area'])"
   ]
  },
  {
   "cell_type": "markdown",
   "metadata": {},
   "source": [
    "Коэффициент между total_area и last_price говорит о положительной и средней силе связи (корреляции). Следовательно, при увеличении общей площади увеличивается цена.\n",
    "По графику видно, что подавляющее большинство объявлений приходятся на квартиры примерно менее 300 кв.м."
   ]
  },
  {
   "cell_type": "markdown",
   "metadata": {},
   "source": [
    "#### Рассмотрим столбец living_area"
   ]
  },
  {
   "cell_type": "code",
   "execution_count": 76,
   "metadata": {},
   "outputs": [
    {
     "data": {
      "text/plain": [
       "<AxesSubplot:xlabel='living_area', ylabel='last_price'>"
      ]
     },
     "execution_count": 76,
     "metadata": {},
     "output_type": "execute_result"
    },
    {
     "data": {
      "image/png": "[encoded data removed]",
      "text/plain": [
       "<Figure size 432x288 with 1 Axes>"
      ]
     },
     "metadata": {
      "needs_background": "light"
     },
     "output_type": "display_data"
    }
   ],
   "source": [
    "df.plot(x='living_area', y='last_price', kind='scatter')"
   ]
  },
  {
   "cell_type": "markdown",
   "metadata": {},
   "source": [
    "Имеются аномальные значения, отбросим их и построим новый график"
   ]
  },
  {
   "cell_type": "code",
   "execution_count": 77,
   "metadata": {},
   "outputs": [
    {
     "data": {
      "image/png": "[encoded data removed]",
      "text/plain": [
       "<Figure size 432x288 with 1 Axes>"
      ]
     },
     "metadata": {
      "needs_background": "light"
     },
     "output_type": "display_data"
    }
   ],
   "source": [
    "clear_data.plot(x='living_area', y='last_price', kind='scatter')\n",
    "living_area_deleted = df['living_area'].count() - df.query('living_area <= 300')['living_area'].count() # Ведем подсчет удаленных строк"
   ]
  },
  {
   "cell_type": "markdown",
   "metadata": {},
   "source": [
    "Вычислим коэффициент полученной корреляции"
   ]
  },
  {
   "cell_type": "code",
   "execution_count": 78,
   "metadata": {},
   "outputs": [
    {
     "data": {
      "text/plain": [
       "0.6352603915299003"
      ]
     },
     "execution_count": 78,
     "metadata": {},
     "output_type": "execute_result"
    }
   ],
   "source": [
    "clear_data['last_price'].corr(clear_data['living_area'])"
   ]
  },
  {
   "cell_type": "markdown",
   "metadata": {},
   "source": [
    "Коэффициент между living_area и last_price говорит о положительной и слабой силе связи (корреляции). Это значит, что если и поднимается цена при увеличении жилой площади, то и совсем немного.\n",
    "По графику видно, что подавляющее большинство объявлений приходятся на квартиры с жилой площадью примерно менее 200 кв.м.\n"
   ]
  },
  {
   "cell_type": "markdown",
   "metadata": {},
   "source": [
    "#### Рассмотрим столбец kitchen_area"
   ]
  },
  {
   "cell_type": "code",
   "execution_count": 79,
   "metadata": {},
   "outputs": [
    {
     "data": {
      "text/plain": [
       "<AxesSubplot:xlabel='kitchen_area', ylabel='last_price'>"
      ]
     },
     "execution_count": 79,
     "metadata": {},
     "output_type": "execute_result"
    },
    {
     "data": {
      "image/png": "[encoded data removed]",
      "text/plain": [
       "<Figure size 432x288 with 1 Axes>"
      ]
     },
     "metadata": {
      "needs_background": "light"
     },
     "output_type": "display_data"
    }
   ],
   "source": [
    "df.plot(x='kitchen_area', y='last_price', kind='scatter')"
   ]
  },
  {
   "cell_type": "markdown",
   "metadata": {},
   "source": [
    "По графику видно, что значения выше 70 кв.м можно считать выбросами. Построим новый график по новому срезу\n"
   ]
  },
  {
   "cell_type": "code",
   "execution_count": 80,
   "metadata": {},
   "outputs": [
    {
     "data": {
      "image/png": "[encoded data removed]",
      "text/plain": [
       "<Figure size 432x288 with 1 Axes>"
      ]
     },
     "metadata": {
      "needs_background": "light"
     },
     "output_type": "display_data"
    }
   ],
   "source": [
    "clear_data.plot(x='kitchen_area', y='last_price', kind='scatter')\n",
    "kitchen_area_deleted = df['kitchen_area'].count() - df.query('kitchen_area <= 70')['kitchen_area'].count() # Ведем подсчет удаленных строк"
   ]
  },
  {
   "cell_type": "markdown",
   "metadata": {},
   "source": [
    "Вычислим коэффициент полученной корреляции\n"
   ]
  },
  {
   "cell_type": "code",
   "execution_count": 81,
   "metadata": {},
   "outputs": [
    {
     "data": {
      "text/plain": [
       "0.5229673497283203"
      ]
     },
     "execution_count": 81,
     "metadata": {},
     "output_type": "execute_result"
    }
   ],
   "source": [
    "clear_data['last_price'].corr(clear_data['kitchen_area'])"
   ]
  },
  {
   "cell_type": "markdown",
   "metadata": {},
   "source": [
    "Коэффициент между kitchen_area и last_price говорит о положительной и слабой силе связи (корреляции). Это значит, что если и поднимается цена при увеличении кухонной площади, то и совсем немного.\n",
    "По графику видно, что подавляющее большинство объявлений приходятся на квартиры с кухонной площадью примерно менее или равной 50 кв.м."
   ]
  },
  {
   "cell_type": "markdown",
   "metadata": {},
   "source": [
    "#### Рассмотрим столбец rooms"
   ]
  },
  {
   "cell_type": "code",
   "execution_count": 82,
   "metadata": {},
   "outputs": [
    {
     "data": {
      "text/plain": [
       "<AxesSubplot:xlabel='rooms'>"
      ]
     },
     "execution_count": 82,
     "metadata": {},
     "output_type": "execute_result"
    },
    {
     "data": {
      "image/png": "[encoded data removed]",
      "text/plain": [
       "<Figure size 432x288 with 1 Axes>"
      ]
     },
     "metadata": {
      "needs_background": "light"
     },
     "output_type": "display_data"
    }
   ],
   "source": [
    "pd.pivot_table(df, index='rooms', values='last_price', aggfunc=['mean','median']).plot(kind='line')"
   ]
  },
  {
   "cell_type": "markdown",
   "metadata": {},
   "source": [
    "По графику видно, что имеются выбросы на значении 12.5. Сформируем срез и построим новый график по данным"
   ]
  },
  {
   "cell_type": "code",
   "execution_count": 83,
   "metadata": {},
   "outputs": [
    {
     "data": {
      "text/plain": [
       "<AxesSubplot:xlabel='rooms'>"
      ]
     },
     "execution_count": 83,
     "metadata": {},
     "output_type": "execute_result"
    },
    {
     "data": {
      "image/png": "[encoded data removed]",
      "text/plain": [
       "<Figure size 432x288 with 1 Axes>"
      ]
     },
     "metadata": {
      "needs_background": "light"
     },
     "output_type": "display_data"
    }
   ],
   "source": [
    "pd.pivot_table(clear_data, index='rooms', values='last_price', aggfunc=['mean','median']).plot(kind='line')\n"
   ]
  },
  {
   "cell_type": "markdown",
   "metadata": {},
   "source": [
    "Несмотря на то, что на графике видны пики, отбрасывание квартир с аномально высокой стоимостью пошло на пользу: Теперь видно, что по мере увеличения количества квартир, увеличивается стоимость квартиры."
   ]
  },
  {
   "cell_type": "markdown",
   "metadata": {},
   "source": [
    "Рассмотрим качественные данные. Учитываем выбросы в стоимостях квартир"
   ]
  },
  {
   "cell_type": "markdown",
   "metadata": {},
   "source": [
    "##### Столбец floor_category"
   ]
  },
  {
   "cell_type": "markdown",
   "metadata": {},
   "source": [
    "Сформируем сводную таблицу со средними и медианными значениями стоимостей квартир"
   ]
  },
  {
   "cell_type": "code",
   "execution_count": 85,
   "metadata": {},
   "outputs": [
    {
     "data": {
      "text/html": [
       "<div>\n",
       "<style scoped>\n",
       "    .dataframe tbody tr th:only-of-type {\n",
       "        vertical-align: middle;\n",
       "    }\n",
       "\n",
       "    .dataframe tbody tr th {\n",
       "        vertical-align: top;\n",
       "    }\n",
       "\n",
       "    .dataframe thead tr th {\n",
       "        text-align: left;\n",
       "    }\n",
       "\n",
       "    .dataframe thead tr:last-of-type th {\n",
       "        text-align: right;\n",
       "    }\n",
       "</style>\n",
       "<table border=\"1\" class=\"dataframe\">\n",
       "  <thead>\n",
       "    <tr>\n",
       "      <th></th>\n",
       "      <th>mean</th>\n",
       "      <th>median</th>\n",
       "    </tr>\n",
       "    <tr>\n",
       "      <th></th>\n",
       "      <th>last_price</th>\n",
       "      <th>last_price</th>\n",
       "    </tr>\n",
       "    <tr>\n",
       "      <th>floor_category</th>\n",
       "      <th></th>\n",
       "      <th></th>\n",
       "    </tr>\n",
       "  </thead>\n",
       "  <tbody>\n",
       "    <tr>\n",
       "      <th>другой</th>\n",
       "      <td>6511614.75</td>\n",
       "      <td>4900000.00</td>\n",
       "    </tr>\n",
       "    <tr>\n",
       "      <th>первый</th>\n",
       "      <td>4816028.94</td>\n",
       "      <td>4000000.00</td>\n",
       "    </tr>\n",
       "    <tr>\n",
       "      <th>последний</th>\n",
       "      <td>6415706.31</td>\n",
       "      <td>4400000.00</td>\n",
       "    </tr>\n",
       "  </tbody>\n",
       "</table>\n",
       "</div>"
      ],
      "text/plain": [
       "                     mean     median\n",
       "               last_price last_price\n",
       "floor_category                      \n",
       "другой         6511614.75 4900000.00\n",
       "первый         4816028.94 4000000.00\n",
       "последний      6415706.31 4400000.00"
      ]
     },
     "execution_count": 85,
     "metadata": {},
     "output_type": "execute_result"
    }
   ],
   "source": [
    "pd.pivot_table(clear_data, index='floor_category', values='last_price', aggfunc=['mean','median'])"
   ]
  },
  {
   "cell_type": "markdown",
   "metadata": {},
   "source": [
    "Построим столбчатую диаграмму по этим данным"
   ]
  },
  {
   "cell_type": "code",
   "execution_count": 86,
   "metadata": {},
   "outputs": [
    {
     "data": {
      "text/plain": [
       "<AxesSubplot:xlabel='floor_category'>"
      ]
     },
     "execution_count": 86,
     "metadata": {},
     "output_type": "execute_result"
    },
    {
     "data": {
      "image/png": "[encoded data removed]",
      "text/plain": [
       "<Figure size 432x288 with 1 Axes>"
      ]
     },
     "metadata": {
      "needs_background": "light"
     },
     "output_type": "display_data"
    }
   ],
   "source": [
    "pd.pivot_table(clear_data, index='floor_category', values='last_price', aggfunc=['mean','median']).plot(kind='bar')"
   ]
  },
  {
   "cell_type": "markdown",
   "metadata": {},
   "source": [
    "На графике видно, что средние и медианные в каждом случае различаются. Самая низкая средняя стоимость у квартир на первых этажах. Средние цены у других квартир ('последний' и 'другой' этажи) на разном уровне: у 'других' квартир значения выше.\n",
    "Можно сделать вывод, что самые ценные квартиры это квартиры, которые находятся не на первом и последнем этажах."
   ]
  },
  {
   "cell_type": "markdown",
   "metadata": {},
   "source": [
    "##### Столбец year_exposition"
   ]
  },
  {
   "cell_type": "markdown",
   "metadata": {},
   "source": [
    "Сформируем сводную таблицу со средними и медианными значениями стоимостей квартир"
   ]
  },
  {
   "cell_type": "code",
   "execution_count": 87,
   "metadata": {},
   "outputs": [
    {
     "data": {
      "text/html": [
       "<div>\n",
       "<style scoped>\n",
       "    .dataframe tbody tr th:only-of-type {\n",
       "        vertical-align: middle;\n",
       "    }\n",
       "\n",
       "    .dataframe tbody tr th {\n",
       "        vertical-align: top;\n",
       "    }\n",
       "\n",
       "    .dataframe thead tr th {\n",
       "        text-align: left;\n",
       "    }\n",
       "\n",
       "    .dataframe thead tr:last-of-type th {\n",
       "        text-align: right;\n",
       "    }\n",
       "</style>\n",
       "<table border=\"1\" class=\"dataframe\">\n",
       "  <thead>\n",
       "    <tr>\n",
       "      <th></th>\n",
       "      <th>mean</th>\n",
       "      <th>median</th>\n",
       "    </tr>\n",
       "    <tr>\n",
       "      <th></th>\n",
       "      <th>last_price</th>\n",
       "      <th>last_price</th>\n",
       "    </tr>\n",
       "    <tr>\n",
       "      <th>year_exposition</th>\n",
       "      <th></th>\n",
       "      <th></th>\n",
       "    </tr>\n",
       "  </thead>\n",
       "  <tbody>\n",
       "    <tr>\n",
       "      <th>2014</th>\n",
       "      <td>12031395.47</td>\n",
       "      <td>7640000.00</td>\n",
       "    </tr>\n",
       "    <tr>\n",
       "      <th>2015</th>\n",
       "      <td>7960708.83</td>\n",
       "      <td>5257500.00</td>\n",
       "    </tr>\n",
       "    <tr>\n",
       "      <th>2016</th>\n",
       "      <td>6540808.08</td>\n",
       "      <td>4600000.00</td>\n",
       "    </tr>\n",
       "    <tr>\n",
       "      <th>2017</th>\n",
       "      <td>6142746.64</td>\n",
       "      <td>4550000.00</td>\n",
       "    </tr>\n",
       "    <tr>\n",
       "      <th>2018</th>\n",
       "      <td>5942759.96</td>\n",
       "      <td>4650000.00</td>\n",
       "    </tr>\n",
       "    <tr>\n",
       "      <th>2019</th>\n",
       "      <td>6503627.11</td>\n",
       "      <td>5100000.00</td>\n",
       "    </tr>\n",
       "  </tbody>\n",
       "</table>\n",
       "</div>"
      ],
      "text/plain": [
       "                       mean     median\n",
       "                 last_price last_price\n",
       "year_exposition                       \n",
       "2014            12031395.47 7640000.00\n",
       "2015             7960708.83 5257500.00\n",
       "2016             6540808.08 4600000.00\n",
       "2017             6142746.64 4550000.00\n",
       "2018             5942759.96 4650000.00\n",
       "2019             6503627.11 5100000.00"
      ]
     },
     "execution_count": 87,
     "metadata": {},
     "output_type": "execute_result"
    }
   ],
   "source": [
    "pd.pivot_table(clear_data, index='year_exposition', values='last_price', aggfunc=['mean','median'])"
   ]
  },
  {
   "cell_type": "markdown",
   "metadata": {},
   "source": [
    "Построим столбчатую диаграмму по этим данным"
   ]
  },
  {
   "cell_type": "code",
   "execution_count": 88,
   "metadata": {},
   "outputs": [
    {
     "data": {
      "text/plain": [
       "<AxesSubplot:xlabel='year_exposition'>"
      ]
     },
     "execution_count": 88,
     "metadata": {},
     "output_type": "execute_result"
    },
    {
     "data": {
      "image/png": "[encoded data removed]",
      "text/plain": [
       "<Figure size 432x288 with 1 Axes>"
      ]
     },
     "metadata": {
      "needs_background": "light"
     },
     "output_type": "display_data"
    }
   ],
   "source": [
    "pd.pivot_table(clear_data, index='year_exposition', values='last_price', aggfunc=['mean','median']).plot(kind='bar')"
   ]
  },
  {
   "cell_type": "markdown",
   "metadata": {},
   "source": [
    "По графику видно, что с 2014 до 2018 было падение цен, а с 2018 по 2019 начался небольшой рост"
   ]
  },
  {
   "cell_type": "markdown",
   "metadata": {},
   "source": [
    "##### Столбец month_exposition"
   ]
  },
  {
   "cell_type": "markdown",
   "metadata": {},
   "source": [
    "Сформируем сводную таблицу со средними и медианными значениями стоимостей квартир"
   ]
  },
  {
   "cell_type": "code",
   "execution_count": 89,
   "metadata": {},
   "outputs": [
    {
     "data": {
      "text/html": [
       "<div>\n",
       "<style scoped>\n",
       "    .dataframe tbody tr th:only-of-type {\n",
       "        vertical-align: middle;\n",
       "    }\n",
       "\n",
       "    .dataframe tbody tr th {\n",
       "        vertical-align: top;\n",
       "    }\n",
       "\n",
       "    .dataframe thead tr th {\n",
       "        text-align: left;\n",
       "    }\n",
       "\n",
       "    .dataframe thead tr:last-of-type th {\n",
       "        text-align: right;\n",
       "    }\n",
       "</style>\n",
       "<table border=\"1\" class=\"dataframe\">\n",
       "  <thead>\n",
       "    <tr>\n",
       "      <th></th>\n",
       "      <th>mean</th>\n",
       "      <th>median</th>\n",
       "    </tr>\n",
       "    <tr>\n",
       "      <th></th>\n",
       "      <th>last_price</th>\n",
       "      <th>last_price</th>\n",
       "    </tr>\n",
       "    <tr>\n",
       "      <th>month_exposition</th>\n",
       "      <th></th>\n",
       "      <th></th>\n",
       "    </tr>\n",
       "  </thead>\n",
       "  <tbody>\n",
       "    <tr>\n",
       "      <th>1</th>\n",
       "      <td>6389182.62</td>\n",
       "      <td>4699500.00</td>\n",
       "    </tr>\n",
       "    <tr>\n",
       "      <th>2</th>\n",
       "      <td>6267943.48</td>\n",
       "      <td>4750000.00</td>\n",
       "    </tr>\n",
       "    <tr>\n",
       "      <th>3</th>\n",
       "      <td>6247360.32</td>\n",
       "      <td>4700000.00</td>\n",
       "    </tr>\n",
       "    <tr>\n",
       "      <th>4</th>\n",
       "      <td>6222244.71</td>\n",
       "      <td>4850000.00</td>\n",
       "    </tr>\n",
       "    <tr>\n",
       "      <th>5</th>\n",
       "      <td>6253943.39</td>\n",
       "      <td>4600000.00</td>\n",
       "    </tr>\n",
       "    <tr>\n",
       "      <th>6</th>\n",
       "      <td>6299278.17</td>\n",
       "      <td>4500000.00</td>\n",
       "    </tr>\n",
       "    <tr>\n",
       "      <th>7</th>\n",
       "      <td>6321684.60</td>\n",
       "      <td>4680000.00</td>\n",
       "    </tr>\n",
       "    <tr>\n",
       "      <th>8</th>\n",
       "      <td>6390611.51</td>\n",
       "      <td>4643000.00</td>\n",
       "    </tr>\n",
       "    <tr>\n",
       "      <th>9</th>\n",
       "      <td>6362925.19</td>\n",
       "      <td>4750000.00</td>\n",
       "    </tr>\n",
       "    <tr>\n",
       "      <th>10</th>\n",
       "      <td>5905456.18</td>\n",
       "      <td>4600000.00</td>\n",
       "    </tr>\n",
       "    <tr>\n",
       "      <th>11</th>\n",
       "      <td>6409006.51</td>\n",
       "      <td>4700000.00</td>\n",
       "    </tr>\n",
       "    <tr>\n",
       "      <th>12</th>\n",
       "      <td>6626449.11</td>\n",
       "      <td>4871751.50</td>\n",
       "    </tr>\n",
       "  </tbody>\n",
       "</table>\n",
       "</div>"
      ],
      "text/plain": [
       "                       mean     median\n",
       "                 last_price last_price\n",
       "month_exposition                      \n",
       "1                6389182.62 4699500.00\n",
       "2                6267943.48 4750000.00\n",
       "3                6247360.32 4700000.00\n",
       "4                6222244.71 4850000.00\n",
       "5                6253943.39 4600000.00\n",
       "6                6299278.17 4500000.00\n",
       "7                6321684.60 4680000.00\n",
       "8                6390611.51 4643000.00\n",
       "9                6362925.19 4750000.00\n",
       "10               5905456.18 4600000.00\n",
       "11               6409006.51 4700000.00\n",
       "12               6626449.11 4871751.50"
      ]
     },
     "execution_count": 89,
     "metadata": {},
     "output_type": "execute_result"
    }
   ],
   "source": [
    "pd.pivot_table(clear_data, index='month_exposition', values='last_price', aggfunc=['mean','median'])"
   ]
  },
  {
   "cell_type": "markdown",
   "metadata": {},
   "source": [
    "Построим столбчатую диаграмму по этим данным"
   ]
  },
  {
   "cell_type": "code",
   "execution_count": 90,
   "metadata": {},
   "outputs": [
    {
     "data": {
      "text/plain": [
       "<AxesSubplot:xlabel='month_exposition'>"
      ]
     },
     "execution_count": 90,
     "metadata": {},
     "output_type": "execute_result"
    },
    {
     "data": {
      "image/png": "[encoded data removed]",
      "text/plain": [
       "<Figure size 432x288 with 1 Axes>"
      ]
     },
     "metadata": {
      "needs_background": "light"
     },
     "output_type": "display_data"
    }
   ],
   "source": [
    "pd.pivot_table(clear_data, index='month_exposition', values='last_price', aggfunc=['mean','median']).plot(kind='bar')"
   ]
  },
  {
   "cell_type": "markdown",
   "metadata": {},
   "source": [
    "По графику видно, что выраженных изменений в течение года не происходит, каждый месяц значения колеблются в небольшом диапазоне. Зависимости не наблюдается"
   ]
  },
  {
   "cell_type": "markdown",
   "metadata": {},
   "source": [
    "##### Столбец weekday_exposition"
   ]
  },
  {
   "cell_type": "markdown",
   "metadata": {},
   "source": [
    "Сформируем сводную таблицу со средними и медианными значениями стоимостей квартир"
   ]
  },
  {
   "cell_type": "code",
   "execution_count": 91,
   "metadata": {},
   "outputs": [
    {
     "data": {
      "text/html": [
       "<div>\n",
       "<style scoped>\n",
       "    .dataframe tbody tr th:only-of-type {\n",
       "        vertical-align: middle;\n",
       "    }\n",
       "\n",
       "    .dataframe tbody tr th {\n",
       "        vertical-align: top;\n",
       "    }\n",
       "\n",
       "    .dataframe thead tr th {\n",
       "        text-align: left;\n",
       "    }\n",
       "\n",
       "    .dataframe thead tr:last-of-type th {\n",
       "        text-align: right;\n",
       "    }\n",
       "</style>\n",
       "<table border=\"1\" class=\"dataframe\">\n",
       "  <thead>\n",
       "    <tr>\n",
       "      <th></th>\n",
       "      <th>mean</th>\n",
       "      <th>median</th>\n",
       "    </tr>\n",
       "    <tr>\n",
       "      <th></th>\n",
       "      <th>last_price</th>\n",
       "      <th>last_price</th>\n",
       "    </tr>\n",
       "    <tr>\n",
       "      <th>weekday_exposition</th>\n",
       "      <th></th>\n",
       "      <th></th>\n",
       "    </tr>\n",
       "  </thead>\n",
       "  <tbody>\n",
       "    <tr>\n",
       "      <th>0</th>\n",
       "      <td>6381111.05</td>\n",
       "      <td>4700000.00</td>\n",
       "    </tr>\n",
       "    <tr>\n",
       "      <th>1</th>\n",
       "      <td>6204739.88</td>\n",
       "      <td>4790000.00</td>\n",
       "    </tr>\n",
       "    <tr>\n",
       "      <th>2</th>\n",
       "      <td>6183340.77</td>\n",
       "      <td>4785000.00</td>\n",
       "    </tr>\n",
       "    <tr>\n",
       "      <th>3</th>\n",
       "      <td>6652179.18</td>\n",
       "      <td>4725000.00</td>\n",
       "    </tr>\n",
       "    <tr>\n",
       "      <th>4</th>\n",
       "      <td>6195517.93</td>\n",
       "      <td>4618270.00</td>\n",
       "    </tr>\n",
       "    <tr>\n",
       "      <th>5</th>\n",
       "      <td>6052970.43</td>\n",
       "      <td>4600000.00</td>\n",
       "    </tr>\n",
       "    <tr>\n",
       "      <th>6</th>\n",
       "      <td>6183492.57</td>\n",
       "      <td>4600000.00</td>\n",
       "    </tr>\n",
       "  </tbody>\n",
       "</table>\n",
       "</div>"
      ],
      "text/plain": [
       "                         mean     median\n",
       "                   last_price last_price\n",
       "weekday_exposition                      \n",
       "0                  6381111.05 4700000.00\n",
       "1                  6204739.88 4790000.00\n",
       "2                  6183340.77 4785000.00\n",
       "3                  6652179.18 4725000.00\n",
       "4                  6195517.93 4618270.00\n",
       "5                  6052970.43 4600000.00\n",
       "6                  6183492.57 4600000.00"
      ]
     },
     "execution_count": 91,
     "metadata": {},
     "output_type": "execute_result"
    }
   ],
   "source": [
    "pd.pivot_table(clear_data, index='weekday_exposition', values='last_price', aggfunc=['mean','median'])"
   ]
  },
  {
   "cell_type": "markdown",
   "metadata": {},
   "source": [
    "Построим столбчатую диаграмму по этим данным"
   ]
  },
  {
   "cell_type": "code",
   "execution_count": 92,
   "metadata": {},
   "outputs": [
    {
     "data": {
      "text/plain": [
       "<AxesSubplot:xlabel='weekday_exposition'>"
      ]
     },
     "execution_count": 92,
     "metadata": {},
     "output_type": "execute_result"
    },
    {
     "data": {
      "image/png": "[encoded data removed]",
      "text/plain": [
       "<Figure size 432x288 with 1 Axes>"
      ]
     },
     "metadata": {
      "needs_background": "light"
     },
     "output_type": "display_data"
    }
   ],
   "source": [
    "pd.pivot_table(clear_data, index='weekday_exposition', values='last_price', aggfunc=['mean','median']).plot(kind='bar')"
   ]
  },
  {
   "cell_type": "markdown",
   "metadata": {},
   "source": [
    "По средним значениям виден небольшой пик в четверг (3), Цены на квартиры немного колеблются в течение недели"
   ]
  },
  {
   "cell_type": "markdown",
   "metadata": {},
   "source": [
    "### Средняя цена одного квадратного метра в 10 населённых пунктах с наибольшим числом объявлений"
   ]
  },
  {
   "cell_type": "markdown",
   "metadata": {},
   "source": [
    "Для начала получим отсортированные по убыванию первые 10 самых больших по количеству объявлений населенных пунктов"
   ]
  },
  {
   "cell_type": "code",
   "execution_count": 93,
   "metadata": {},
   "outputs": [
    {
     "data": {
      "text/plain": [
       "Санкт-Петербург    15714\n",
       "Мурино               590\n",
       "Кудрово              471\n",
       "Шушары               440\n",
       "Всеволожск           397\n",
       "Пушкин               369\n",
       "Колпино              338\n",
       "Парголово            327\n",
       "Гатчина              307\n",
       "Выборг               235\n",
       "Name: locality_name, dtype: int64"
      ]
     },
     "execution_count": 93,
     "metadata": {},
     "output_type": "execute_result"
    }
   ],
   "source": [
    "top10 = df['locality_name'].value_counts().head(10)\n",
    "top10"
   ]
  },
  {
   "cell_type": "markdown",
   "metadata": {},
   "source": [
    "Сначала получим срез со строчками, в которых города соответствуют населенным пунктам выше"
   ]
  },
  {
   "cell_type": "code",
   "execution_count": 94,
   "metadata": {},
   "outputs": [
    {
     "data": {
      "text/html": [
       "<div>\n",
       "<style scoped>\n",
       "    .dataframe tbody tr th:only-of-type {\n",
       "        vertical-align: middle;\n",
       "    }\n",
       "\n",
       "    .dataframe tbody tr th {\n",
       "        vertical-align: top;\n",
       "    }\n",
       "\n",
       "    .dataframe thead th {\n",
       "        text-align: right;\n",
       "    }\n",
       "</style>\n",
       "<table border=\"1\" class=\"dataframe\">\n",
       "  <thead>\n",
       "    <tr style=\"text-align: right;\">\n",
       "      <th></th>\n",
       "      <th>total_images</th>\n",
       "      <th>last_price</th>\n",
       "      <th>total_area</th>\n",
       "      <th>first_day_exposition</th>\n",
       "      <th>rooms</th>\n",
       "      <th>ceiling_height</th>\n",
       "      <th>floors_total</th>\n",
       "      <th>living_area</th>\n",
       "      <th>floor</th>\n",
       "      <th>is_apartment</th>\n",
       "      <th>...</th>\n",
       "      <th>parks_nearest</th>\n",
       "      <th>ponds_around3000</th>\n",
       "      <th>ponds_nearest</th>\n",
       "      <th>days_exposition</th>\n",
       "      <th>sq_meter</th>\n",
       "      <th>weekday_exposition</th>\n",
       "      <th>month_exposition</th>\n",
       "      <th>year_exposition</th>\n",
       "      <th>floor_category</th>\n",
       "      <th>city_centers_nearest_kilometers</th>\n",
       "    </tr>\n",
       "  </thead>\n",
       "  <tbody>\n",
       "    <tr>\n",
       "      <th>0</th>\n",
       "      <td>20</td>\n",
       "      <td>13000000.00</td>\n",
       "      <td>108.00</td>\n",
       "      <td>2019-03-07</td>\n",
       "      <td>3</td>\n",
       "      <td>2.70</td>\n",
       "      <td>16</td>\n",
       "      <td>51.00</td>\n",
       "      <td>8</td>\n",
       "      <td>False</td>\n",
       "      <td>...</td>\n",
       "      <td>482.00</td>\n",
       "      <td>2</td>\n",
       "      <td>755.00</td>\n",
       "      <td>&lt;NA&gt;</td>\n",
       "      <td>120370.37</td>\n",
       "      <td>3</td>\n",
       "      <td>3</td>\n",
       "      <td>2019</td>\n",
       "      <td>другой</td>\n",
       "      <td>16</td>\n",
       "    </tr>\n",
       "    <tr>\n",
       "      <th>1</th>\n",
       "      <td>7</td>\n",
       "      <td>3350000.00</td>\n",
       "      <td>40.40</td>\n",
       "      <td>2018-12-04</td>\n",
       "      <td>1</td>\n",
       "      <td>2.65</td>\n",
       "      <td>11</td>\n",
       "      <td>18.60</td>\n",
       "      <td>1</td>\n",
       "      <td>False</td>\n",
       "      <td>...</td>\n",
       "      <td>NaN</td>\n",
       "      <td>0</td>\n",
       "      <td>NaN</td>\n",
       "      <td>81</td>\n",
       "      <td>82920.79</td>\n",
       "      <td>1</td>\n",
       "      <td>12</td>\n",
       "      <td>2018</td>\n",
       "      <td>первый</td>\n",
       "      <td>19</td>\n",
       "    </tr>\n",
       "    <tr>\n",
       "      <th>2</th>\n",
       "      <td>10</td>\n",
       "      <td>5196000.00</td>\n",
       "      <td>56.00</td>\n",
       "      <td>2015-08-20</td>\n",
       "      <td>2</td>\n",
       "      <td>2.65</td>\n",
       "      <td>5</td>\n",
       "      <td>34.30</td>\n",
       "      <td>4</td>\n",
       "      <td>False</td>\n",
       "      <td>...</td>\n",
       "      <td>90.00</td>\n",
       "      <td>2</td>\n",
       "      <td>574.00</td>\n",
       "      <td>558</td>\n",
       "      <td>92785.71</td>\n",
       "      <td>3</td>\n",
       "      <td>8</td>\n",
       "      <td>2015</td>\n",
       "      <td>другой</td>\n",
       "      <td>14</td>\n",
       "    </tr>\n",
       "    <tr>\n",
       "      <th>3</th>\n",
       "      <td>0</td>\n",
       "      <td>64900000.00</td>\n",
       "      <td>159.00</td>\n",
       "      <td>2015-07-24</td>\n",
       "      <td>3</td>\n",
       "      <td>2.65</td>\n",
       "      <td>14</td>\n",
       "      <td>NaN</td>\n",
       "      <td>9</td>\n",
       "      <td>False</td>\n",
       "      <td>...</td>\n",
       "      <td>84.00</td>\n",
       "      <td>3</td>\n",
       "      <td>234.00</td>\n",
       "      <td>424</td>\n",
       "      <td>408176.10</td>\n",
       "      <td>4</td>\n",
       "      <td>7</td>\n",
       "      <td>2015</td>\n",
       "      <td>другой</td>\n",
       "      <td>7</td>\n",
       "    </tr>\n",
       "    <tr>\n",
       "      <th>4</th>\n",
       "      <td>2</td>\n",
       "      <td>10000000.00</td>\n",
       "      <td>100.00</td>\n",
       "      <td>2018-06-19</td>\n",
       "      <td>2</td>\n",
       "      <td>3.03</td>\n",
       "      <td>14</td>\n",
       "      <td>32.00</td>\n",
       "      <td>13</td>\n",
       "      <td>False</td>\n",
       "      <td>...</td>\n",
       "      <td>112.00</td>\n",
       "      <td>1</td>\n",
       "      <td>48.00</td>\n",
       "      <td>121</td>\n",
       "      <td>100000.00</td>\n",
       "      <td>1</td>\n",
       "      <td>6</td>\n",
       "      <td>2018</td>\n",
       "      <td>другой</td>\n",
       "      <td>8</td>\n",
       "    </tr>\n",
       "    <tr>\n",
       "      <th>...</th>\n",
       "      <td>...</td>\n",
       "      <td>...</td>\n",
       "      <td>...</td>\n",
       "      <td>...</td>\n",
       "      <td>...</td>\n",
       "      <td>...</td>\n",
       "      <td>...</td>\n",
       "      <td>...</td>\n",
       "      <td>...</td>\n",
       "      <td>...</td>\n",
       "      <td>...</td>\n",
       "      <td>...</td>\n",
       "      <td>...</td>\n",
       "      <td>...</td>\n",
       "      <td>...</td>\n",
       "      <td>...</td>\n",
       "      <td>...</td>\n",
       "      <td>...</td>\n",
       "      <td>...</td>\n",
       "      <td>...</td>\n",
       "      <td>...</td>\n",
       "    </tr>\n",
       "    <tr>\n",
       "      <th>23689</th>\n",
       "      <td>13</td>\n",
       "      <td>3550000.00</td>\n",
       "      <td>35.30</td>\n",
       "      <td>2018-02-28</td>\n",
       "      <td>1</td>\n",
       "      <td>2.86</td>\n",
       "      <td>15</td>\n",
       "      <td>16.30</td>\n",
       "      <td>4</td>\n",
       "      <td>False</td>\n",
       "      <td>...</td>\n",
       "      <td>353.00</td>\n",
       "      <td>2</td>\n",
       "      <td>652.00</td>\n",
       "      <td>29</td>\n",
       "      <td>100566.57</td>\n",
       "      <td>2</td>\n",
       "      <td>2</td>\n",
       "      <td>2018</td>\n",
       "      <td>другой</td>\n",
       "      <td>16</td>\n",
       "    </tr>\n",
       "    <tr>\n",
       "      <th>23690</th>\n",
       "      <td>3</td>\n",
       "      <td>5500000.00</td>\n",
       "      <td>52.00</td>\n",
       "      <td>2018-07-19</td>\n",
       "      <td>2</td>\n",
       "      <td>2.65</td>\n",
       "      <td>5</td>\n",
       "      <td>31.00</td>\n",
       "      <td>2</td>\n",
       "      <td>False</td>\n",
       "      <td>...</td>\n",
       "      <td>300.00</td>\n",
       "      <td>0</td>\n",
       "      <td>NaN</td>\n",
       "      <td>15</td>\n",
       "      <td>105769.23</td>\n",
       "      <td>3</td>\n",
       "      <td>7</td>\n",
       "      <td>2018</td>\n",
       "      <td>другой</td>\n",
       "      <td>6</td>\n",
       "    </tr>\n",
       "    <tr>\n",
       "      <th>23691</th>\n",
       "      <td>11</td>\n",
       "      <td>9470000.00</td>\n",
       "      <td>72.90</td>\n",
       "      <td>2016-10-13</td>\n",
       "      <td>2</td>\n",
       "      <td>2.75</td>\n",
       "      <td>25</td>\n",
       "      <td>40.30</td>\n",
       "      <td>7</td>\n",
       "      <td>False</td>\n",
       "      <td>...</td>\n",
       "      <td>NaN</td>\n",
       "      <td>1</td>\n",
       "      <td>806.00</td>\n",
       "      <td>519</td>\n",
       "      <td>129903.98</td>\n",
       "      <td>3</td>\n",
       "      <td>10</td>\n",
       "      <td>2016</td>\n",
       "      <td>другой</td>\n",
       "      <td>4</td>\n",
       "    </tr>\n",
       "    <tr>\n",
       "      <th>23694</th>\n",
       "      <td>9</td>\n",
       "      <td>9700000.00</td>\n",
       "      <td>133.81</td>\n",
       "      <td>2017-03-21</td>\n",
       "      <td>3</td>\n",
       "      <td>3.70</td>\n",
       "      <td>5</td>\n",
       "      <td>73.30</td>\n",
       "      <td>3</td>\n",
       "      <td>False</td>\n",
       "      <td>...</td>\n",
       "      <td>796.00</td>\n",
       "      <td>3</td>\n",
       "      <td>381.00</td>\n",
       "      <td>&lt;NA&gt;</td>\n",
       "      <td>72490.85</td>\n",
       "      <td>1</td>\n",
       "      <td>3</td>\n",
       "      <td>2017</td>\n",
       "      <td>другой</td>\n",
       "      <td>4</td>\n",
       "    </tr>\n",
       "    <tr>\n",
       "      <th>23697</th>\n",
       "      <td>13</td>\n",
       "      <td>11475000.00</td>\n",
       "      <td>76.75</td>\n",
       "      <td>2017-03-28</td>\n",
       "      <td>2</td>\n",
       "      <td>3.00</td>\n",
       "      <td>17</td>\n",
       "      <td>NaN</td>\n",
       "      <td>12</td>\n",
       "      <td>False</td>\n",
       "      <td>...</td>\n",
       "      <td>173.00</td>\n",
       "      <td>3</td>\n",
       "      <td>196.00</td>\n",
       "      <td>602</td>\n",
       "      <td>149511.40</td>\n",
       "      <td>1</td>\n",
       "      <td>3</td>\n",
       "      <td>2017</td>\n",
       "      <td>другой</td>\n",
       "      <td>10</td>\n",
       "    </tr>\n",
       "  </tbody>\n",
       "</table>\n",
       "<p>19188 rows × 28 columns</p>\n",
       "</div>"
      ],
      "text/plain": [
       "       total_images  last_price  total_area first_day_exposition  rooms  \\\n",
       "0                20 13000000.00      108.00           2019-03-07      3   \n",
       "1                 7  3350000.00       40.40           2018-12-04      1   \n",
       "2                10  5196000.00       56.00           2015-08-20      2   \n",
       "3                 0 64900000.00      159.00           2015-07-24      3   \n",
       "4                 2 10000000.00      100.00           2018-06-19      2   \n",
       "...             ...         ...         ...                  ...    ...   \n",
       "23689            13  3550000.00       35.30           2018-02-28      1   \n",
       "23690             3  5500000.00       52.00           2018-07-19      2   \n",
       "23691            11  9470000.00       72.90           2016-10-13      2   \n",
       "23694             9  9700000.00      133.81           2017-03-21      3   \n",
       "23697            13 11475000.00       76.75           2017-03-28      2   \n",
       "\n",
       "       ceiling_height  floors_total  living_area  floor  is_apartment  ...  \\\n",
       "0                2.70            16        51.00      8         False  ...   \n",
       "1                2.65            11        18.60      1         False  ...   \n",
       "2                2.65             5        34.30      4         False  ...   \n",
       "3                2.65            14          NaN      9         False  ...   \n",
       "4                3.03            14        32.00     13         False  ...   \n",
       "...               ...           ...          ...    ...           ...  ...   \n",
       "23689            2.86            15        16.30      4         False  ...   \n",
       "23690            2.65             5        31.00      2         False  ...   \n",
       "23691            2.75            25        40.30      7         False  ...   \n",
       "23694            3.70             5        73.30      3         False  ...   \n",
       "23697            3.00            17          NaN     12         False  ...   \n",
       "\n",
       "       parks_nearest  ponds_around3000  ponds_nearest  days_exposition  \\\n",
       "0             482.00                 2         755.00             <NA>   \n",
       "1                NaN                 0            NaN               81   \n",
       "2              90.00                 2         574.00              558   \n",
       "3              84.00                 3         234.00              424   \n",
       "4             112.00                 1          48.00              121   \n",
       "...              ...               ...            ...              ...   \n",
       "23689         353.00                 2         652.00               29   \n",
       "23690         300.00                 0            NaN               15   \n",
       "23691            NaN                 1         806.00              519   \n",
       "23694         796.00                 3         381.00             <NA>   \n",
       "23697         173.00                 3         196.00              602   \n",
       "\n",
       "       sq_meter  weekday_exposition  month_exposition  year_exposition  \\\n",
       "0     120370.37                   3                 3             2019   \n",
       "1      82920.79                   1                12             2018   \n",
       "2      92785.71                   3                 8             2015   \n",
       "3     408176.10                   4                 7             2015   \n",
       "4     100000.00                   1                 6             2018   \n",
       "...         ...                 ...               ...              ...   \n",
       "23689 100566.57                   2                 2             2018   \n",
       "23690 105769.23                   3                 7             2018   \n",
       "23691 129903.98                   3                10             2016   \n",
       "23694  72490.85                   1                 3             2017   \n",
       "23697 149511.40                   1                 3             2017   \n",
       "\n",
       "       floor_category  city_centers_nearest_kilometers  \n",
       "0              другой                               16  \n",
       "1              первый                               19  \n",
       "2              другой                               14  \n",
       "3              другой                                7  \n",
       "4              другой                                8  \n",
       "...               ...                              ...  \n",
       "23689          другой                               16  \n",
       "23690          другой                                6  \n",
       "23691          другой                                4  \n",
       "23694          другой                                4  \n",
       "23697          другой                               10  \n",
       "\n",
       "[19188 rows x 28 columns]"
      ]
     },
     "execution_count": 94,
     "metadata": {},
     "output_type": "execute_result"
    }
   ],
   "source": [
    "df.query('locality_name in @top10.index')"
   ]
  },
  {
   "cell_type": "markdown",
   "metadata": {},
   "source": [
    "По этому срезу построим сводную таблицу, которая будет отражает средние стоимости квадратного метра в каждом городе. Отсортируем ее по убыванию."
   ]
  },
  {
   "cell_type": "code",
   "execution_count": 95,
   "metadata": {},
   "outputs": [
    {
     "data": {
      "text/html": [
       "<div>\n",
       "<style scoped>\n",
       "    .dataframe tbody tr th:only-of-type {\n",
       "        vertical-align: middle;\n",
       "    }\n",
       "\n",
       "    .dataframe tbody tr th {\n",
       "        vertical-align: top;\n",
       "    }\n",
       "\n",
       "    .dataframe thead th {\n",
       "        text-align: right;\n",
       "    }\n",
       "</style>\n",
       "<table border=\"1\" class=\"dataframe\">\n",
       "  <thead>\n",
       "    <tr style=\"text-align: right;\">\n",
       "      <th></th>\n",
       "      <th>sq_meter</th>\n",
       "    </tr>\n",
       "    <tr>\n",
       "      <th>locality_name</th>\n",
       "      <th></th>\n",
       "    </tr>\n",
       "  </thead>\n",
       "  <tbody>\n",
       "    <tr>\n",
       "      <th>Санкт-Петербург</th>\n",
       "      <td>114854.38</td>\n",
       "    </tr>\n",
       "    <tr>\n",
       "      <th>Пушкин</th>\n",
       "      <td>103125.82</td>\n",
       "    </tr>\n",
       "    <tr>\n",
       "      <th>Кудрово</th>\n",
       "      <td>95326.18</td>\n",
       "    </tr>\n",
       "    <tr>\n",
       "      <th>Парголово</th>\n",
       "      <td>90175.91</td>\n",
       "    </tr>\n",
       "    <tr>\n",
       "      <th>Мурино</th>\n",
       "      <td>86087.51</td>\n",
       "    </tr>\n",
       "    <tr>\n",
       "      <th>Шушары</th>\n",
       "      <td>78677.36</td>\n",
       "    </tr>\n",
       "    <tr>\n",
       "      <th>Колпино</th>\n",
       "      <td>75424.58</td>\n",
       "    </tr>\n",
       "    <tr>\n",
       "      <th>Гатчина</th>\n",
       "      <td>68746.15</td>\n",
       "    </tr>\n",
       "    <tr>\n",
       "      <th>Всеволожск</th>\n",
       "      <td>68719.32</td>\n",
       "    </tr>\n",
       "    <tr>\n",
       "      <th>Выборг</th>\n",
       "      <td>58238.14</td>\n",
       "    </tr>\n",
       "  </tbody>\n",
       "</table>\n",
       "</div>"
      ],
      "text/plain": [
       "                 sq_meter\n",
       "locality_name            \n",
       "Санкт-Петербург 114854.38\n",
       "Пушкин          103125.82\n",
       "Кудрово          95326.18\n",
       "Парголово        90175.91\n",
       "Мурино           86087.51\n",
       "Шушары           78677.36\n",
       "Колпино          75424.58\n",
       "Гатчина          68746.15\n",
       "Всеволожск       68719.32\n",
       "Выборг           58238.14"
      ]
     },
     "execution_count": 95,
     "metadata": {},
     "output_type": "execute_result"
    }
   ],
   "source": [
    "df.query('locality_name in @top10.index').pivot_table(index='locality_name', values='sq_meter', aggfunc='mean'). sort_values(by='sq_meter',ascending=False)"
   ]
  },
  {
   "cell_type": "markdown",
   "metadata": {},
   "source": [
    "По полученным данным можно сделать вывод, что самая большая стоимость квадратного метра относится к Санкт-Петербургу. А самая низкая стоимость относится к Выборгу."
   ]
  },
  {
   "cell_type": "markdown",
   "metadata": {},
   "source": [
    "### Средняя цена каждого километра в Санкт-Петерурге"
   ]
  },
  {
   "cell_type": "markdown",
   "metadata": {},
   "source": [
    "Для начала получим срез данных, относящихся только к Петербургу"
   ]
  },
  {
   "cell_type": "code",
   "execution_count": 96,
   "metadata": {},
   "outputs": [
    {
     "data": {
      "text/html": [
       "<div>\n",
       "<style scoped>\n",
       "    .dataframe tbody tr th:only-of-type {\n",
       "        vertical-align: middle;\n",
       "    }\n",
       "\n",
       "    .dataframe tbody tr th {\n",
       "        vertical-align: top;\n",
       "    }\n",
       "\n",
       "    .dataframe thead th {\n",
       "        text-align: right;\n",
       "    }\n",
       "</style>\n",
       "<table border=\"1\" class=\"dataframe\">\n",
       "  <thead>\n",
       "    <tr style=\"text-align: right;\">\n",
       "      <th></th>\n",
       "      <th>total_images</th>\n",
       "      <th>last_price</th>\n",
       "      <th>total_area</th>\n",
       "      <th>first_day_exposition</th>\n",
       "      <th>rooms</th>\n",
       "      <th>ceiling_height</th>\n",
       "      <th>floors_total</th>\n",
       "      <th>living_area</th>\n",
       "      <th>floor</th>\n",
       "      <th>is_apartment</th>\n",
       "      <th>...</th>\n",
       "      <th>parks_nearest</th>\n",
       "      <th>ponds_around3000</th>\n",
       "      <th>ponds_nearest</th>\n",
       "      <th>days_exposition</th>\n",
       "      <th>sq_meter</th>\n",
       "      <th>weekday_exposition</th>\n",
       "      <th>month_exposition</th>\n",
       "      <th>year_exposition</th>\n",
       "      <th>floor_category</th>\n",
       "      <th>city_centers_nearest_kilometers</th>\n",
       "    </tr>\n",
       "  </thead>\n",
       "  <tbody>\n",
       "    <tr>\n",
       "      <th>0</th>\n",
       "      <td>20</td>\n",
       "      <td>13000000.00</td>\n",
       "      <td>108.00</td>\n",
       "      <td>2019-03-07</td>\n",
       "      <td>3</td>\n",
       "      <td>2.70</td>\n",
       "      <td>16</td>\n",
       "      <td>51.00</td>\n",
       "      <td>8</td>\n",
       "      <td>False</td>\n",
       "      <td>...</td>\n",
       "      <td>482.00</td>\n",
       "      <td>2</td>\n",
       "      <td>755.00</td>\n",
       "      <td>&lt;NA&gt;</td>\n",
       "      <td>120370.37</td>\n",
       "      <td>3</td>\n",
       "      <td>3</td>\n",
       "      <td>2019</td>\n",
       "      <td>другой</td>\n",
       "      <td>16</td>\n",
       "    </tr>\n",
       "    <tr>\n",
       "      <th>2</th>\n",
       "      <td>10</td>\n",
       "      <td>5196000.00</td>\n",
       "      <td>56.00</td>\n",
       "      <td>2015-08-20</td>\n",
       "      <td>2</td>\n",
       "      <td>2.65</td>\n",
       "      <td>5</td>\n",
       "      <td>34.30</td>\n",
       "      <td>4</td>\n",
       "      <td>False</td>\n",
       "      <td>...</td>\n",
       "      <td>90.00</td>\n",
       "      <td>2</td>\n",
       "      <td>574.00</td>\n",
       "      <td>558</td>\n",
       "      <td>92785.71</td>\n",
       "      <td>3</td>\n",
       "      <td>8</td>\n",
       "      <td>2015</td>\n",
       "      <td>другой</td>\n",
       "      <td>14</td>\n",
       "    </tr>\n",
       "    <tr>\n",
       "      <th>3</th>\n",
       "      <td>0</td>\n",
       "      <td>64900000.00</td>\n",
       "      <td>159.00</td>\n",
       "      <td>2015-07-24</td>\n",
       "      <td>3</td>\n",
       "      <td>2.65</td>\n",
       "      <td>14</td>\n",
       "      <td>NaN</td>\n",
       "      <td>9</td>\n",
       "      <td>False</td>\n",
       "      <td>...</td>\n",
       "      <td>84.00</td>\n",
       "      <td>3</td>\n",
       "      <td>234.00</td>\n",
       "      <td>424</td>\n",
       "      <td>408176.10</td>\n",
       "      <td>4</td>\n",
       "      <td>7</td>\n",
       "      <td>2015</td>\n",
       "      <td>другой</td>\n",
       "      <td>7</td>\n",
       "    </tr>\n",
       "    <tr>\n",
       "      <th>4</th>\n",
       "      <td>2</td>\n",
       "      <td>10000000.00</td>\n",
       "      <td>100.00</td>\n",
       "      <td>2018-06-19</td>\n",
       "      <td>2</td>\n",
       "      <td>3.03</td>\n",
       "      <td>14</td>\n",
       "      <td>32.00</td>\n",
       "      <td>13</td>\n",
       "      <td>False</td>\n",
       "      <td>...</td>\n",
       "      <td>112.00</td>\n",
       "      <td>1</td>\n",
       "      <td>48.00</td>\n",
       "      <td>121</td>\n",
       "      <td>100000.00</td>\n",
       "      <td>1</td>\n",
       "      <td>6</td>\n",
       "      <td>2018</td>\n",
       "      <td>другой</td>\n",
       "      <td>8</td>\n",
       "    </tr>\n",
       "    <tr>\n",
       "      <th>7</th>\n",
       "      <td>5</td>\n",
       "      <td>7915000.00</td>\n",
       "      <td>71.60</td>\n",
       "      <td>2019-04-18</td>\n",
       "      <td>2</td>\n",
       "      <td>2.65</td>\n",
       "      <td>24</td>\n",
       "      <td>NaN</td>\n",
       "      <td>22</td>\n",
       "      <td>False</td>\n",
       "      <td>...</td>\n",
       "      <td>NaN</td>\n",
       "      <td>0</td>\n",
       "      <td>NaN</td>\n",
       "      <td>&lt;NA&gt;</td>\n",
       "      <td>110544.69</td>\n",
       "      <td>3</td>\n",
       "      <td>4</td>\n",
       "      <td>2019</td>\n",
       "      <td>другой</td>\n",
       "      <td>12</td>\n",
       "    </tr>\n",
       "    <tr>\n",
       "      <th>...</th>\n",
       "      <td>...</td>\n",
       "      <td>...</td>\n",
       "      <td>...</td>\n",
       "      <td>...</td>\n",
       "      <td>...</td>\n",
       "      <td>...</td>\n",
       "      <td>...</td>\n",
       "      <td>...</td>\n",
       "      <td>...</td>\n",
       "      <td>...</td>\n",
       "      <td>...</td>\n",
       "      <td>...</td>\n",
       "      <td>...</td>\n",
       "      <td>...</td>\n",
       "      <td>...</td>\n",
       "      <td>...</td>\n",
       "      <td>...</td>\n",
       "      <td>...</td>\n",
       "      <td>...</td>\n",
       "      <td>...</td>\n",
       "      <td>...</td>\n",
       "    </tr>\n",
       "    <tr>\n",
       "      <th>23689</th>\n",
       "      <td>13</td>\n",
       "      <td>3550000.00</td>\n",
       "      <td>35.30</td>\n",
       "      <td>2018-02-28</td>\n",
       "      <td>1</td>\n",
       "      <td>2.86</td>\n",
       "      <td>15</td>\n",
       "      <td>16.30</td>\n",
       "      <td>4</td>\n",
       "      <td>False</td>\n",
       "      <td>...</td>\n",
       "      <td>353.00</td>\n",
       "      <td>2</td>\n",
       "      <td>652.00</td>\n",
       "      <td>29</td>\n",
       "      <td>100566.57</td>\n",
       "      <td>2</td>\n",
       "      <td>2</td>\n",
       "      <td>2018</td>\n",
       "      <td>другой</td>\n",
       "      <td>16</td>\n",
       "    </tr>\n",
       "    <tr>\n",
       "      <th>23690</th>\n",
       "      <td>3</td>\n",
       "      <td>5500000.00</td>\n",
       "      <td>52.00</td>\n",
       "      <td>2018-07-19</td>\n",
       "      <td>2</td>\n",
       "      <td>2.65</td>\n",
       "      <td>5</td>\n",
       "      <td>31.00</td>\n",
       "      <td>2</td>\n",
       "      <td>False</td>\n",
       "      <td>...</td>\n",
       "      <td>300.00</td>\n",
       "      <td>0</td>\n",
       "      <td>NaN</td>\n",
       "      <td>15</td>\n",
       "      <td>105769.23</td>\n",
       "      <td>3</td>\n",
       "      <td>7</td>\n",
       "      <td>2018</td>\n",
       "      <td>другой</td>\n",
       "      <td>6</td>\n",
       "    </tr>\n",
       "    <tr>\n",
       "      <th>23691</th>\n",
       "      <td>11</td>\n",
       "      <td>9470000.00</td>\n",
       "      <td>72.90</td>\n",
       "      <td>2016-10-13</td>\n",
       "      <td>2</td>\n",
       "      <td>2.75</td>\n",
       "      <td>25</td>\n",
       "      <td>40.30</td>\n",
       "      <td>7</td>\n",
       "      <td>False</td>\n",
       "      <td>...</td>\n",
       "      <td>NaN</td>\n",
       "      <td>1</td>\n",
       "      <td>806.00</td>\n",
       "      <td>519</td>\n",
       "      <td>129903.98</td>\n",
       "      <td>3</td>\n",
       "      <td>10</td>\n",
       "      <td>2016</td>\n",
       "      <td>другой</td>\n",
       "      <td>4</td>\n",
       "    </tr>\n",
       "    <tr>\n",
       "      <th>23694</th>\n",
       "      <td>9</td>\n",
       "      <td>9700000.00</td>\n",
       "      <td>133.81</td>\n",
       "      <td>2017-03-21</td>\n",
       "      <td>3</td>\n",
       "      <td>3.70</td>\n",
       "      <td>5</td>\n",
       "      <td>73.30</td>\n",
       "      <td>3</td>\n",
       "      <td>False</td>\n",
       "      <td>...</td>\n",
       "      <td>796.00</td>\n",
       "      <td>3</td>\n",
       "      <td>381.00</td>\n",
       "      <td>&lt;NA&gt;</td>\n",
       "      <td>72490.85</td>\n",
       "      <td>1</td>\n",
       "      <td>3</td>\n",
       "      <td>2017</td>\n",
       "      <td>другой</td>\n",
       "      <td>4</td>\n",
       "    </tr>\n",
       "    <tr>\n",
       "      <th>23697</th>\n",
       "      <td>13</td>\n",
       "      <td>11475000.00</td>\n",
       "      <td>76.75</td>\n",
       "      <td>2017-03-28</td>\n",
       "      <td>2</td>\n",
       "      <td>3.00</td>\n",
       "      <td>17</td>\n",
       "      <td>NaN</td>\n",
       "      <td>12</td>\n",
       "      <td>False</td>\n",
       "      <td>...</td>\n",
       "      <td>173.00</td>\n",
       "      <td>3</td>\n",
       "      <td>196.00</td>\n",
       "      <td>602</td>\n",
       "      <td>149511.40</td>\n",
       "      <td>1</td>\n",
       "      <td>3</td>\n",
       "      <td>2017</td>\n",
       "      <td>другой</td>\n",
       "      <td>10</td>\n",
       "    </tr>\n",
       "  </tbody>\n",
       "</table>\n",
       "<p>15714 rows × 28 columns</p>\n",
       "</div>"
      ],
      "text/plain": [
       "       total_images  last_price  total_area first_day_exposition  rooms  \\\n",
       "0                20 13000000.00      108.00           2019-03-07      3   \n",
       "2                10  5196000.00       56.00           2015-08-20      2   \n",
       "3                 0 64900000.00      159.00           2015-07-24      3   \n",
       "4                 2 10000000.00      100.00           2018-06-19      2   \n",
       "7                 5  7915000.00       71.60           2019-04-18      2   \n",
       "...             ...         ...         ...                  ...    ...   \n",
       "23689            13  3550000.00       35.30           2018-02-28      1   \n",
       "23690             3  5500000.00       52.00           2018-07-19      2   \n",
       "23691            11  9470000.00       72.90           2016-10-13      2   \n",
       "23694             9  9700000.00      133.81           2017-03-21      3   \n",
       "23697            13 11475000.00       76.75           2017-03-28      2   \n",
       "\n",
       "       ceiling_height  floors_total  living_area  floor  is_apartment  ...  \\\n",
       "0                2.70            16        51.00      8         False  ...   \n",
       "2                2.65             5        34.30      4         False  ...   \n",
       "3                2.65            14          NaN      9         False  ...   \n",
       "4                3.03            14        32.00     13         False  ...   \n",
       "7                2.65            24          NaN     22         False  ...   \n",
       "...               ...           ...          ...    ...           ...  ...   \n",
       "23689            2.86            15        16.30      4         False  ...   \n",
       "23690            2.65             5        31.00      2         False  ...   \n",
       "23691            2.75            25        40.30      7         False  ...   \n",
       "23694            3.70             5        73.30      3         False  ...   \n",
       "23697            3.00            17          NaN     12         False  ...   \n",
       "\n",
       "       parks_nearest  ponds_around3000  ponds_nearest  days_exposition  \\\n",
       "0             482.00                 2         755.00             <NA>   \n",
       "2              90.00                 2         574.00              558   \n",
       "3              84.00                 3         234.00              424   \n",
       "4             112.00                 1          48.00              121   \n",
       "7                NaN                 0            NaN             <NA>   \n",
       "...              ...               ...            ...              ...   \n",
       "23689         353.00                 2         652.00               29   \n",
       "23690         300.00                 0            NaN               15   \n",
       "23691            NaN                 1         806.00              519   \n",
       "23694         796.00                 3         381.00             <NA>   \n",
       "23697         173.00                 3         196.00              602   \n",
       "\n",
       "       sq_meter  weekday_exposition  month_exposition  year_exposition  \\\n",
       "0     120370.37                   3                 3             2019   \n",
       "2      92785.71                   3                 8             2015   \n",
       "3     408176.10                   4                 7             2015   \n",
       "4     100000.00                   1                 6             2018   \n",
       "7     110544.69                   3                 4             2019   \n",
       "...         ...                 ...               ...              ...   \n",
       "23689 100566.57                   2                 2             2018   \n",
       "23690 105769.23                   3                 7             2018   \n",
       "23691 129903.98                   3                10             2016   \n",
       "23694  72490.85                   1                 3             2017   \n",
       "23697 149511.40                   1                 3             2017   \n",
       "\n",
       "       floor_category  city_centers_nearest_kilometers  \n",
       "0              другой                               16  \n",
       "2              другой                               14  \n",
       "3              другой                                7  \n",
       "4              другой                                8  \n",
       "7              другой                               12  \n",
       "...               ...                              ...  \n",
       "23689          другой                               16  \n",
       "23690          другой                                6  \n",
       "23691          другой                                4  \n",
       "23694          другой                                4  \n",
       "23697          другой                               10  \n",
       "\n",
       "[15714 rows x 28 columns]"
      ]
     },
     "execution_count": 96,
     "metadata": {},
     "output_type": "execute_result"
    }
   ],
   "source": [
    "df.query('locality_name == \"Санкт-Петербург\"')"
   ]
  },
  {
   "cell_type": "markdown",
   "metadata": {},
   "source": [
    "По полученным данным построим сводную таблицу, отражающую среднюю стоимость квартиры на каждый километр"
   ]
  },
  {
   "cell_type": "code",
   "execution_count": 97,
   "metadata": {},
   "outputs": [
    {
     "data": {
      "text/html": [
       "<div>\n",
       "<style scoped>\n",
       "    .dataframe tbody tr th:only-of-type {\n",
       "        vertical-align: middle;\n",
       "    }\n",
       "\n",
       "    .dataframe tbody tr th {\n",
       "        vertical-align: top;\n",
       "    }\n",
       "\n",
       "    .dataframe thead th {\n",
       "        text-align: right;\n",
       "    }\n",
       "</style>\n",
       "<table border=\"1\" class=\"dataframe\">\n",
       "  <thead>\n",
       "    <tr style=\"text-align: right;\">\n",
       "      <th></th>\n",
       "      <th>last_price</th>\n",
       "    </tr>\n",
       "    <tr>\n",
       "      <th>city_centers_nearest_kilometers</th>\n",
       "      <th></th>\n",
       "    </tr>\n",
       "  </thead>\n",
       "  <tbody>\n",
       "    <tr>\n",
       "      <th>0</th>\n",
       "      <td>31449115.85</td>\n",
       "    </tr>\n",
       "    <tr>\n",
       "      <th>1</th>\n",
       "      <td>21206720.83</td>\n",
       "    </tr>\n",
       "    <tr>\n",
       "      <th>2</th>\n",
       "      <td>17788319.61</td>\n",
       "    </tr>\n",
       "    <tr>\n",
       "      <th>3</th>\n",
       "      <td>11126581.00</td>\n",
       "    </tr>\n",
       "    <tr>\n",
       "      <th>4</th>\n",
       "      <td>13304279.53</td>\n",
       "    </tr>\n",
       "    <tr>\n",
       "      <th>5</th>\n",
       "      <td>14499121.06</td>\n",
       "    </tr>\n",
       "    <tr>\n",
       "      <th>6</th>\n",
       "      <td>15338418.39</td>\n",
       "    </tr>\n",
       "    <tr>\n",
       "      <th>7</th>\n",
       "      <td>14775152.59</td>\n",
       "    </tr>\n",
       "    <tr>\n",
       "      <th>8</th>\n",
       "      <td>9953786.82</td>\n",
       "    </tr>\n",
       "    <tr>\n",
       "      <th>9</th>\n",
       "      <td>6971194.51</td>\n",
       "    </tr>\n",
       "    <tr>\n",
       "      <th>10</th>\n",
       "      <td>6504119.23</td>\n",
       "    </tr>\n",
       "    <tr>\n",
       "      <th>11</th>\n",
       "      <td>6250814.96</td>\n",
       "    </tr>\n",
       "    <tr>\n",
       "      <th>12</th>\n",
       "      <td>5830308.78</td>\n",
       "    </tr>\n",
       "    <tr>\n",
       "      <th>13</th>\n",
       "      <td>6083232.31</td>\n",
       "    </tr>\n",
       "    <tr>\n",
       "      <th>14</th>\n",
       "      <td>5628811.03</td>\n",
       "    </tr>\n",
       "    <tr>\n",
       "      <th>15</th>\n",
       "      <td>5885890.35</td>\n",
       "    </tr>\n",
       "    <tr>\n",
       "      <th>16</th>\n",
       "      <td>5373130.56</td>\n",
       "    </tr>\n",
       "    <tr>\n",
       "      <th>17</th>\n",
       "      <td>5292394.63</td>\n",
       "    </tr>\n",
       "    <tr>\n",
       "      <th>18</th>\n",
       "      <td>5091331.32</td>\n",
       "    </tr>\n",
       "    <tr>\n",
       "      <th>19</th>\n",
       "      <td>5037674.94</td>\n",
       "    </tr>\n",
       "    <tr>\n",
       "      <th>20</th>\n",
       "      <td>5990037.02</td>\n",
       "    </tr>\n",
       "    <tr>\n",
       "      <th>21</th>\n",
       "      <td>5493469.37</td>\n",
       "    </tr>\n",
       "    <tr>\n",
       "      <th>22</th>\n",
       "      <td>5415524.28</td>\n",
       "    </tr>\n",
       "    <tr>\n",
       "      <th>23</th>\n",
       "      <td>4961392.86</td>\n",
       "    </tr>\n",
       "    <tr>\n",
       "      <th>24</th>\n",
       "      <td>3854429.62</td>\n",
       "    </tr>\n",
       "    <tr>\n",
       "      <th>25</th>\n",
       "      <td>4052839.92</td>\n",
       "    </tr>\n",
       "    <tr>\n",
       "      <th>26</th>\n",
       "      <td>3973012.51</td>\n",
       "    </tr>\n",
       "    <tr>\n",
       "      <th>27</th>\n",
       "      <td>8300000.00</td>\n",
       "    </tr>\n",
       "    <tr>\n",
       "      <th>28</th>\n",
       "      <td>5026428.57</td>\n",
       "    </tr>\n",
       "    <tr>\n",
       "      <th>29</th>\n",
       "      <td>4236666.67</td>\n",
       "    </tr>\n",
       "  </tbody>\n",
       "</table>\n",
       "</div>"
      ],
      "text/plain": [
       "                                 last_price\n",
       "city_centers_nearest_kilometers            \n",
       "0                               31449115.85\n",
       "1                               21206720.83\n",
       "2                               17788319.61\n",
       "3                               11126581.00\n",
       "4                               13304279.53\n",
       "5                               14499121.06\n",
       "6                               15338418.39\n",
       "7                               14775152.59\n",
       "8                                9953786.82\n",
       "9                                6971194.51\n",
       "10                               6504119.23\n",
       "11                               6250814.96\n",
       "12                               5830308.78\n",
       "13                               6083232.31\n",
       "14                               5628811.03\n",
       "15                               5885890.35\n",
       "16                               5373130.56\n",
       "17                               5292394.63\n",
       "18                               5091331.32\n",
       "19                               5037674.94\n",
       "20                               5990037.02\n",
       "21                               5493469.37\n",
       "22                               5415524.28\n",
       "23                               4961392.86\n",
       "24                               3854429.62\n",
       "25                               4052839.92\n",
       "26                               3973012.51\n",
       "27                               8300000.00\n",
       "28                               5026428.57\n",
       "29                               4236666.67"
      ]
     },
     "execution_count": 97,
     "metadata": {},
     "output_type": "execute_result"
    }
   ],
   "source": [
    "df.query('locality_name == \"Санкт-Петербург\"').pivot_table(index='city_centers_nearest_kilometers',values='last_price',aggfunc='mean')"
   ]
  },
  {
   "cell_type": "markdown",
   "metadata": {},
   "source": [
    "По полученным данным построим график"
   ]
  },
  {
   "cell_type": "code",
   "execution_count": 98,
   "metadata": {},
   "outputs": [
    {
     "data": {
      "text/plain": [
       "<AxesSubplot:xlabel='city_centers_nearest_kilometers'>"
      ]
     },
     "execution_count": 98,
     "metadata": {},
     "output_type": "execute_result"
    },
    {
     "data": {
      "image/png": "[encoded data removed]",
      "text/plain": [
       "<Figure size 432x288 with 1 Axes>"
      ]
     },
     "metadata": {
      "needs_background": "light"
     },
     "output_type": "display_data"
    }
   ],
   "source": [
    "df.query('locality_name == \"Санкт-Петербург\"').pivot_table(index='city_centers_nearest_kilometers', values='last_price', aggfunc='mean').plot(kind='bar')"
   ]
  },
  {
   "cell_type": "markdown",
   "metadata": {},
   "source": [
    "По графику видно: чем дальше от центра квартира, тем она дешевле. Однако есть небольшой скачок при 27 километрах."
   ]
  },
  {
   "cell_type": "markdown",
   "metadata": {},
   "source": [
    "### Общий вывод"
   ]
  },
  {
   "cell_type": "markdown",
   "metadata": {},
   "source": [
    "**В данной работе были проанализированы данные об объявлениях о продаже квартир в Ленинградской области:**\n",
    "– **Был проведен первичный анализ датафрейма**.\n",
    "– **Проведена предоработка данных** в обработке дубликатов, пропусков,смен типов данных и выявлении аномалий\n",
    "– **Были посчитаны и добавлены в таблицу столбцы**, отражающие:\n",
    "Цены одного квадратного метра;\n",
    "Дня недели, месяца и года публикации;\n",
    "Типа этажа;\n",
    "Расстояния в километрах до центра города.\n",
    "– **Был проведен исследовательский анализ данных**, который включал в себя:\n",
    "Изучение столбцов, построение графиков и их описание;\n",
    "Была изучена скорость продаж квартир, результаты описаны выше. Коротко: В среднем квартиры продаются за полгода, быстрыми можно считать продажи менее чем за 45 днем, а долгими более чем за 232 дня;\n",
    "Были определены факторы, влияющие на стоимость квартир в Ленинградской области. Получен вывод о том, что при увеличении площади квартиры растет ее цена, при увеличении количества комнат зависимость очень слабая, однако положительная. Самые дешевые квартиры находятся на первом этаже, а самые дорогие между первым и последним. Самые высокие цены на квартиры появляются в пятницу, в другие дни примерно на одном уровне. В течение года цены квартир становятся высокими только к концу: к декабрю. В остальные месяцы стоимость немного колеблется, но особо не изменяется. С 2014 по 2018 цены на квартиры стремительно падали, а к 2019 начался рост;\n",
    "Были определены самые высокие и низкие стоимости квадратного метра в десятке самых популярных населенных пунктов. В Санкт-Петербурге цена максимальна и в среднем составляет 114854.38, а в Выборге минимальна и в среднем составляет 58238.14.\n",
    "Были получены средние цены каждого километра в Санкт-Петерурге. Чем дальше от центра квартира, тем она дешевле."
   ]
  }
 ],
 "metadata": {
  "ExecuteTimeLog": [
   {
    "duration": 459,
    "start_time": "2023-02-25T16:06:30.584Z"
   },
   {
    "duration": 3,
    "start_time": "2023-02-25T16:06:31.045Z"
   },
   {
    "duration": 215,
    "start_time": "2023-02-25T16:06:31.049Z"
   },
   {
    "duration": 27,
    "start_time": "2023-02-25T16:06:31.266Z"
   },
   {
    "duration": 21,
    "start_time": "2023-02-25T16:06:31.295Z"
   },
   {
    "duration": 2126,
    "start_time": "2023-02-25T16:06:31.318Z"
   },
   {
    "duration": 8,
    "start_time": "2023-02-25T16:06:33.446Z"
   },
   {
    "duration": 19,
    "start_time": "2023-02-25T16:06:33.455Z"
   },
   {
    "duration": 5,
    "start_time": "2023-02-25T16:06:33.475Z"
   },
   {
    "duration": 8,
    "start_time": "2023-02-25T16:06:33.482Z"
   },
   {
    "duration": 16,
    "start_time": "2023-02-25T16:06:33.491Z"
   },
   {
    "duration": 29,
    "start_time": "2023-02-25T16:06:33.508Z"
   },
   {
    "duration": 4,
    "start_time": "2023-02-25T16:06:33.539Z"
   },
   {
    "duration": 6,
    "start_time": "2023-02-25T16:06:33.545Z"
   },
   {
    "duration": 134,
    "start_time": "2023-02-25T16:06:33.552Z"
   },
   {
    "duration": 19,
    "start_time": "2023-02-25T16:06:33.688Z"
   },
   {
    "duration": 12,
    "start_time": "2023-02-25T16:06:33.709Z"
   },
   {
    "duration": 6,
    "start_time": "2023-02-25T16:06:33.723Z"
   },
   {
    "duration": 18,
    "start_time": "2023-02-25T16:06:33.730Z"
   },
   {
    "duration": 7,
    "start_time": "2023-02-25T16:06:33.750Z"
   },
   {
    "duration": 6,
    "start_time": "2023-02-25T16:06:33.759Z"
   },
   {
    "duration": 40,
    "start_time": "2023-02-25T16:06:33.766Z"
   },
   {
    "duration": 4,
    "start_time": "2023-02-25T16:06:33.807Z"
   },
   {
    "duration": 5,
    "start_time": "2023-02-25T16:06:33.813Z"
   },
   {
    "duration": 206,
    "start_time": "2023-02-25T16:06:33.820Z"
   },
   {
    "duration": 9,
    "start_time": "2023-02-25T16:06:34.027Z"
   },
   {
    "duration": 6,
    "start_time": "2023-02-25T16:06:34.037Z"
   },
   {
    "duration": 3,
    "start_time": "2023-02-25T16:06:34.047Z"
   },
   {
    "duration": 5,
    "start_time": "2023-02-25T16:06:34.051Z"
   },
   {
    "duration": 5,
    "start_time": "2023-02-25T16:06:34.057Z"
   },
   {
    "duration": 5,
    "start_time": "2023-02-25T16:06:34.063Z"
   },
   {
    "duration": 8,
    "start_time": "2023-02-25T16:06:34.069Z"
   },
   {
    "duration": 3,
    "start_time": "2023-02-25T16:06:34.103Z"
   },
   {
    "duration": 7,
    "start_time": "2023-02-25T16:06:34.107Z"
   },
   {
    "duration": 7,
    "start_time": "2023-02-25T16:06:34.115Z"
   },
   {
    "duration": 12,
    "start_time": "2023-02-25T16:06:34.124Z"
   },
   {
    "duration": 4,
    "start_time": "2023-02-25T16:06:34.138Z"
   },
   {
    "duration": 12,
    "start_time": "2023-02-25T16:06:34.143Z"
   },
   {
    "duration": 47,
    "start_time": "2023-02-25T16:06:34.157Z"
   },
   {
    "duration": 67,
    "start_time": "2023-02-25T16:06:34.205Z"
   },
   {
    "duration": 0,
    "start_time": "2023-02-25T16:06:34.273Z"
   },
   {
    "duration": 0,
    "start_time": "2023-02-25T16:06:34.275Z"
   },
   {
    "duration": 0,
    "start_time": "2023-02-25T16:06:34.276Z"
   },
   {
    "duration": 0,
    "start_time": "2023-02-25T16:06:34.277Z"
   },
   {
    "duration": 0,
    "start_time": "2023-02-25T16:06:34.278Z"
   },
   {
    "duration": 0,
    "start_time": "2023-02-25T16:06:34.279Z"
   },
   {
    "duration": 0,
    "start_time": "2023-02-25T16:06:34.280Z"
   },
   {
    "duration": 0,
    "start_time": "2023-02-25T16:06:34.303Z"
   },
   {
    "duration": 0,
    "start_time": "2023-02-25T16:06:34.304Z"
   },
   {
    "duration": 0,
    "start_time": "2023-02-25T16:06:34.305Z"
   },
   {
    "duration": 0,
    "start_time": "2023-02-25T16:06:34.306Z"
   },
   {
    "duration": 0,
    "start_time": "2023-02-25T16:06:34.307Z"
   },
   {
    "duration": 0,
    "start_time": "2023-02-25T16:06:34.308Z"
   },
   {
    "duration": 0,
    "start_time": "2023-02-25T16:06:34.309Z"
   },
   {
    "duration": 0,
    "start_time": "2023-02-25T16:06:34.310Z"
   },
   {
    "duration": 1,
    "start_time": "2023-02-25T16:06:34.311Z"
   },
   {
    "duration": 0,
    "start_time": "2023-02-25T16:06:34.312Z"
   },
   {
    "duration": 0,
    "start_time": "2023-02-25T16:06:34.313Z"
   },
   {
    "duration": 0,
    "start_time": "2023-02-25T16:06:34.314Z"
   },
   {
    "duration": 0,
    "start_time": "2023-02-25T16:06:34.315Z"
   },
   {
    "duration": 1,
    "start_time": "2023-02-25T16:06:34.316Z"
   },
   {
    "duration": 0,
    "start_time": "2023-02-25T16:06:34.317Z"
   },
   {
    "duration": 0,
    "start_time": "2023-02-25T16:06:34.318Z"
   },
   {
    "duration": 0,
    "start_time": "2023-02-25T16:06:34.319Z"
   },
   {
    "duration": 0,
    "start_time": "2023-02-25T16:06:34.321Z"
   },
   {
    "duration": 0,
    "start_time": "2023-02-25T16:06:34.322Z"
   },
   {
    "duration": 0,
    "start_time": "2023-02-25T16:06:34.323Z"
   },
   {
    "duration": 0,
    "start_time": "2023-02-25T16:06:34.323Z"
   },
   {
    "duration": 0,
    "start_time": "2023-02-25T16:06:34.324Z"
   },
   {
    "duration": 0,
    "start_time": "2023-02-25T16:06:34.325Z"
   },
   {
    "duration": 0,
    "start_time": "2023-02-25T16:06:34.326Z"
   },
   {
    "duration": 0,
    "start_time": "2023-02-25T16:06:34.327Z"
   },
   {
    "duration": 0,
    "start_time": "2023-02-25T16:06:34.328Z"
   },
   {
    "duration": 0,
    "start_time": "2023-02-25T16:06:34.329Z"
   },
   {
    "duration": 0,
    "start_time": "2023-02-25T16:06:34.331Z"
   },
   {
    "duration": 0,
    "start_time": "2023-02-25T16:06:34.332Z"
   },
   {
    "duration": 0,
    "start_time": "2023-02-25T16:06:34.332Z"
   },
   {
    "duration": 0,
    "start_time": "2023-02-25T16:06:34.333Z"
   },
   {
    "duration": 0,
    "start_time": "2023-02-25T16:06:34.335Z"
   },
   {
    "duration": 0,
    "start_time": "2023-02-25T16:06:34.337Z"
   },
   {
    "duration": 0,
    "start_time": "2023-02-25T16:06:34.337Z"
   },
   {
    "duration": 0,
    "start_time": "2023-02-25T16:06:34.339Z"
   },
   {
    "duration": 0,
    "start_time": "2023-02-25T16:06:34.339Z"
   },
   {
    "duration": 0,
    "start_time": "2023-02-25T16:06:34.341Z"
   },
   {
    "duration": 0,
    "start_time": "2023-02-25T16:06:34.341Z"
   },
   {
    "duration": 0,
    "start_time": "2023-02-25T16:06:34.403Z"
   },
   {
    "duration": 0,
    "start_time": "2023-02-25T16:06:34.404Z"
   },
   {
    "duration": 0,
    "start_time": "2023-02-25T16:06:34.405Z"
   },
   {
    "duration": 0,
    "start_time": "2023-02-25T16:06:34.406Z"
   },
   {
    "duration": 0,
    "start_time": "2023-02-25T16:06:34.407Z"
   },
   {
    "duration": 0,
    "start_time": "2023-02-25T16:06:34.407Z"
   },
   {
    "duration": 0,
    "start_time": "2023-02-25T16:06:34.408Z"
   },
   {
    "duration": 0,
    "start_time": "2023-02-25T16:06:34.409Z"
   },
   {
    "duration": 0,
    "start_time": "2023-02-25T16:06:34.410Z"
   },
   {
    "duration": 0,
    "start_time": "2023-02-25T16:06:34.411Z"
   },
   {
    "duration": 0,
    "start_time": "2023-02-25T16:06:34.412Z"
   },
   {
    "duration": 13,
    "start_time": "2023-02-25T16:06:42.940Z"
   },
   {
    "duration": 4,
    "start_time": "2023-02-25T16:06:44.680Z"
   },
   {
    "duration": 16,
    "start_time": "2023-02-25T16:06:44.686Z"
   },
   {
    "duration": 8,
    "start_time": "2023-02-25T16:06:44.704Z"
   },
   {
    "duration": 152,
    "start_time": "2023-02-25T16:06:44.713Z"
   },
   {
    "duration": 8,
    "start_time": "2023-02-25T16:06:44.867Z"
   },
   {
    "duration": 159,
    "start_time": "2023-02-25T16:06:44.876Z"
   },
   {
    "duration": 9,
    "start_time": "2023-02-25T16:06:45.037Z"
   },
   {
    "duration": 169,
    "start_time": "2023-02-25T16:06:45.047Z"
   },
   {
    "duration": 10,
    "start_time": "2023-02-25T16:06:45.218Z"
   },
   {
    "duration": 186,
    "start_time": "2023-02-25T16:06:45.229Z"
   },
   {
    "duration": 8,
    "start_time": "2023-02-25T16:06:45.419Z"
   },
   {
    "duration": 248,
    "start_time": "2023-02-25T16:06:45.429Z"
   },
   {
    "duration": 9,
    "start_time": "2023-02-25T16:06:45.680Z"
   },
   {
    "duration": 164,
    "start_time": "2023-02-25T16:06:45.703Z"
   },
   {
    "duration": 7,
    "start_time": "2023-02-25T16:06:45.869Z"
   },
   {
    "duration": 147,
    "start_time": "2023-02-25T16:06:45.877Z"
   },
   {
    "duration": 9,
    "start_time": "2023-02-25T16:06:46.026Z"
   },
   {
    "duration": 21,
    "start_time": "2023-02-25T16:06:46.037Z"
   },
   {
    "duration": 133,
    "start_time": "2023-02-25T16:06:46.060Z"
   },
   {
    "duration": 17,
    "start_time": "2023-02-25T16:06:46.203Z"
   },
   {
    "duration": 151,
    "start_time": "2023-02-25T16:06:46.222Z"
   },
   {
    "duration": 11,
    "start_time": "2023-02-25T16:06:46.374Z"
   },
   {
    "duration": 175,
    "start_time": "2023-02-25T16:06:46.386Z"
   },
   {
    "duration": 10,
    "start_time": "2023-02-25T16:06:46.563Z"
   },
   {
    "duration": 172,
    "start_time": "2023-02-25T16:06:46.575Z"
   },
   {
    "duration": 11,
    "start_time": "2023-02-25T16:06:46.749Z"
   },
   {
    "duration": 192,
    "start_time": "2023-02-25T16:06:46.762Z"
   },
   {
    "duration": 11,
    "start_time": "2023-02-25T16:06:46.956Z"
   },
   {
    "duration": 164,
    "start_time": "2023-02-25T16:06:46.970Z"
   },
   {
    "duration": 292,
    "start_time": "2023-02-25T16:06:47.136Z"
   },
   {
    "duration": 7,
    "start_time": "2023-02-25T16:06:47.429Z"
   },
   {
    "duration": 292,
    "start_time": "2023-02-25T16:06:47.437Z"
   },
   {
    "duration": 281,
    "start_time": "2023-02-25T16:06:47.731Z"
   },
   {
    "duration": 320,
    "start_time": "2023-02-25T16:06:48.014Z"
   },
   {
    "duration": 376,
    "start_time": "2023-02-25T16:06:48.335Z"
   },
   {
    "duration": 147,
    "start_time": "2023-02-25T16:06:48.713Z"
   },
   {
    "duration": 158,
    "start_time": "2023-02-25T16:06:48.861Z"
   },
   {
    "duration": 4,
    "start_time": "2023-02-25T16:06:49.021Z"
   },
   {
    "duration": 3274,
    "start_time": "2023-02-25T16:06:49.026Z"
   },
   {
    "duration": 6,
    "start_time": "2023-02-25T16:06:52.304Z"
   },
   {
    "duration": 3393,
    "start_time": "2023-02-25T16:06:52.311Z"
   },
   {
    "duration": 7,
    "start_time": "2023-02-25T16:06:55.706Z"
   },
   {
    "duration": 28,
    "start_time": "2023-02-25T16:06:55.714Z"
   },
   {
    "duration": 188,
    "start_time": "2023-02-25T16:06:55.744Z"
   },
   {
    "duration": 30,
    "start_time": "2023-02-25T16:06:55.934Z"
   },
   {
    "duration": 197,
    "start_time": "2023-02-25T16:06:55.966Z"
   },
   {
    "duration": 24,
    "start_time": "2023-02-25T16:06:56.165Z"
   },
   {
    "duration": 231,
    "start_time": "2023-02-25T16:06:56.190Z"
   },
   {
    "duration": 22,
    "start_time": "2023-02-25T16:06:56.423Z"
   },
   {
    "duration": 188,
    "start_time": "2023-02-25T16:06:56.446Z"
   },
   {
    "duration": 7,
    "start_time": "2023-02-25T16:06:56.636Z"
   },
   {
    "duration": 41,
    "start_time": "2023-02-25T16:06:56.644Z"
   },
   {
    "duration": 37,
    "start_time": "2023-02-25T16:06:56.686Z"
   },
   {
    "duration": 49,
    "start_time": "2023-02-25T16:06:56.725Z"
   },
   {
    "duration": 38,
    "start_time": "2023-02-25T16:06:56.776Z"
   },
   {
    "duration": 293,
    "start_time": "2023-02-25T16:06:56.816Z"
   },
   {
    "duration": 10,
    "start_time": "2023-02-25T16:07:13.484Z"
   },
   {
    "duration": 20,
    "start_time": "2023-02-25T16:14:15.520Z"
   },
   {
    "duration": 45,
    "start_time": "2023-02-25T16:30:03.742Z"
   },
   {
    "duration": 405,
    "start_time": "2023-02-25T16:30:09.956Z"
   },
   {
    "duration": 3,
    "start_time": "2023-02-25T16:30:10.362Z"
   },
   {
    "duration": 206,
    "start_time": "2023-02-25T16:30:10.367Z"
   },
   {
    "duration": 27,
    "start_time": "2023-02-25T16:30:10.575Z"
   },
   {
    "duration": 17,
    "start_time": "2023-02-25T16:30:10.604Z"
   },
   {
    "duration": 2145,
    "start_time": "2023-02-25T16:30:10.623Z"
   },
   {
    "duration": 9,
    "start_time": "2023-02-25T16:30:12.770Z"
   },
   {
    "duration": 18,
    "start_time": "2023-02-25T16:30:12.780Z"
   },
   {
    "duration": 5,
    "start_time": "2023-02-25T16:30:12.799Z"
   },
   {
    "duration": 12,
    "start_time": "2023-02-25T16:30:12.806Z"
   },
   {
    "duration": 6,
    "start_time": "2023-02-25T16:30:12.820Z"
   },
   {
    "duration": 31,
    "start_time": "2023-02-25T16:30:12.828Z"
   },
   {
    "duration": 4,
    "start_time": "2023-02-25T16:30:12.861Z"
   },
   {
    "duration": 22,
    "start_time": "2023-02-25T16:30:12.885Z"
   },
   {
    "duration": 147,
    "start_time": "2023-02-25T16:30:12.909Z"
   },
   {
    "duration": 11,
    "start_time": "2023-02-25T16:30:13.057Z"
   },
   {
    "duration": 21,
    "start_time": "2023-02-25T16:30:13.069Z"
   },
   {
    "duration": 5,
    "start_time": "2023-02-25T16:30:13.092Z"
   },
   {
    "duration": 18,
    "start_time": "2023-02-25T16:30:13.098Z"
   },
   {
    "duration": 5,
    "start_time": "2023-02-25T16:30:13.117Z"
   },
   {
    "duration": 13,
    "start_time": "2023-02-25T16:30:13.123Z"
   },
   {
    "duration": 15,
    "start_time": "2023-02-25T16:30:13.138Z"
   },
   {
    "duration": 3,
    "start_time": "2023-02-25T16:30:13.154Z"
   },
   {
    "duration": 26,
    "start_time": "2023-02-25T16:30:13.159Z"
   },
   {
    "duration": 199,
    "start_time": "2023-02-25T16:30:13.187Z"
   },
   {
    "duration": 8,
    "start_time": "2023-02-25T16:30:13.388Z"
   },
   {
    "duration": 6,
    "start_time": "2023-02-25T16:30:13.398Z"
   },
   {
    "duration": 4,
    "start_time": "2023-02-25T16:30:13.409Z"
   },
   {
    "duration": 6,
    "start_time": "2023-02-25T16:30:13.414Z"
   },
   {
    "duration": 6,
    "start_time": "2023-02-25T16:30:13.421Z"
   },
   {
    "duration": 5,
    "start_time": "2023-02-25T16:30:13.428Z"
   },
   {
    "duration": 7,
    "start_time": "2023-02-25T16:30:13.434Z"
   },
   {
    "duration": 6,
    "start_time": "2023-02-25T16:30:13.442Z"
   },
   {
    "duration": 8,
    "start_time": "2023-02-25T16:30:13.449Z"
   },
   {
    "duration": 35,
    "start_time": "2023-02-25T16:30:13.458Z"
   },
   {
    "duration": 13,
    "start_time": "2023-02-25T16:30:13.495Z"
   },
   {
    "duration": 3,
    "start_time": "2023-02-25T16:30:13.509Z"
   },
   {
    "duration": 14,
    "start_time": "2023-02-25T16:30:13.514Z"
   },
   {
    "duration": 23,
    "start_time": "2023-02-25T16:30:13.529Z"
   },
   {
    "duration": 11,
    "start_time": "2023-02-25T16:30:13.554Z"
   },
   {
    "duration": 21,
    "start_time": "2023-02-25T16:30:13.566Z"
   },
   {
    "duration": 18,
    "start_time": "2023-02-25T16:30:13.588Z"
   },
   {
    "duration": 7,
    "start_time": "2023-02-25T16:30:13.608Z"
   },
   {
    "duration": 147,
    "start_time": "2023-02-25T16:30:13.616Z"
   },
   {
    "duration": 9,
    "start_time": "2023-02-25T16:30:13.765Z"
   },
   {
    "duration": 133,
    "start_time": "2023-02-25T16:30:13.776Z"
   },
   {
    "duration": 9,
    "start_time": "2023-02-25T16:30:13.910Z"
   },
   {
    "duration": 158,
    "start_time": "2023-02-25T16:30:13.920Z"
   },
   {
    "duration": 11,
    "start_time": "2023-02-25T16:30:14.080Z"
   },
   {
    "duration": 157,
    "start_time": "2023-02-25T16:30:14.093Z"
   },
   {
    "duration": 8,
    "start_time": "2023-02-25T16:30:14.251Z"
   },
   {
    "duration": 192,
    "start_time": "2023-02-25T16:30:14.260Z"
   },
   {
    "duration": 7,
    "start_time": "2023-02-25T16:30:14.454Z"
   },
   {
    "duration": 149,
    "start_time": "2023-02-25T16:30:14.462Z"
   },
   {
    "duration": 7,
    "start_time": "2023-02-25T16:30:14.613Z"
   },
   {
    "duration": 207,
    "start_time": "2023-02-25T16:30:14.622Z"
   },
   {
    "duration": 61,
    "start_time": "2023-02-25T16:30:14.830Z"
   },
   {
    "duration": 22,
    "start_time": "2023-02-25T16:30:14.892Z"
   },
   {
    "duration": 216,
    "start_time": "2023-02-25T16:30:14.916Z"
   },
   {
    "duration": 22,
    "start_time": "2023-02-25T16:30:15.185Z"
   },
   {
    "duration": 281,
    "start_time": "2023-02-25T16:30:15.209Z"
   },
   {
    "duration": 9,
    "start_time": "2023-02-25T16:30:15.491Z"
   },
   {
    "duration": 411,
    "start_time": "2023-02-25T16:30:15.502Z"
   },
   {
    "duration": 9,
    "start_time": "2023-02-25T16:30:15.915Z"
   },
   {
    "duration": 288,
    "start_time": "2023-02-25T16:30:15.925Z"
   },
   {
    "duration": 8,
    "start_time": "2023-02-25T16:30:16.214Z"
   },
   {
    "duration": 313,
    "start_time": "2023-02-25T16:30:16.223Z"
   },
   {
    "duration": 12,
    "start_time": "2023-02-25T16:30:16.537Z"
   },
   {
    "duration": 220,
    "start_time": "2023-02-25T16:30:16.551Z"
   },
   {
    "duration": 0,
    "start_time": "2023-02-25T16:30:16.773Z"
   },
   {
    "duration": 0,
    "start_time": "2023-02-25T16:30:16.774Z"
   },
   {
    "duration": 0,
    "start_time": "2023-02-25T16:30:16.785Z"
   },
   {
    "duration": 0,
    "start_time": "2023-02-25T16:30:16.786Z"
   },
   {
    "duration": 0,
    "start_time": "2023-02-25T16:30:16.787Z"
   },
   {
    "duration": 0,
    "start_time": "2023-02-25T16:30:16.788Z"
   },
   {
    "duration": 0,
    "start_time": "2023-02-25T16:30:16.789Z"
   },
   {
    "duration": 0,
    "start_time": "2023-02-25T16:30:16.790Z"
   },
   {
    "duration": 0,
    "start_time": "2023-02-25T16:30:16.792Z"
   },
   {
    "duration": 0,
    "start_time": "2023-02-25T16:30:16.793Z"
   },
   {
    "duration": 0,
    "start_time": "2023-02-25T16:30:16.795Z"
   },
   {
    "duration": 0,
    "start_time": "2023-02-25T16:30:16.796Z"
   },
   {
    "duration": 0,
    "start_time": "2023-02-25T16:30:16.797Z"
   },
   {
    "duration": 0,
    "start_time": "2023-02-25T16:30:16.798Z"
   },
   {
    "duration": 0,
    "start_time": "2023-02-25T16:30:16.799Z"
   },
   {
    "duration": 0,
    "start_time": "2023-02-25T16:30:16.800Z"
   },
   {
    "duration": 0,
    "start_time": "2023-02-25T16:30:16.802Z"
   },
   {
    "duration": 0,
    "start_time": "2023-02-25T16:30:16.803Z"
   },
   {
    "duration": 0,
    "start_time": "2023-02-25T16:30:16.804Z"
   },
   {
    "duration": 0,
    "start_time": "2023-02-25T16:30:16.805Z"
   },
   {
    "duration": 0,
    "start_time": "2023-02-25T16:30:16.806Z"
   },
   {
    "duration": 0,
    "start_time": "2023-02-25T16:30:16.807Z"
   },
   {
    "duration": 0,
    "start_time": "2023-02-25T16:30:16.809Z"
   },
   {
    "duration": 0,
    "start_time": "2023-02-25T16:30:16.810Z"
   },
   {
    "duration": 0,
    "start_time": "2023-02-25T16:30:16.811Z"
   },
   {
    "duration": 0,
    "start_time": "2023-02-25T16:30:16.812Z"
   },
   {
    "duration": 0,
    "start_time": "2023-02-25T16:30:16.813Z"
   },
   {
    "duration": 0,
    "start_time": "2023-02-25T16:30:16.814Z"
   },
   {
    "duration": 822,
    "start_time": "2023-02-26T15:59:16.202Z"
   },
   {
    "duration": 3,
    "start_time": "2023-02-26T15:59:17.026Z"
   },
   {
    "duration": 286,
    "start_time": "2023-02-26T15:59:17.031Z"
   },
   {
    "duration": 36,
    "start_time": "2023-02-26T15:59:17.319Z"
   },
   {
    "duration": 16,
    "start_time": "2023-02-26T15:59:17.357Z"
   },
   {
    "duration": 3007,
    "start_time": "2023-02-26T15:59:17.374Z"
   },
   {
    "duration": 9,
    "start_time": "2023-02-26T15:59:20.383Z"
   },
   {
    "duration": 27,
    "start_time": "2023-02-26T15:59:20.394Z"
   },
   {
    "duration": 7,
    "start_time": "2023-02-26T15:59:20.422Z"
   },
   {
    "duration": 17,
    "start_time": "2023-02-26T15:59:20.431Z"
   },
   {
    "duration": 14,
    "start_time": "2023-02-26T15:59:20.450Z"
   },
   {
    "duration": 34,
    "start_time": "2023-02-26T15:59:20.466Z"
   },
   {
    "duration": 5,
    "start_time": "2023-02-26T15:59:20.501Z"
   },
   {
    "duration": 122,
    "start_time": "2023-02-26T15:59:20.509Z"
   },
   {
    "duration": 10,
    "start_time": "2023-02-26T15:59:20.633Z"
   },
   {
    "duration": 13,
    "start_time": "2023-02-26T15:59:20.644Z"
   },
   {
    "duration": 8,
    "start_time": "2023-02-26T15:59:20.658Z"
   },
   {
    "duration": 43,
    "start_time": "2023-02-26T15:59:20.668Z"
   },
   {
    "duration": 6,
    "start_time": "2023-02-26T15:59:20.712Z"
   },
   {
    "duration": 23,
    "start_time": "2023-02-26T15:59:20.719Z"
   },
   {
    "duration": 3,
    "start_time": "2023-02-26T15:59:20.743Z"
   },
   {
    "duration": 6,
    "start_time": "2023-02-26T15:59:20.748Z"
   },
   {
    "duration": 210,
    "start_time": "2023-02-26T15:59:20.756Z"
   },
   {
    "duration": 11,
    "start_time": "2023-02-26T15:59:20.968Z"
   },
   {
    "duration": 19,
    "start_time": "2023-02-26T15:59:20.980Z"
   },
   {
    "duration": 8,
    "start_time": "2023-02-26T15:59:21.001Z"
   },
   {
    "duration": 4,
    "start_time": "2023-02-26T15:59:21.011Z"
   },
   {
    "duration": 8,
    "start_time": "2023-02-26T15:59:21.017Z"
   },
   {
    "duration": 8,
    "start_time": "2023-02-26T15:59:21.027Z"
   },
   {
    "duration": 6,
    "start_time": "2023-02-26T15:59:21.037Z"
   },
   {
    "duration": 10,
    "start_time": "2023-02-26T15:59:21.045Z"
   },
   {
    "duration": 19,
    "start_time": "2023-02-26T15:59:21.057Z"
   },
   {
    "duration": 31,
    "start_time": "2023-02-26T15:59:21.077Z"
   },
   {
    "duration": 4,
    "start_time": "2023-02-26T15:59:21.109Z"
   },
   {
    "duration": 28,
    "start_time": "2023-02-26T15:59:21.114Z"
   },
   {
    "duration": 27,
    "start_time": "2023-02-26T15:59:21.144Z"
   },
   {
    "duration": 12,
    "start_time": "2023-02-26T15:59:21.172Z"
   },
   {
    "duration": 17,
    "start_time": "2023-02-26T15:59:21.185Z"
   },
   {
    "duration": 20,
    "start_time": "2023-02-26T15:59:21.203Z"
   },
   {
    "duration": 9,
    "start_time": "2023-02-26T15:59:21.224Z"
   },
   {
    "duration": 164,
    "start_time": "2023-02-26T15:59:21.237Z"
   },
   {
    "duration": 10,
    "start_time": "2023-02-26T15:59:21.402Z"
   },
   {
    "duration": 156,
    "start_time": "2023-02-26T15:59:21.413Z"
   },
   {
    "duration": 9,
    "start_time": "2023-02-26T15:59:21.571Z"
   },
   {
    "duration": 180,
    "start_time": "2023-02-26T15:59:21.582Z"
   },
   {
    "duration": 8,
    "start_time": "2023-02-26T15:59:21.764Z"
   },
   {
    "duration": 192,
    "start_time": "2023-02-26T15:59:21.773Z"
   },
   {
    "duration": 8,
    "start_time": "2023-02-26T15:59:21.967Z"
   },
   {
    "duration": 201,
    "start_time": "2023-02-26T15:59:21.976Z"
   },
   {
    "duration": 9,
    "start_time": "2023-02-26T15:59:22.179Z"
   },
   {
    "duration": 278,
    "start_time": "2023-02-26T15:59:22.200Z"
   },
   {
    "duration": 9,
    "start_time": "2023-02-26T15:59:22.479Z"
   },
   {
    "duration": 171,
    "start_time": "2023-02-26T15:59:22.489Z"
   },
   {
    "duration": 10,
    "start_time": "2023-02-26T15:59:22.699Z"
   },
   {
    "duration": 24,
    "start_time": "2023-02-26T15:59:22.711Z"
   },
   {
    "duration": 290,
    "start_time": "2023-02-26T15:59:22.737Z"
   },
   {
    "duration": 72,
    "start_time": "2023-02-26T15:59:23.028Z"
   },
   {
    "duration": 314,
    "start_time": "2023-02-26T15:59:23.101Z"
   },
   {
    "duration": 9,
    "start_time": "2023-02-26T15:59:23.417Z"
   },
   {
    "duration": 394,
    "start_time": "2023-02-26T15:59:23.428Z"
   },
   {
    "duration": 9,
    "start_time": "2023-02-26T15:59:23.824Z"
   },
   {
    "duration": 378,
    "start_time": "2023-02-26T15:59:23.835Z"
   },
   {
    "duration": 10,
    "start_time": "2023-02-26T15:59:24.215Z"
   },
   {
    "duration": 314,
    "start_time": "2023-02-26T15:59:24.227Z"
   },
   {
    "duration": 13,
    "start_time": "2023-02-26T15:59:24.543Z"
   },
   {
    "duration": 164,
    "start_time": "2023-02-26T15:59:24.558Z"
   },
   {
    "duration": 173,
    "start_time": "2023-02-26T15:59:24.723Z"
   },
   {
    "duration": 19,
    "start_time": "2023-02-26T15:59:24.899Z"
   },
   {
    "duration": 199,
    "start_time": "2023-02-26T15:59:24.919Z"
   },
   {
    "duration": 159,
    "start_time": "2023-02-26T15:59:25.120Z"
   },
   {
    "duration": 200,
    "start_time": "2023-02-26T15:59:25.281Z"
   },
   {
    "duration": 249,
    "start_time": "2023-02-26T15:59:25.483Z"
   },
   {
    "duration": 498,
    "start_time": "2023-02-26T15:59:25.735Z"
   },
   {
    "duration": 68,
    "start_time": "2023-02-26T15:59:26.235Z"
   },
   {
    "duration": 396,
    "start_time": "2023-02-26T15:59:26.305Z"
   },
   {
    "duration": 496,
    "start_time": "2023-02-26T15:59:26.703Z"
   },
   {
    "duration": 17,
    "start_time": "2023-02-26T15:59:27.202Z"
   },
   {
    "duration": 418,
    "start_time": "2023-02-26T15:59:27.221Z"
   },
   {
    "duration": 485,
    "start_time": "2023-02-26T15:59:27.641Z"
   },
   {
    "duration": 12,
    "start_time": "2023-02-26T15:59:28.128Z"
   },
   {
    "duration": 484,
    "start_time": "2023-02-26T15:59:28.141Z"
   },
   {
    "duration": 290,
    "start_time": "2023-02-26T15:59:28.628Z"
   },
   {
    "duration": 24,
    "start_time": "2023-02-26T15:59:28.920Z"
   },
   {
    "duration": 23,
    "start_time": "2023-02-26T15:59:28.998Z"
   },
   {
    "duration": 378,
    "start_time": "2023-02-26T15:59:29.023Z"
   },
   {
    "duration": 25,
    "start_time": "2023-02-26T15:59:29.403Z"
   },
   {
    "duration": 411,
    "start_time": "2023-02-26T15:59:29.430Z"
   },
   {
    "duration": 82,
    "start_time": "2023-02-26T15:59:29.843Z"
   },
   {
    "duration": 677,
    "start_time": "2023-02-26T15:59:29.928Z"
   },
   {
    "duration": 27,
    "start_time": "2023-02-26T15:59:30.608Z"
   },
   {
    "duration": 564,
    "start_time": "2023-02-26T15:59:30.637Z"
   },
   {
    "duration": 9,
    "start_time": "2023-02-26T15:59:31.204Z"
   },
   {
    "duration": 125,
    "start_time": "2023-02-26T15:59:31.215Z"
   },
   {
    "duration": 76,
    "start_time": "2023-02-26T15:59:31.343Z"
   },
   {
    "duration": 105,
    "start_time": "2023-02-26T15:59:31.421Z"
   },
   {
    "duration": 72,
    "start_time": "2023-02-26T15:59:31.528Z"
   },
   {
    "duration": 633,
    "start_time": "2023-02-26T15:59:31.602Z"
   },
   {
    "duration": 784,
    "start_time": "2023-05-03T10:28:58.922Z"
   },
   {
    "duration": 3,
    "start_time": "2023-05-03T10:28:59.708Z"
   },
   {
    "duration": 254,
    "start_time": "2023-05-03T10:28:59.712Z"
   },
   {
    "duration": 26,
    "start_time": "2023-05-03T10:28:59.967Z"
   },
   {
    "duration": 14,
    "start_time": "2023-05-03T10:28:59.995Z"
   },
   {
    "duration": 1932,
    "start_time": "2023-05-03T10:29:00.011Z"
   },
   {
    "duration": 9,
    "start_time": "2023-05-03T10:29:01.945Z"
   },
   {
    "duration": 47,
    "start_time": "2023-05-03T10:29:01.956Z"
   },
   {
    "duration": 29,
    "start_time": "2023-05-03T10:29:02.004Z"
   },
   {
    "duration": 38,
    "start_time": "2023-05-03T10:29:02.035Z"
   },
   {
    "duration": 33,
    "start_time": "2023-05-03T10:29:02.074Z"
   },
   {
    "duration": 49,
    "start_time": "2023-05-03T10:29:02.109Z"
   },
   {
    "duration": 16,
    "start_time": "2023-05-03T10:29:02.160Z"
   },
   {
    "duration": 166,
    "start_time": "2023-05-03T10:29:02.179Z"
   },
   {
    "duration": 11,
    "start_time": "2023-05-03T10:29:02.346Z"
   },
   {
    "duration": 33,
    "start_time": "2023-05-03T10:29:02.358Z"
   },
   {
    "duration": 26,
    "start_time": "2023-05-03T10:29:02.393Z"
   },
   {
    "duration": 39,
    "start_time": "2023-05-03T10:29:02.421Z"
   },
   {
    "duration": 10,
    "start_time": "2023-05-03T10:29:02.462Z"
   },
   {
    "duration": 15,
    "start_time": "2023-05-03T10:29:02.474Z"
   },
   {
    "duration": 27,
    "start_time": "2023-05-03T10:29:02.492Z"
   },
   {
    "duration": 34,
    "start_time": "2023-05-03T10:29:02.520Z"
   },
   {
    "duration": 244,
    "start_time": "2023-05-03T10:29:02.555Z"
   },
   {
    "duration": 9,
    "start_time": "2023-05-03T10:29:02.801Z"
   },
   {
    "duration": 37,
    "start_time": "2023-05-03T10:29:02.812Z"
   },
   {
    "duration": 11,
    "start_time": "2023-05-03T10:29:02.851Z"
   },
   {
    "duration": 19,
    "start_time": "2023-05-03T10:29:02.863Z"
   },
   {
    "duration": 22,
    "start_time": "2023-05-03T10:29:02.883Z"
   },
   {
    "duration": 26,
    "start_time": "2023-05-03T10:29:02.907Z"
   },
   {
    "duration": 23,
    "start_time": "2023-05-03T10:29:02.935Z"
   },
   {
    "duration": 17,
    "start_time": "2023-05-03T10:29:02.960Z"
   },
   {
    "duration": 33,
    "start_time": "2023-05-03T10:29:02.978Z"
   },
   {
    "duration": 23,
    "start_time": "2023-05-03T10:29:03.013Z"
   },
   {
    "duration": 5,
    "start_time": "2023-05-03T10:29:03.038Z"
   },
   {
    "duration": 33,
    "start_time": "2023-05-03T10:29:03.045Z"
   },
   {
    "duration": 81,
    "start_time": "2023-05-03T10:29:03.080Z"
   },
   {
    "duration": 10,
    "start_time": "2023-05-03T10:29:03.163Z"
   },
   {
    "duration": 62,
    "start_time": "2023-05-03T10:29:03.175Z"
   },
   {
    "duration": 13,
    "start_time": "2023-05-03T10:29:03.239Z"
   },
   {
    "duration": 10,
    "start_time": "2023-05-03T10:29:03.254Z"
   },
   {
    "duration": 306,
    "start_time": "2023-05-03T10:29:03.269Z"
   },
   {
    "duration": 62,
    "start_time": "2023-05-03T10:29:03.577Z"
   },
   {
    "duration": 293,
    "start_time": "2023-05-03T10:29:03.641Z"
   },
   {
    "duration": 9,
    "start_time": "2023-05-03T10:29:03.936Z"
   },
   {
    "duration": 323,
    "start_time": "2023-05-03T10:29:03.947Z"
   },
   {
    "duration": 11,
    "start_time": "2023-05-03T10:29:04.271Z"
   },
   {
    "duration": 329,
    "start_time": "2023-05-03T10:29:04.335Z"
   },
   {
    "duration": 8,
    "start_time": "2023-05-03T10:29:04.665Z"
   },
   {
    "duration": 307,
    "start_time": "2023-05-03T10:29:04.675Z"
   },
   {
    "duration": 57,
    "start_time": "2023-05-03T10:29:04.983Z"
   },
   {
    "duration": 623,
    "start_time": "2023-05-03T10:29:05.042Z"
   },
   {
    "duration": 8,
    "start_time": "2023-05-03T10:29:05.667Z"
   },
   {
    "duration": 361,
    "start_time": "2023-05-03T10:29:05.677Z"
   },
   {
    "duration": 13,
    "start_time": "2023-05-03T10:29:06.039Z"
   },
   {
    "duration": 93,
    "start_time": "2023-05-03T10:29:06.054Z"
   },
   {
    "duration": 291,
    "start_time": "2023-05-03T10:29:06.149Z"
   },
   {
    "duration": 17,
    "start_time": "2023-05-03T10:29:06.441Z"
   },
   {
    "duration": 306,
    "start_time": "2023-05-03T10:29:06.459Z"
   },
   {
    "duration": 8,
    "start_time": "2023-05-03T10:29:06.767Z"
   },
   {
    "duration": 227,
    "start_time": "2023-05-03T10:29:06.777Z"
   },
   {
    "duration": 9,
    "start_time": "2023-05-03T10:29:07.006Z"
   },
   {
    "duration": 172,
    "start_time": "2023-05-03T10:29:07.016Z"
   },
   {
    "duration": 9,
    "start_time": "2023-05-03T10:29:07.189Z"
   },
   {
    "duration": 164,
    "start_time": "2023-05-03T10:29:07.200Z"
   },
   {
    "duration": 12,
    "start_time": "2023-05-03T10:29:07.366Z"
   },
   {
    "duration": 155,
    "start_time": "2023-05-03T10:29:07.379Z"
   },
   {
    "duration": 154,
    "start_time": "2023-05-03T10:29:07.536Z"
   },
   {
    "duration": 16,
    "start_time": "2023-05-03T10:29:07.692Z"
   },
   {
    "duration": 137,
    "start_time": "2023-05-03T10:29:07.709Z"
   },
   {
    "duration": 122,
    "start_time": "2023-05-03T10:29:07.848Z"
   },
   {
    "duration": 148,
    "start_time": "2023-05-03T10:29:07.972Z"
   },
   {
    "duration": 23,
    "start_time": "2023-05-03T10:29:08.122Z"
   },
   {
    "duration": 335,
    "start_time": "2023-05-03T10:29:08.147Z"
   },
   {
    "duration": 263,
    "start_time": "2023-05-03T10:29:08.484Z"
   },
   {
    "duration": 6,
    "start_time": "2023-05-03T10:29:08.748Z"
   },
   {
    "duration": 191,
    "start_time": "2023-05-03T10:29:08.755Z"
   },
   {
    "duration": 198,
    "start_time": "2023-05-03T10:29:08.947Z"
   },
   {
    "duration": 7,
    "start_time": "2023-05-03T10:29:09.146Z"
   },
   {
    "duration": 182,
    "start_time": "2023-05-03T10:29:09.154Z"
   },
   {
    "duration": 183,
    "start_time": "2023-05-03T10:29:09.337Z"
   },
   {
    "duration": 12,
    "start_time": "2023-05-03T10:29:09.522Z"
   },
   {
    "duration": 166,
    "start_time": "2023-05-03T10:29:09.536Z"
   },
   {
    "duration": 162,
    "start_time": "2023-05-03T10:29:09.703Z"
   },
   {
    "duration": 18,
    "start_time": "2023-05-03T10:29:09.867Z"
   },
   {
    "duration": 20,
    "start_time": "2023-05-03T10:29:09.886Z"
   },
   {
    "duration": 176,
    "start_time": "2023-05-03T10:29:09.907Z"
   },
   {
    "duration": 19,
    "start_time": "2023-05-03T10:29:10.084Z"
   },
   {
    "duration": 181,
    "start_time": "2023-05-03T10:29:10.105Z"
   },
   {
    "duration": 18,
    "start_time": "2023-05-03T10:29:10.288Z"
   },
   {
    "duration": 208,
    "start_time": "2023-05-03T10:29:10.308Z"
   },
   {
    "duration": 27,
    "start_time": "2023-05-03T10:29:10.518Z"
   },
   {
    "duration": 163,
    "start_time": "2023-05-03T10:29:10.547Z"
   },
   {
    "duration": 7,
    "start_time": "2023-05-03T10:29:10.711Z"
   },
   {
    "duration": 51,
    "start_time": "2023-05-03T10:29:10.720Z"
   },
   {
    "duration": 19,
    "start_time": "2023-05-03T10:29:10.772Z"
   },
   {
    "duration": 50,
    "start_time": "2023-05-03T10:29:10.792Z"
   },
   {
    "duration": 18,
    "start_time": "2023-05-03T10:29:10.844Z"
   },
   {
    "duration": 273,
    "start_time": "2023-05-03T10:29:10.864Z"
   }
  ],
  "kernelspec": {
   "display_name": "Python 3 (ipykernel)",
   "language": "python",
   "name": "python3"
  },
  "language_info": {
   "codemirror_mode": {
    "name": "ipython",
    "version": 3
   },
   "file_extension": ".py",
   "mimetype": "text/x-python",
   "name": "python",
   "nbconvert_exporter": "python",
   "pygments_lexer": "ipython3",
   "version": "3.9.5"
  },
  "toc": {
   "base_numbering": 1,
   "nav_menu": {},
   "number_sections": true,
   "sideBar": true,
   "skip_h1_title": true,
   "title_cell": "Table of Contents",
   "title_sidebar": "Contents",
   "toc_cell": false,
   "toc_position": {
    "height": "calc(100% - 180px)",
    "left": "10px",
    "top": "150px",
    "width": "307.2px"
   },
   "toc_section_display": true,
   "toc_window_display": true
  }
 },
 "nbformat": 4,
 "nbformat_minor": 2
}
