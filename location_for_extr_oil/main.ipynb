{
 "cells": [
  {
   "cell_type": "markdown",
   "metadata": {},
   "source": [
    "# Выбор локации для скважины"
   ]
  },
  {
   "cell_type": "markdown",
   "metadata": {},
   "source": [
    "Имеются пробы нефти из нескольких регионов, в каждом из которых по 10000 месторождений, где были измерены качество и объем нефти. Цель работы заключается в определнии лучшего региона для добычи нефти."
   ]
  },
  {
   "cell_type": "markdown",
   "metadata": {},
   "source": [
    "## 1. Загрузка библиотек"
   ]
  },
  {
   "cell_type": "code",
   "execution_count": 1,
   "metadata": {},
   "outputs": [],
   "source": [
    "# Выгрузка стандартных билиотек\n",
    "import warnings\n",
    "from numpy.random import RandomState\n",
    "\n",
    "# Выгрузка сторонних библиотек\n",
    "import pandas as pd\n",
    "#pd.get_option('mode.use_inf_as_null', True)\n",
    "from scipy import stats as st\n",
    "import matplotlib.pyplot as plt\n",
    "import seaborn as sns\n",
    "\n",
    "#Выгрузка модулей библиотек для машинного обучения\n",
    "from sklearn.model_selection import (\n",
    "    train_test_split,\n",
    "    GridSearchCV,\n",
    ")\n",
    "from sklearn.linear_model import LinearRegression\n",
    "from sklearn.preprocessing import StandardScaler\n",
    "from sklearn.metrics import mean_squared_error\n",
    "from scipy import stats as st\n",
    "\n",
    "# Объявление константы для \"фиксации случайности\"\n",
    "rnd_st = 12345\n",
    "state = RandomState(rnd_st)\n",
    "# Настройка игнорирования ошибок\n",
    "warnings.filterwarnings(\"ignore\")"
   ]
  },
  {
   "cell_type": "markdown",
   "metadata": {},
   "source": [
    "## 2. Загрузка и подготовка данных"
   ]
  },
  {
   "cell_type": "markdown",
   "metadata": {},
   "source": [
    "### 2.1 Выгрузка данных"
   ]
  },
  {
   "cell_type": "markdown",
   "metadata": {},
   "source": [
    "Выгрузим данные:"
   ]
  },
  {
   "cell_type": "code",
   "execution_count": 2,
   "metadata": {},
   "outputs": [],
   "source": [
    "df_0 = pd.read_csv('geo_data_0.csv')"
   ]
  },
  {
   "cell_type": "code",
   "execution_count": 3,
   "metadata": {},
   "outputs": [],
   "source": [
    "df_1 = pd.read_csv('geo_data_1.csv')"
   ]
  },
  {
   "cell_type": "code",
   "execution_count": 4,
   "metadata": {},
   "outputs": [],
   "source": [
    "df_2 = pd.read_csv('geo_data_2.csv')"
   ]
  },
  {
   "cell_type": "markdown",
   "metadata": {},
   "source": [
    "### 2.2 Первичный анализ данных"
   ]
  },
  {
   "cell_type": "markdown",
   "metadata": {},
   "source": [
    "Просмотрим по 5 случайных строк из датасетов и общую информацию о столбцах"
   ]
  },
  {
   "cell_type": "code",
   "execution_count": 5,
   "metadata": {},
   "outputs": [
    {
     "data": {
      "text/plain": "          id        f0        f1        f2     product\n613    jipja  0.559992  0.594407  1.200322  103.068704\n21669  fXqET  0.074760 -0.224921 -2.451357   82.519928\n65370  ZGL93  0.893696  0.355648  3.282136   87.070657\n77132  pEV40  1.010596  0.597912  3.658652   29.366977\n6975   KTR6J  1.028349  0.412949 -1.435906   11.585772",
      "text/html": "<div>\n<style scoped>\n    .dataframe tbody tr th:only-of-type {\n        vertical-align: middle;\n    }\n\n    .dataframe tbody tr th {\n        vertical-align: top;\n    }\n\n    .dataframe thead th {\n        text-align: right;\n    }\n</style>\n<table border=\"1\" class=\"dataframe\">\n  <thead>\n    <tr style=\"text-align: right;\">\n      <th></th>\n      <th>id</th>\n      <th>f0</th>\n      <th>f1</th>\n      <th>f2</th>\n      <th>product</th>\n    </tr>\n  </thead>\n  <tbody>\n    <tr>\n      <th>613</th>\n      <td>jipja</td>\n      <td>0.559992</td>\n      <td>0.594407</td>\n      <td>1.200322</td>\n      <td>103.068704</td>\n    </tr>\n    <tr>\n      <th>21669</th>\n      <td>fXqET</td>\n      <td>0.074760</td>\n      <td>-0.224921</td>\n      <td>-2.451357</td>\n      <td>82.519928</td>\n    </tr>\n    <tr>\n      <th>65370</th>\n      <td>ZGL93</td>\n      <td>0.893696</td>\n      <td>0.355648</td>\n      <td>3.282136</td>\n      <td>87.070657</td>\n    </tr>\n    <tr>\n      <th>77132</th>\n      <td>pEV40</td>\n      <td>1.010596</td>\n      <td>0.597912</td>\n      <td>3.658652</td>\n      <td>29.366977</td>\n    </tr>\n    <tr>\n      <th>6975</th>\n      <td>KTR6J</td>\n      <td>1.028349</td>\n      <td>0.412949</td>\n      <td>-1.435906</td>\n      <td>11.585772</td>\n    </tr>\n  </tbody>\n</table>\n</div>"
     },
     "execution_count": 5,
     "metadata": {},
     "output_type": "execute_result"
    }
   ],
   "source": [
    "df_0.sample(5)"
   ]
  },
  {
   "cell_type": "code",
   "execution_count": 6,
   "metadata": {},
   "outputs": [
    {
     "data": {
      "text/plain": "            count unique    top freq      mean        std        min   \nid         100000  99990  fiKDv    2       NaN        NaN        NaN  \\\nf0       100000.0    NaN    NaN  NaN  0.500419   0.871832  -1.408605   \nf1       100000.0    NaN    NaN  NaN  0.250143   0.504433  -0.848218   \nf2       100000.0    NaN    NaN  NaN  2.502647   3.248248 -12.088328   \nproduct  100000.0    NaN    NaN  NaN      92.5  44.288691        0.0   \n\n               25%        50%         75%         max  \nid             NaN        NaN         NaN         NaN  \nf0        -0.07258    0.50236    1.073581    2.362331  \nf1       -0.200881   0.250252    0.700646    1.343769  \nf2        0.287748   2.515969    4.715088    16.00379  \nproduct  56.497507  91.849972  128.564089  185.364347  ",
      "text/html": "<div>\n<style scoped>\n    .dataframe tbody tr th:only-of-type {\n        vertical-align: middle;\n    }\n\n    .dataframe tbody tr th {\n        vertical-align: top;\n    }\n\n    .dataframe thead th {\n        text-align: right;\n    }\n</style>\n<table border=\"1\" class=\"dataframe\">\n  <thead>\n    <tr style=\"text-align: right;\">\n      <th></th>\n      <th>count</th>\n      <th>unique</th>\n      <th>top</th>\n      <th>freq</th>\n      <th>mean</th>\n      <th>std</th>\n      <th>min</th>\n      <th>25%</th>\n      <th>50%</th>\n      <th>75%</th>\n      <th>max</th>\n    </tr>\n  </thead>\n  <tbody>\n    <tr>\n      <th>id</th>\n      <td>100000</td>\n      <td>99990</td>\n      <td>fiKDv</td>\n      <td>2</td>\n      <td>NaN</td>\n      <td>NaN</td>\n      <td>NaN</td>\n      <td>NaN</td>\n      <td>NaN</td>\n      <td>NaN</td>\n      <td>NaN</td>\n    </tr>\n    <tr>\n      <th>f0</th>\n      <td>100000.0</td>\n      <td>NaN</td>\n      <td>NaN</td>\n      <td>NaN</td>\n      <td>0.500419</td>\n      <td>0.871832</td>\n      <td>-1.408605</td>\n      <td>-0.07258</td>\n      <td>0.50236</td>\n      <td>1.073581</td>\n      <td>2.362331</td>\n    </tr>\n    <tr>\n      <th>f1</th>\n      <td>100000.0</td>\n      <td>NaN</td>\n      <td>NaN</td>\n      <td>NaN</td>\n      <td>0.250143</td>\n      <td>0.504433</td>\n      <td>-0.848218</td>\n      <td>-0.200881</td>\n      <td>0.250252</td>\n      <td>0.700646</td>\n      <td>1.343769</td>\n    </tr>\n    <tr>\n      <th>f2</th>\n      <td>100000.0</td>\n      <td>NaN</td>\n      <td>NaN</td>\n      <td>NaN</td>\n      <td>2.502647</td>\n      <td>3.248248</td>\n      <td>-12.088328</td>\n      <td>0.287748</td>\n      <td>2.515969</td>\n      <td>4.715088</td>\n      <td>16.00379</td>\n    </tr>\n    <tr>\n      <th>product</th>\n      <td>100000.0</td>\n      <td>NaN</td>\n      <td>NaN</td>\n      <td>NaN</td>\n      <td>92.5</td>\n      <td>44.288691</td>\n      <td>0.0</td>\n      <td>56.497507</td>\n      <td>91.849972</td>\n      <td>128.564089</td>\n      <td>185.364347</td>\n    </tr>\n  </tbody>\n</table>\n</div>"
     },
     "execution_count": 6,
     "metadata": {},
     "output_type": "execute_result"
    }
   ],
   "source": [
    "df_0.describe(include='all').T"
   ]
  },
  {
   "cell_type": "markdown",
   "metadata": {},
   "source": [
    "Видно, что в столбце 'id' 10 дублированных значений из 100000 строк."
   ]
  },
  {
   "cell_type": "code",
   "execution_count": 7,
   "metadata": {},
   "outputs": [
    {
     "data": {
      "text/plain": "          id         f0         f1        f2     product\n15070  wVuEK -14.868488  -7.781912 -0.002156    3.179103\n97772  llthG   1.565177  -3.115006  0.005294    3.179103\n96257  0FOfs  -4.086984   1.034609  4.997008  137.945408\n4373   40wN4  -9.558297 -11.409497  0.998172   30.132364\n95579  0YDId -11.359189  -1.381277  2.991305   84.038886",
      "text/html": "<div>\n<style scoped>\n    .dataframe tbody tr th:only-of-type {\n        vertical-align: middle;\n    }\n\n    .dataframe tbody tr th {\n        vertical-align: top;\n    }\n\n    .dataframe thead th {\n        text-align: right;\n    }\n</style>\n<table border=\"1\" class=\"dataframe\">\n  <thead>\n    <tr style=\"text-align: right;\">\n      <th></th>\n      <th>id</th>\n      <th>f0</th>\n      <th>f1</th>\n      <th>f2</th>\n      <th>product</th>\n    </tr>\n  </thead>\n  <tbody>\n    <tr>\n      <th>15070</th>\n      <td>wVuEK</td>\n      <td>-14.868488</td>\n      <td>-7.781912</td>\n      <td>-0.002156</td>\n      <td>3.179103</td>\n    </tr>\n    <tr>\n      <th>97772</th>\n      <td>llthG</td>\n      <td>1.565177</td>\n      <td>-3.115006</td>\n      <td>0.005294</td>\n      <td>3.179103</td>\n    </tr>\n    <tr>\n      <th>96257</th>\n      <td>0FOfs</td>\n      <td>-4.086984</td>\n      <td>1.034609</td>\n      <td>4.997008</td>\n      <td>137.945408</td>\n    </tr>\n    <tr>\n      <th>4373</th>\n      <td>40wN4</td>\n      <td>-9.558297</td>\n      <td>-11.409497</td>\n      <td>0.998172</td>\n      <td>30.132364</td>\n    </tr>\n    <tr>\n      <th>95579</th>\n      <td>0YDId</td>\n      <td>-11.359189</td>\n      <td>-1.381277</td>\n      <td>2.991305</td>\n      <td>84.038886</td>\n    </tr>\n  </tbody>\n</table>\n</div>"
     },
     "execution_count": 7,
     "metadata": {},
     "output_type": "execute_result"
    }
   ],
   "source": [
    "df_1.sample(5)"
   ]
  },
  {
   "cell_type": "code",
   "execution_count": 8,
   "metadata": {},
   "outputs": [
    {
     "data": {
      "text/plain": "            count unique    top freq      mean        std        min   \nid         100000  99996  wt4Uk    2       NaN        NaN        NaN  \\\nf0       100000.0    NaN    NaN  NaN  1.141296   8.965932 -31.609576   \nf1       100000.0    NaN    NaN  NaN -4.796579   5.119872 -26.358598   \nf2       100000.0    NaN    NaN  NaN  2.494541   1.703572  -0.018144   \nproduct  100000.0    NaN    NaN  NaN    68.825  45.944423        0.0   \n\n               25%        50%         75%         max  \nid             NaN        NaN         NaN         NaN  \nf0       -6.298551   1.153055    8.621015   29.421755  \nf1       -8.267985  -4.813172   -1.332816   18.734063  \nf2        1.000021   2.011479    3.999904    5.019721  \nproduct  26.953261  57.085625  107.813044  137.945408  ",
      "text/html": "<div>\n<style scoped>\n    .dataframe tbody tr th:only-of-type {\n        vertical-align: middle;\n    }\n\n    .dataframe tbody tr th {\n        vertical-align: top;\n    }\n\n    .dataframe thead th {\n        text-align: right;\n    }\n</style>\n<table border=\"1\" class=\"dataframe\">\n  <thead>\n    <tr style=\"text-align: right;\">\n      <th></th>\n      <th>count</th>\n      <th>unique</th>\n      <th>top</th>\n      <th>freq</th>\n      <th>mean</th>\n      <th>std</th>\n      <th>min</th>\n      <th>25%</th>\n      <th>50%</th>\n      <th>75%</th>\n      <th>max</th>\n    </tr>\n  </thead>\n  <tbody>\n    <tr>\n      <th>id</th>\n      <td>100000</td>\n      <td>99996</td>\n      <td>wt4Uk</td>\n      <td>2</td>\n      <td>NaN</td>\n      <td>NaN</td>\n      <td>NaN</td>\n      <td>NaN</td>\n      <td>NaN</td>\n      <td>NaN</td>\n      <td>NaN</td>\n    </tr>\n    <tr>\n      <th>f0</th>\n      <td>100000.0</td>\n      <td>NaN</td>\n      <td>NaN</td>\n      <td>NaN</td>\n      <td>1.141296</td>\n      <td>8.965932</td>\n      <td>-31.609576</td>\n      <td>-6.298551</td>\n      <td>1.153055</td>\n      <td>8.621015</td>\n      <td>29.421755</td>\n    </tr>\n    <tr>\n      <th>f1</th>\n      <td>100000.0</td>\n      <td>NaN</td>\n      <td>NaN</td>\n      <td>NaN</td>\n      <td>-4.796579</td>\n      <td>5.119872</td>\n      <td>-26.358598</td>\n      <td>-8.267985</td>\n      <td>-4.813172</td>\n      <td>-1.332816</td>\n      <td>18.734063</td>\n    </tr>\n    <tr>\n      <th>f2</th>\n      <td>100000.0</td>\n      <td>NaN</td>\n      <td>NaN</td>\n      <td>NaN</td>\n      <td>2.494541</td>\n      <td>1.703572</td>\n      <td>-0.018144</td>\n      <td>1.000021</td>\n      <td>2.011479</td>\n      <td>3.999904</td>\n      <td>5.019721</td>\n    </tr>\n    <tr>\n      <th>product</th>\n      <td>100000.0</td>\n      <td>NaN</td>\n      <td>NaN</td>\n      <td>NaN</td>\n      <td>68.825</td>\n      <td>45.944423</td>\n      <td>0.0</td>\n      <td>26.953261</td>\n      <td>57.085625</td>\n      <td>107.813044</td>\n      <td>137.945408</td>\n    </tr>\n  </tbody>\n</table>\n</div>"
     },
     "execution_count": 8,
     "metadata": {},
     "output_type": "execute_result"
    }
   ],
   "source": [
    "df_1.describe(include='all').T"
   ]
  },
  {
   "cell_type": "markdown",
   "metadata": {},
   "source": [
    "В столбце 'id' 4 дублированных значения."
   ]
  },
  {
   "cell_type": "code",
   "execution_count": 9,
   "metadata": {},
   "outputs": [
    {
     "data": {
      "text/plain": "          id        f0        f1        f2     product\n51204  TVtzW -0.689309 -3.487049  4.730334  189.459615\n61752  8yZHa  0.120919 -1.937483  1.788844   66.800292\n24246  GsJUd  0.621225 -1.109994 -0.118059   63.017184\n23965  DKKb1 -1.709942 -2.502277  0.327630   63.739212\n67309  LqisS  2.616963 -0.819205  5.289395  138.835583",
      "text/html": "<div>\n<style scoped>\n    .dataframe tbody tr th:only-of-type {\n        vertical-align: middle;\n    }\n\n    .dataframe tbody tr th {\n        vertical-align: top;\n    }\n\n    .dataframe thead th {\n        text-align: right;\n    }\n</style>\n<table border=\"1\" class=\"dataframe\">\n  <thead>\n    <tr style=\"text-align: right;\">\n      <th></th>\n      <th>id</th>\n      <th>f0</th>\n      <th>f1</th>\n      <th>f2</th>\n      <th>product</th>\n    </tr>\n  </thead>\n  <tbody>\n    <tr>\n      <th>51204</th>\n      <td>TVtzW</td>\n      <td>-0.689309</td>\n      <td>-3.487049</td>\n      <td>4.730334</td>\n      <td>189.459615</td>\n    </tr>\n    <tr>\n      <th>61752</th>\n      <td>8yZHa</td>\n      <td>0.120919</td>\n      <td>-1.937483</td>\n      <td>1.788844</td>\n      <td>66.800292</td>\n    </tr>\n    <tr>\n      <th>24246</th>\n      <td>GsJUd</td>\n      <td>0.621225</td>\n      <td>-1.109994</td>\n      <td>-0.118059</td>\n      <td>63.017184</td>\n    </tr>\n    <tr>\n      <th>23965</th>\n      <td>DKKb1</td>\n      <td>-1.709942</td>\n      <td>-2.502277</td>\n      <td>0.327630</td>\n      <td>63.739212</td>\n    </tr>\n    <tr>\n      <th>67309</th>\n      <td>LqisS</td>\n      <td>2.616963</td>\n      <td>-0.819205</td>\n      <td>5.289395</td>\n      <td>138.835583</td>\n    </tr>\n  </tbody>\n</table>\n</div>"
     },
     "execution_count": 9,
     "metadata": {},
     "output_type": "execute_result"
    }
   ],
   "source": [
    "df_2.sample(5)"
   ]
  },
  {
   "cell_type": "code",
   "execution_count": 10,
   "metadata": {},
   "outputs": [
    {
     "data": {
      "text/plain": "            count unique    top freq      mean        std        min   \nid         100000  99996  VF7Jo    2       NaN        NaN        NaN  \\\nf0       100000.0    NaN    NaN  NaN  0.002023   1.732045  -8.760004   \nf1       100000.0    NaN    NaN  NaN -0.002081   1.730417   -7.08402   \nf2       100000.0    NaN    NaN  NaN  2.495128   3.473445 -11.970335   \nproduct  100000.0    NaN    NaN  NaN      95.0  44.749921        0.0   \n\n               25%        50%         75%         max  \nid             NaN        NaN         NaN         NaN  \nf0       -1.162288   0.009424    1.158535    7.238262  \nf1        -1.17482  -0.009482    1.163678    7.844801  \nf2        0.130359   2.484236    4.858794   16.739402  \nproduct  59.450441  94.925613  130.595027  190.029838  ",
      "text/html": "<div>\n<style scoped>\n    .dataframe tbody tr th:only-of-type {\n        vertical-align: middle;\n    }\n\n    .dataframe tbody tr th {\n        vertical-align: top;\n    }\n\n    .dataframe thead th {\n        text-align: right;\n    }\n</style>\n<table border=\"1\" class=\"dataframe\">\n  <thead>\n    <tr style=\"text-align: right;\">\n      <th></th>\n      <th>count</th>\n      <th>unique</th>\n      <th>top</th>\n      <th>freq</th>\n      <th>mean</th>\n      <th>std</th>\n      <th>min</th>\n      <th>25%</th>\n      <th>50%</th>\n      <th>75%</th>\n      <th>max</th>\n    </tr>\n  </thead>\n  <tbody>\n    <tr>\n      <th>id</th>\n      <td>100000</td>\n      <td>99996</td>\n      <td>VF7Jo</td>\n      <td>2</td>\n      <td>NaN</td>\n      <td>NaN</td>\n      <td>NaN</td>\n      <td>NaN</td>\n      <td>NaN</td>\n      <td>NaN</td>\n      <td>NaN</td>\n    </tr>\n    <tr>\n      <th>f0</th>\n      <td>100000.0</td>\n      <td>NaN</td>\n      <td>NaN</td>\n      <td>NaN</td>\n      <td>0.002023</td>\n      <td>1.732045</td>\n      <td>-8.760004</td>\n      <td>-1.162288</td>\n      <td>0.009424</td>\n      <td>1.158535</td>\n      <td>7.238262</td>\n    </tr>\n    <tr>\n      <th>f1</th>\n      <td>100000.0</td>\n      <td>NaN</td>\n      <td>NaN</td>\n      <td>NaN</td>\n      <td>-0.002081</td>\n      <td>1.730417</td>\n      <td>-7.08402</td>\n      <td>-1.17482</td>\n      <td>-0.009482</td>\n      <td>1.163678</td>\n      <td>7.844801</td>\n    </tr>\n    <tr>\n      <th>f2</th>\n      <td>100000.0</td>\n      <td>NaN</td>\n      <td>NaN</td>\n      <td>NaN</td>\n      <td>2.495128</td>\n      <td>3.473445</td>\n      <td>-11.970335</td>\n      <td>0.130359</td>\n      <td>2.484236</td>\n      <td>4.858794</td>\n      <td>16.739402</td>\n    </tr>\n    <tr>\n      <th>product</th>\n      <td>100000.0</td>\n      <td>NaN</td>\n      <td>NaN</td>\n      <td>NaN</td>\n      <td>95.0</td>\n      <td>44.749921</td>\n      <td>0.0</td>\n      <td>59.450441</td>\n      <td>94.925613</td>\n      <td>130.595027</td>\n      <td>190.029838</td>\n    </tr>\n  </tbody>\n</table>\n</div>"
     },
     "execution_count": 10,
     "metadata": {},
     "output_type": "execute_result"
    }
   ],
   "source": [
    "df_2.describe(include='all').T"
   ]
  },
  {
   "cell_type": "markdown",
   "metadata": {},
   "source": [
    "Здесь ситуация аналогичная, что и в предыдущем датасете."
   ]
  },
  {
   "cell_type": "markdown",
   "metadata": {},
   "source": [
    "### 2.3 Предобработка данных"
   ]
  },
  {
   "cell_type": "markdown",
   "metadata": {},
   "source": [
    "Удалим из датасетов столбец id: в будущем он не пригодится."
   ]
  },
  {
   "cell_type": "code",
   "execution_count": 11,
   "metadata": {},
   "outputs": [],
   "source": [
    "del_col = 'id'\n",
    "df_0 = df_0.drop(del_col, axis=1)\n",
    "df_1 = df_1.drop(del_col, axis=1)\n",
    "df_2 = df_2.drop(del_col, axis=1)"
   ]
  },
  {
   "cell_type": "markdown",
   "metadata": {},
   "source": [
    "Вывод: Была проведена предобработка, данные подготовлены к дальнейшему обучению."
   ]
  },
  {
   "cell_type": "markdown",
   "metadata": {},
   "source": [
    "## 3. Обучение и проверка модели"
   ]
  },
  {
   "cell_type": "markdown",
   "metadata": {},
   "source": [
    "Напишем функцию, которая выделит из датафрейма признаки и целевые признаки, разделит их на тренировочные и валидационные выборки, масштабирует, проведет кросс-валидацию, проведет обучение линейной регрессии и выведет необходимые нам данные и значения:"
   ]
  },
  {
   "cell_type": "code",
   "execution_count": 12,
   "metadata": {},
   "outputs": [],
   "source": [
    "def predict_regression(df):\n",
    "    features = df.drop('product', axis=1)\n",
    "    target = df['product']\n",
    "    features_train, features_valid, target_train, target_valid = train_test_split(features,\n",
    "                                                                                  target,\n",
    "                                                                                  test_size=.25, random_state=rnd_st)\n",
    "    scaler = StandardScaler()\n",
    "    scaler.fit(features_train)\n",
    "    features_train = scaler.transform(features_train)\n",
    "    features_valid = scaler.transform(features_valid)\n",
    "\n",
    "    model = LinearRegression()\n",
    "    parameters = {'fit_intercept':[True,False],\n",
    "                  'normalize':[True,False],\n",
    "                  'copy_X':[True,False],\n",
    "                  'n_jobs':[-1, 1, 2]}\n",
    "\n",
    "    model = GridSearchCV(estimator=model,\n",
    "                         param_grid=parameters,\n",
    "                         scoring='neg_root_mean_squared_error',\n",
    "                         cv=5)\n",
    "    model.fit(features_train, target_train)\n",
    "    predicted_valid = model.predict(features_valid)\n",
    "    best_metric = mean_squared_error(target_valid, predicted_valid, squared=False)\n",
    "    print(f'Истинный средний объем запасов скважины: {(target_valid.mean()) * 1000:14.3f} баррелей в год\\n'\n",
    "          f'Предсказанный средний объем запасов скважины: {(predicted_valid.mean()) * 1000:.3f} баррелей в год\\n'\n",
    "          f'Разница между ними составляет: {((predicted_valid.mean()) * 1000) - ((target_valid.mean()) * 1000):22.3f} баррелей в год\\n'\n",
    "          f'RMSE модели: {best_metric:39.3f}')\n",
    "\n",
    "    return target_valid, predicted_valid, best_metric"
   ]
  },
  {
   "cell_type": "code",
   "execution_count": 13,
   "metadata": {},
   "outputs": [
    {
     "name": "stdout",
     "output_type": "stream",
     "text": [
      "Истинный средний объем запасов скважины:      92078.597 баррелей в год\n",
      "Предсказанный средний объем запасов скважины: 92592.568 баррелей в год\n",
      "Разница между ними составляет:                513.971 баррелей в год\n",
      "RMSE модели:                                  37.579\n"
     ]
    }
   ],
   "source": [
    "target_valid_0, predicted_valid_0, rmse_0 = predict_regression(df_0)"
   ]
  },
  {
   "cell_type": "code",
   "execution_count": 14,
   "metadata": {},
   "outputs": [
    {
     "name": "stdout",
     "output_type": "stream",
     "text": [
      "Истинный средний объем запасов скважины:      68723.136 баррелей в год\n",
      "Предсказанный средний объем запасов скважины: 68728.547 баррелей в год\n",
      "Разница между ними составляет:                  5.411 баррелей в год\n",
      "RMSE модели:                                   0.893\n"
     ]
    }
   ],
   "source": [
    "target_valid_1, predicted_valid_1, rmse_1 = predict_regression(df_1)"
   ]
  },
  {
   "cell_type": "code",
   "execution_count": 15,
   "metadata": {},
   "outputs": [
    {
     "name": "stdout",
     "output_type": "stream",
     "text": [
      "Истинный средний объем запасов скважины:      94884.233 баррелей в год\n",
      "Предсказанный средний объем запасов скважины: 94965.046 баррелей в год\n",
      "Разница между ними составляет:                 80.813 баррелей в год\n",
      "RMSE модели:                                  40.030\n"
     ]
    }
   ],
   "source": [
    "target_valid_2, predicted_valid_2, rmse_2 = predict_regression(df_2)"
   ]
  },
  {
   "cell_type": "markdown",
   "metadata": {},
   "source": [
    "Вывод: Самая низкая разница между истинным и предсказанным средним объемом запасов скважины и метрика RMSE у второго датафрейма, который отвечает за второй регион.\n",
    "Самым Большим по среднему объему оказался третий регион, однако у него самое высокое значение RMSE"
   ]
  },
  {
   "cell_type": "markdown",
   "metadata": {},
   "source": [
    "## 4. Подготовка к расчёту прибыли"
   ]
  },
  {
   "cell_type": "markdown",
   "metadata": {},
   "source": [
    "### 4.1 Объявление констант"
   ]
  },
  {
   "cell_type": "markdown",
   "metadata": {},
   "source": [
    "Опираясь на данные из условия задачи объявим константные переменные"
   ]
  },
  {
   "cell_type": "code",
   "execution_count": 16,
   "metadata": {},
   "outputs": [],
   "source": [
    "DEVELOP_DOTS = 500 # При разведке региона исследуют 500 точек\n",
    "ML_FEVELOP_DOTS = 200 # из которых с помощью машинного обучения выбирают 200 лучших для разработки.\n",
    "BUDGET = 10 * 10**9 # Бюджет на разработку скважин в регионе\n",
    "INCOME_BARREL = 450 # доход с барреля при нынешних ценах\n",
    "INCOME = INCOME_BARREL * 1000 # Доход с каждой единицы продукта\n",
    "PROBABILITY = 0.025 # Вероятность убытков"
   ]
  },
  {
   "cell_type": "markdown",
   "metadata": {},
   "source": [
    "### 4.2 Минимальный объем производства для безубыточности"
   ]
  },
  {
   "cell_type": "markdown",
   "metadata": {},
   "source": [
    "Посчитаем, сколько потребуется производить каждой точке сырья для безубыточной разработки"
   ]
  },
  {
   "cell_type": "code",
   "execution_count": 26,
   "metadata": {},
   "outputs": [
    {
     "name": "stdout",
     "output_type": "stream",
     "text": [
      "Для безубыточной разработки региона потребуется производить 111.11 тысяч баррелей с каждой точки\n"
     ]
    }
   ],
   "source": [
    "print(f'Для безубыточной разработки региона потребуется производить {BUDGET/(ML_FEVELOP_DOTS*INCOME):.2f} тысяч баррелей с каждой точки')"
   ]
  },
  {
   "cell_type": "markdown",
   "metadata": {},
   "source": [
    "Значение минимального объема производства выше средних объемов трех рассмотренных регионов."
   ]
  },
  {
   "cell_type": "markdown",
   "metadata": {},
   "source": [
    "### 4.3 Максимальная прибыль с каждого региона"
   ]
  },
  {
   "cell_type": "markdown",
   "metadata": {},
   "source": [
    "Напишем функцию, которая рассчитает максимальную прибыль с каждого региона. Возьмем в расчет 200 максимально продуктивных скважин."
   ]
  },
  {
   "cell_type": "code",
   "execution_count": 18,
   "metadata": {},
   "outputs": [],
   "source": [
    "def max_profit(target_valid, predicted_valid):\n",
    "    predictions_max = pd.Series(predicted_valid).sort_values(ascending=False).head(200)\n",
    "    target_max = target_valid.reset_index(drop=True)[predictions_max.index]\n",
    "    income = target_max.sum() * INCOME\n",
    "    return income"
   ]
  },
  {
   "cell_type": "code",
   "execution_count": 19,
   "metadata": {},
   "outputs": [
    {
     "name": "stdout",
     "output_type": "stream",
     "text": [
      "Первый регион: 3.32 млрд. рублей\n",
      "Второй регион: 2.42 млрд. рублей\n",
      "Третий регион: 2.71 млрд. рублей\n"
     ]
    }
   ],
   "source": [
    "print(f'Первый регион: {(max_profit(target_valid_0, predicted_valid_0) - BUDGET) / 10**9:.2f} млрд. рублей')\n",
    "print(f'Второй регион: {(max_profit(target_valid_1, predicted_valid_1) - BUDGET) / 10**9:.2f} млрд. рублей')\n",
    "print(f'Третий регион: {(max_profit(target_valid_2, predicted_valid_2) - BUDGET) / 10**9:.2f} млрд. рублей')"
   ]
  },
  {
   "cell_type": "markdown",
   "metadata": {},
   "source": [
    "Вывод: По результатам расчета максимальной предполагаемой прибыли с каждого региона было установлено макисмальное значение в первом регионе."
   ]
  },
  {
   "cell_type": "markdown",
   "metadata": {},
   "source": [
    "По условию задачи известно, что на разработку будут рассматривать 500 скважин, а разрабатывать 200 лучших из них."
   ]
  },
  {
   "cell_type": "markdown",
   "metadata": {},
   "source": [
    "## Расчёт прибыли и рисков\n"
   ]
  },
  {
   "cell_type": "markdown",
   "metadata": {},
   "source": [
    "Напишем функцию расчета прибыли. Похожа на функцию выше, но добавляется параметр count, отвечающий за количество активных строчек в валидационной выборке."
   ]
  },
  {
   "cell_type": "code",
   "execution_count": 20,
   "metadata": {},
   "outputs": [],
   "source": [
    "def revenue(target_valid, predicted_valid, count):\n",
    "    predictions_max = pd.Series(predicted_valid).sort_values(ascending=False)\n",
    "    target_max = target_valid.reset_index(drop=True)[predictions_max.index][:count]\n",
    "    return target_max.sum() * INCOME"
   ]
  },
  {
   "cell_type": "markdown",
   "metadata": {},
   "source": [
    "Напишем функцию, которая позволит отработать технику bootstrap. На выходе мы получим среднюю выручку, 2.5-й квартиль, доверительный интервал и вердикт, подходит нам расположение или нет."
   ]
  },
  {
   "cell_type": "code",
   "execution_count": 22,
   "metadata": {},
   "outputs": [],
   "source": [
    "def bootstrap_model(target, predictions, develop_dots):\n",
    "    score = 0\n",
    "    values = []\n",
    "    for i in range(1000): # так как по условию bootstrap на 1000 выборок\n",
    "        target_subsample = target.reset_index(drop=True).sample(n=develop_dots,\n",
    "                                                                replace=True,\n",
    "                                                                random_state=state\n",
    "                                                                )\n",
    "        predictions_subsample = predictions[target_subsample.index]\n",
    "        inc = revenue(target_subsample, predictions_subsample, ML_FEVELOP_DOTS) - BUDGET\n",
    "        values.append(inc)\n",
    "        if inc < 0: # подсчитываем отрицательные прибыли\n",
    "            score +=1\n",
    "\n",
    "    values = pd.Series(values)\n",
    "\n",
    "    mean = values.mean()\n",
    "    lower = values.quantile(PROBABILITY)\n",
    "\n",
    "    print(\"Средняя выручка:\", mean)\n",
    "    print(\"2.5%-квантиль:\", lower)\n",
    "    print(f\"95%-ый доверительный интервал: {values.quantile(PROBABILITY)}, {values.quantile(1-PROBABILITY)}\")\n",
    "    pvalue = 1. * score / 1000\n",
    "    if pvalue < PROBABILITY:\n",
    "        print(f\"Вероятность убытков равна {pvalue:.2%} и является меньше допустимой, регион подходит по критериям.\")\n",
    "    else:\n",
    "        print(f\"Вероятность убытков равна {pvalue:.2%} и является больше допустимой, регион не подходит по критериям.\")"
   ]
  },
  {
   "cell_type": "code",
   "execution_count": 23,
   "metadata": {},
   "outputs": [
    {
     "name": "stdout",
     "output_type": "stream",
     "text": [
      "Средняя выручка: 396164984.8023711\n",
      "2.5%-квантиль: -111215545.89049526\n",
      "95%-ый доверительный интервал: -111215545.89049526, 909766941.5534226\n",
      "Вероятность убытков равна 6.90% и является больше допустимой, регион не подходит по критериям.\n"
     ]
    }
   ],
   "source": [
    "bootstrap_model(target_valid_0, predicted_valid_0, DEVELOP_DOTS)"
   ]
  },
  {
   "cell_type": "code",
   "execution_count": 24,
   "metadata": {},
   "outputs": [
    {
     "name": "stdout",
     "output_type": "stream",
     "text": [
      "Средняя выручка: 461155817.2772397\n",
      "2.5%-квантиль: 78050810.7517417\n",
      "95%-ый доверительный интервал: 78050810.7517417, 862952060.2637234\n",
      "Вероятность убытков равна 0.70% и является меньше допустимой, регион подходит по критериям.\n"
     ]
    }
   ],
   "source": [
    "bootstrap_model(target_valid_1, predicted_valid_1, DEVELOP_DOTS)"
   ]
  },
  {
   "cell_type": "code",
   "execution_count": 25,
   "metadata": {},
   "outputs": [
    {
     "name": "stdout",
     "output_type": "stream",
     "text": [
      "Средняя выручка: 392950475.17060447\n",
      "2.5%-квантиль: -112227625.37857565\n",
      "95%-ый доверительный интервал: -112227625.37857565, 934562914.5511636\n",
      "Вероятность убытков равна 6.50% и является больше допустимой, регион не подходит по критериям.\n"
     ]
    }
   ],
   "source": [
    "bootstrap_model(target_valid_2, predicted_valid_2, DEVELOP_DOTS)"
   ]
  },
  {
   "cell_type": "markdown",
   "metadata": {},
   "source": [
    "## Вывод"
   ]
  },
  {
   "cell_type": "markdown",
   "metadata": {},
   "source": [
    "По результатам проведенной работы можно сделать вывод, что самый подходящий регион для разработки нефтяных меторождений это регион 2, так как только у него расчитанная вероятность убытков ниже допустимого значения."
   ]
  }
 ],
 "metadata": {
  "ExecuteTimeLog": [
   {
    "duration": 1934,
    "start_time": "2023-04-17T15:59:27.214Z"
   },
   {
    "duration": 671,
    "start_time": "2023-04-17T15:59:29.153Z"
   },
   {
    "duration": 361,
    "start_time": "2023-04-17T15:59:29.826Z"
   },
   {
    "duration": 312,
    "start_time": "2023-04-17T15:59:30.188Z"
   },
   {
    "duration": 16,
    "start_time": "2023-04-17T15:59:30.503Z"
   },
   {
    "duration": 160,
    "start_time": "2023-04-17T15:59:30.521Z"
   },
   {
    "duration": 15,
    "start_time": "2023-04-17T15:59:30.683Z"
   },
   {
    "duration": 213,
    "start_time": "2023-04-17T15:59:30.700Z"
   },
   {
    "duration": 17,
    "start_time": "2023-04-17T15:59:30.916Z"
   },
   {
    "duration": 204,
    "start_time": "2023-04-17T15:59:30.936Z"
   },
   {
    "duration": 26,
    "start_time": "2023-04-17T15:59:31.142Z"
   },
   {
    "duration": 25,
    "start_time": "2023-04-17T15:59:31.170Z"
   },
   {
    "duration": 8448,
    "start_time": "2023-04-17T15:59:31.197Z"
   },
   {
    "duration": 7746,
    "start_time": "2023-04-17T15:59:39.650Z"
   },
   {
    "duration": 0,
    "start_time": "2023-04-17T15:59:47.400Z"
   },
   {
    "duration": 0,
    "start_time": "2023-04-17T15:59:47.403Z"
   },
   {
    "duration": 0,
    "start_time": "2023-04-17T15:59:47.405Z"
   },
   {
    "duration": 0,
    "start_time": "2023-04-17T15:59:47.406Z"
   },
   {
    "duration": 0,
    "start_time": "2023-04-17T15:59:47.408Z"
   },
   {
    "duration": 0,
    "start_time": "2023-04-17T15:59:47.409Z"
   },
   {
    "duration": 0,
    "start_time": "2023-04-17T15:59:47.436Z"
   },
   {
    "duration": 0,
    "start_time": "2023-04-17T15:59:47.437Z"
   },
   {
    "duration": 0,
    "start_time": "2023-04-17T15:59:47.439Z"
   },
   {
    "duration": 0,
    "start_time": "2023-04-17T15:59:47.440Z"
   },
   {
    "duration": 1911,
    "start_time": "2023-04-17T16:00:04.490Z"
   },
   {
    "duration": 0,
    "start_time": "2023-04-17T16:00:06.403Z"
   },
   {
    "duration": 1,
    "start_time": "2023-04-17T16:00:06.404Z"
   },
   {
    "duration": 0,
    "start_time": "2023-04-17T16:00:06.406Z"
   },
   {
    "duration": 0,
    "start_time": "2023-04-17T16:00:06.406Z"
   },
   {
    "duration": 0,
    "start_time": "2023-04-17T16:00:06.407Z"
   },
   {
    "duration": 0,
    "start_time": "2023-04-17T16:00:06.408Z"
   },
   {
    "duration": 0,
    "start_time": "2023-04-17T16:00:06.409Z"
   },
   {
    "duration": 0,
    "start_time": "2023-04-17T16:00:06.410Z"
   },
   {
    "duration": 0,
    "start_time": "2023-04-17T16:00:06.412Z"
   },
   {
    "duration": 0,
    "start_time": "2023-04-17T16:00:06.413Z"
   },
   {
    "duration": 0,
    "start_time": "2023-04-17T16:00:06.414Z"
   },
   {
    "duration": 0,
    "start_time": "2023-04-17T16:00:06.433Z"
   },
   {
    "duration": 0,
    "start_time": "2023-04-17T16:00:06.434Z"
   },
   {
    "duration": 0,
    "start_time": "2023-04-17T16:00:06.435Z"
   },
   {
    "duration": 0,
    "start_time": "2023-04-17T16:00:06.436Z"
   },
   {
    "duration": 0,
    "start_time": "2023-04-17T16:00:06.438Z"
   },
   {
    "duration": 0,
    "start_time": "2023-04-17T16:00:06.439Z"
   },
   {
    "duration": 0,
    "start_time": "2023-04-17T16:00:06.441Z"
   },
   {
    "duration": 0,
    "start_time": "2023-04-17T16:00:06.442Z"
   },
   {
    "duration": 0,
    "start_time": "2023-04-17T16:00:06.443Z"
   },
   {
    "duration": 0,
    "start_time": "2023-04-17T16:00:06.445Z"
   },
   {
    "duration": 0,
    "start_time": "2023-04-17T16:00:06.446Z"
   },
   {
    "duration": 0,
    "start_time": "2023-04-17T16:00:06.447Z"
   },
   {
    "duration": 1620,
    "start_time": "2023-04-17T16:01:46.291Z"
   },
   {
    "duration": 214,
    "start_time": "2023-04-17T16:01:47.913Z"
   },
   {
    "duration": 188,
    "start_time": "2023-04-17T16:01:48.129Z"
   },
   {
    "duration": 179,
    "start_time": "2023-04-17T16:01:48.319Z"
   },
   {
    "duration": 17,
    "start_time": "2023-04-17T16:01:48.501Z"
   },
   {
    "duration": 159,
    "start_time": "2023-04-17T16:01:48.520Z"
   },
   {
    "duration": 14,
    "start_time": "2023-04-17T16:01:48.680Z"
   },
   {
    "duration": 150,
    "start_time": "2023-04-17T16:01:48.696Z"
   },
   {
    "duration": 12,
    "start_time": "2023-04-17T16:01:48.850Z"
   },
   {
    "duration": 127,
    "start_time": "2023-04-17T16:01:48.864Z"
   },
   {
    "duration": 17,
    "start_time": "2023-04-17T16:01:48.993Z"
   },
   {
    "duration": 36,
    "start_time": "2023-04-17T16:01:49.013Z"
   },
   {
    "duration": 9614,
    "start_time": "2023-04-17T16:01:49.051Z"
   },
   {
    "duration": 10589,
    "start_time": "2023-04-17T16:01:58.743Z"
   },
   {
    "duration": 9596,
    "start_time": "2023-04-17T16:02:09.353Z"
   },
   {
    "duration": 80,
    "start_time": "2023-04-17T16:02:18.959Z"
   },
   {
    "duration": 48,
    "start_time": "2023-04-17T16:02:19.055Z"
   },
   {
    "duration": 24,
    "start_time": "2023-04-17T16:02:19.105Z"
   },
   {
    "duration": 67,
    "start_time": "2023-04-17T16:02:19.131Z"
   },
   {
    "duration": 4,
    "start_time": "2023-04-17T16:02:19.199Z"
   },
   {
    "duration": 21,
    "start_time": "2023-04-17T16:02:19.204Z"
   },
   {
    "duration": 193,
    "start_time": "2023-04-17T16:02:19.226Z"
   },
   {
    "duration": 0,
    "start_time": "2023-04-17T16:02:19.421Z"
   },
   {
    "duration": 1,
    "start_time": "2023-04-17T16:02:19.422Z"
   },
   {
    "duration": 5,
    "start_time": "2023-04-17T16:02:54.082Z"
   },
   {
    "duration": 8,
    "start_time": "2023-04-17T16:02:54.829Z"
   },
   {
    "duration": 2310,
    "start_time": "2023-04-17T16:02:57.429Z"
   },
   {
    "duration": 2336,
    "start_time": "2023-04-17T16:03:01.081Z"
   },
   {
    "duration": 2525,
    "start_time": "2023-04-17T16:03:03.419Z"
   },
   {
    "duration": 4,
    "start_time": "2023-04-17T16:03:12.710Z"
   },
   {
    "duration": 7,
    "start_time": "2023-04-17T16:03:13.011Z"
   },
   {
    "duration": 1353,
    "start_time": "2023-04-17T16:03:13.330Z"
   },
   {
    "duration": 1356,
    "start_time": "2023-04-17T16:03:14.688Z"
   },
   {
    "duration": 1350,
    "start_time": "2023-04-17T16:03:16.047Z"
   },
   {
    "duration": 27,
    "start_time": "2023-04-17T16:07:32.292Z"
   }
  ],
  "kernelspec": {
   "display_name": "Python 3 (ipykernel)",
   "language": "python",
   "name": "python3"
  },
  "language_info": {
   "codemirror_mode": {
    "name": "ipython",
    "version": 3
   },
   "file_extension": ".py",
   "mimetype": "text/x-python",
   "name": "python",
   "nbconvert_exporter": "python",
   "pygments_lexer": "ipython3",
   "version": "3.9.5"
  },
  "toc": {
   "base_numbering": 1,
   "nav_menu": {},
   "number_sections": true,
   "sideBar": true,
   "skip_h1_title": true,
   "title_cell": "Table of Contents",
   "title_sidebar": "Contents",
   "toc_cell": false,
   "toc_position": {},
   "toc_section_display": true,
   "toc_window_display": false
  }
 },
 "nbformat": 4,
 "nbformat_minor": 2
}
